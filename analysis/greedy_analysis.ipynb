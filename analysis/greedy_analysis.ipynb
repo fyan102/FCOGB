{
 "cells": [
  {
   "cell_type": "code",
   "execution_count": 1,
   "metadata": {},
   "outputs": [],
   "source": [
    "import numpy as np\n",
    "from numpy.linalg import norm\n",
    "from itertools import combinations\n",
    "\n",
    "# def foo(Q):\n",
    "#     _, k = Q.shape\n",
    "#     res = np.zeros_like(Q)\n",
    "#     q = Q[:, 0]\n",
    "#     print(q)\n",
    "#     res[:, 0] =  q / norm(q)\n",
    "#     res[0, 0] = 1\n",
    "#     print(res)\n",
    "\n",
    "#     for i in range(1, k):\n",
    "#         O_i = res[:, :i]\n",
    "#         q = Q[:, i]\n",
    "#         print(q)\n",
    "#         q_orth = q - O_i.dot(O_i.T.dot(q))\n",
    "#         res[:, i] =  q_orth / norm(q_orth)\n",
    "#     return res\n",
    "\n",
    "def orthonormalization(Q):\n",
    "    n, k = Q.shape\n",
    "    O = np.zeros(shape=(n, k))\n",
    "    q = Q[:, 0]\n",
    "    O[:, 0] =  q / norm(q)\n",
    "\n",
    "    for i in range(1, k):\n",
    "        O_i = O[:, :i]\n",
    "        q = Q[:, i]\n",
    "        q_orth = q - O_i.dot(O_i.T.dot(q))\n",
    "        O[:, i] =  q_orth / norm(q_orth)\n",
    "    return O\n",
    "\n",
    "def non_empty_subset_indicator(d, idx=None):\n",
    "    idx = np.arange(d) if idx is None else idx\n",
    "    for l in range(1, len(idx)+1):\n",
    "        for c in combinations(idx, l):\n",
    "            col = np.zeros(d)\n",
    "            col[list(c)] = 1\n",
    "            yield col\n",
    "\n",
    "class instance:\n",
    "\n",
    "    @staticmethod\n",
    "    def random(n, t, seed=None):\n",
    "        rng = np.random.default_rng(seed)\n",
    "        Q = rng.binomial(1, 0.5, size=(n, t))\n",
    "        g = rng.normal(size=n)\n",
    "        return instance(Q, g)\n",
    "\n",
    "    def __init__(self, Q, g, keep_bf_queries=False):\n",
    "        n, k = Q.shape\n",
    "        self.n = n\n",
    "        self.k = k\n",
    "        self.Q = Q\n",
    "        self.O = orthonormalization(Q)\n",
    "        self.g = g\n",
    "        self.P = self.O.dot(self.O.T)\n",
    "        self.M = np.eye(n) - self.P\n",
    "        self.g = self.M.dot(g)\n",
    "        self.keep_bf_queries = keep_bf_queries\n",
    "\n",
    "    def orth_part_norm(self, queries):\n",
    "        return norm(self.M.dot(queries))\n",
    "\n",
    "    def selected_grad_elements(self, q):\n",
    "        return np.sort(self.g[np.flatnonzero(q)])\n",
    "\n",
    "class result:\n",
    "\n",
    "    def __init__(self, q_star, f_star, q_seq, inst):\n",
    "        self.q_star = q_star\n",
    "        self.f_star = f_star\n",
    "        self.q_seq = q_seq\n",
    "        self.inst = inst\n",
    "\n",
    "    def print_selected_elements_by_score(self, q=None, score=None, end='\\n', sep=' '):\n",
    "        q = self.q_star if q is None else q\n",
    "        score = self.inst.g if score is None else score\n",
    "        order = np.argsort(score)[::-1]\n",
    "        for i in range(self.inst.n):\n",
    "            s = f'\\x1b[31m{score[order[i]]:.3f}\\x1b[0m' if q[order[i]] else f'{score[order[i]]:.3f}'\n",
    "            print(s, end=sep if i<self.inst.n-1 else '')\n",
    "        print(end, end='')\n",
    "\n",
    "def brute_force(self, epsilon=0):\n",
    "    if self.keep_bf_queries:\n",
    "        bf_queries = np.zeros(shape=(2**self.n-1, self.n))\n",
    "    bf_gsum_ = np.zeros(2**self.n-1)\n",
    "    bf_opn_ = np.zeros(2**self.n-1)\n",
    "    bf_norms_ = np.zeros(2**self.n-1)\n",
    "\n",
    "    i_star = -1\n",
    "    obj_star = float('-inf')\n",
    "    q_star = None\n",
    "\n",
    "    for i, q in enumerate(non_empty_subset_indicator(self.n)):\n",
    "        if self.keep_bf_queries:\n",
    "            bf_queries[i, :] = q\n",
    "        bf_gsum_[i]=self.g.dot(q)\n",
    "        bf_opn_[i]=self.orth_part_norm(q)\n",
    "        bf_norms_[i]=norm(q)\n",
    "        \n",
    "        obj = (bf_gsum_[i]**2 / (bf_opn_[i] + epsilon)**2) if epsilon!=0 or bf_opn_[i]>1e-5 else 0\n",
    "        if obj > obj_star:\n",
    "            i_star = i\n",
    "            q_star = q\n",
    "            obj_star = obj\n",
    "\n",
    "    res = result(q_star, obj_star, bf_queries if self.keep_bf_queries else None, self)\n",
    "    res.i_star = i_star\n",
    "    res.gsums = bf_gsum_\n",
    "    res.op_norms = bf_opn_\n",
    "    res.norms = bf_norms_\n",
    "\n",
    "    return res\n",
    "\n",
    "    \n"
   ]
  },
  {
   "cell_type": "markdown",
   "metadata": {},
   "source": [
    "### Objective Function is Bounded by Squared Norm of Gradient\n",
    "\n",
    "We can bound the objective function by decomposing $q_\\perp$ into components parallel and orthogonal to the gradient vector, i.e.,\n",
    "\\begin{equation*}\n",
    "q_\\perp = q_{\\perp\\parallel} + q_{\\perp\\perp}\\\\\n",
    "\\end{equation*}\n",
    "where\n",
    "\\begin{equation*}\n",
    "q_{\\perp\\parallel} = \\frac{q_\\perp^Tg}{\\|g\\|^2}g \\enspace .\n",
    "\\end{equation*}\n",
    "\n",
    "Indeed, by observing that $\\|q_{\\perp\\parallel}\\|^2=(g^Tq)^2/\\|g\\|^2$ we can conclude that\n",
    "\\begin{align*}\n",
    "\\frac{(g^Tq)^2}{\\|q_\\perp\\|^2} &= \\frac{(g^Tq)^2}{\\|q_{\\perp\\parallel}\\|^2 + \\|q_{\\perp\\perp}\\|^2}\\\\\n",
    "&\\leq \\frac{(g^Tq)^2}{\\|q_{\\perp\\parallel}\\|^2}\\\\\n",
    "&=\\|g\\|^2\n",
    "\\end{align*}\n"
   ]
  },
  {
   "cell_type": "code",
   "execution_count": 2,
   "metadata": {},
   "outputs": [],
   "source": [
    "import numpy as np\n",
    "from numpy.linalg import norm\n",
    "\n",
    "RNG = np.random.default_rng(1000)\n",
    "Q = RNG.binomial(1, 0.5, size=(20, 10))\n",
    "g = RNG.normal(size=20)\n",
    "inst1 = instance(Q[:, :5], g)"
   ]
  },
  {
   "cell_type": "code",
   "execution_count": 3,
   "metadata": {},
   "outputs": [
    {
     "data": {
      "text/plain": [
       "(8.538267131385675, 10.75480867024855)"
      ]
     },
     "execution_count": 3,
     "metadata": {},
     "output_type": "execute_result"
    }
   ],
   "source": [
    "res = brute_force(inst1)\n",
    "res.f_star, norm(inst1.g)**2"
   ]
  },
  {
   "cell_type": "code",
   "execution_count": 4,
   "metadata": {},
   "outputs": [
    {
     "name": "stdout",
     "output_type": "stream",
     "text": [
      "1.330 1.120 0.915 0.906 0.832 0.595 0.143 0.130 0.013 -0.002 -0.137 \u001b[31m-0.210\u001b[0m \u001b[31m-0.390\u001b[0m \u001b[31m-0.391\u001b[0m \u001b[31m-0.490\u001b[0m \u001b[31m-0.652\u001b[0m \u001b[31m-0.764\u001b[0m \u001b[31m-0.928\u001b[0m \u001b[31m-1.015\u001b[0m \u001b[31m-1.218\u001b[0m\n"
     ]
    }
   ],
   "source": [
    "res.print_selected_elements_by_score()"
   ]
  },
  {
   "cell_type": "code",
   "execution_count": 5,
   "metadata": {},
   "outputs": [],
   "source": [
    "from matplotlib import pyplot as plt\n",
    "\n",
    "def plot_solutions(res, additional_res=None, additional_res_names=None):\n",
    "    fig, axs = plt.subplots(1, 3, figsize=(12, 4), sharey=True, tight_layout=True, squeeze=False)\n",
    "    bf_obj_ = res.gsums**2 / res.op_norms**2\n",
    "    axs[0, 0].scatter(res.norms**2, bf_obj_)\n",
    "    axs[0, 1].scatter(res.op_norms**2, bf_obj_)\n",
    "    axs[0, 2].scatter(res.gsums, bf_obj_)\n",
    "\n",
    "    additional_res = [] if additional_res is None else additional_res\n",
    "    additional_res_names = [f'$q_{i}$' for i in range(len(additional_res))]\n",
    "    all_results = [res] + additional_res\n",
    "    all_result_names = [r'$q^*$'] + additional_res_names\n",
    "    all_res_colors = ['red', 'lime', 'gold', 'magenta', 'black', 'gray'][:len(all_results)]\n",
    "    for res, name, color in zip(all_results, all_result_names, all_res_colors):\n",
    "        axs[0, 0].scatter(norm(res.q_star)**2, res.f_star, edgecolors=color, facecolors='none', label=name)\n",
    "        axs[0, 1].scatter(norm(res.inst.M.dot(res.q_star))**2, res.f_star, edgecolors=color, facecolors='none')\n",
    "        axs[0, 2].scatter(res.q_star.dot(res.inst.g), res.f_star, edgecolors=color, facecolors='none')\n",
    "    axs[0, 0].set_ylabel(r'$(q^Tg)^2/\\|q_\\perp\\|^2$')\n",
    "    axs[0, 0].set_xlabel(r'$\\|q\\|^2$')\n",
    "    axs[0, 1].set_xlabel(r'$\\|q_\\perp\\|^2$')\n",
    "    axs[0, 2].set_xlabel(r'$q^Tg$')\n",
    "    axs[0, 0].axhline(norm(res.inst.g)**2, label='$\\|g\\|^2$', linestyle='--', color='red')\n",
    "    axs[0, 1].axhline(norm(res.inst.g)**2, label='$\\|g\\|^2$', linestyle='--', color='red')\n",
    "    axs[0, 2].axhline(norm(res.inst.g)**2, label='$\\|g\\|^2$', linestyle='--', color='red')\n",
    "    axs[0, 0].legend(loc='upper right')"
   ]
  },
  {
   "cell_type": "code",
   "execution_count": 6,
   "metadata": {},
   "outputs": [
    {
     "data": {
      "image/png": "[encoded data removed]",
      "text/plain": [
       "<Figure size 864x288 with 3 Axes>"
      ]
     },
     "metadata": {
      "needs_background": "light"
     },
     "output_type": "display_data"
    }
   ],
   "source": [
    "plot_solutions(res)"
   ]
  },
  {
   "cell_type": "markdown",
   "metadata": {},
   "source": [
    "### More Systematic Test"
   ]
  },
  {
   "cell_type": "code",
   "execution_count": 7,
   "metadata": {
    "scrolled": true
   },
   "outputs": [],
   "source": [
    "smaller_instances = []\n",
    "num_instances = 2000\n",
    "def brute_force_test(epsilon=0):\n",
    "#     smaller_instances_bf_res = []\n",
    "    smaller_instances_bf_f_stars=np.array([])\n",
    "    for i in range(num_instances):\n",
    "        inst = instance.random(15, 5, i)\n",
    "        res = brute_force(inst, epsilon=epsilon)\n",
    "#         print(i, end='. ')\n",
    "#         res.print_selected_elements_by_score(end=': ')\n",
    "#         print(f'{inst.g.dot(res.q_star):.3f}', f'{res.f_star: .3f}')\n",
    "        smaller_instances.append(inst)\n",
    "#         smaller_instances_bf_res.append(res)\n",
    "        smaller_instances_bf_f_stars = np.append(smaller_instances_bf_f_stars, res.f_star)\n",
    "    return smaller_instances_bf_f_stars"
   ]
  },
  {
   "cell_type": "code",
   "execution_count": 8,
   "metadata": {
    "scrolled": true
   },
   "outputs": [],
   "source": [
    "bfe0f = brute_force_test(epsilon=0)"
   ]
  },
  {
   "cell_type": "code",
   "execution_count": 9,
   "metadata": {},
   "outputs": [],
   "source": [
    "bfe1e_3f = brute_force_test(epsilon=1e-3)"
   ]
  },
  {
   "cell_type": "code",
   "execution_count": 10,
   "metadata": {},
   "outputs": [],
   "source": [
    "bfe1e_2f = brute_force_test(epsilon=1e-2)"
   ]
  },
  {
   "cell_type": "code",
   "execution_count": 11,
   "metadata": {},
   "outputs": [],
   "source": [
    "bfe1e_1f = brute_force_test(epsilon=1e-1)"
   ]
  },
  {
   "cell_type": "code",
   "execution_count": 12,
   "metadata": {
    "scrolled": true
   },
   "outputs": [],
   "source": [
    "bfe1f = brute_force_test(epsilon=1)"
   ]
  },
  {
   "cell_type": "code",
   "execution_count": 13,
   "metadata": {
    "scrolled": true
   },
   "outputs": [],
   "source": [
    "bfe10f = brute_force_test(epsilon=10)"
   ]
  },
  {
   "cell_type": "markdown",
   "metadata": {},
   "source": [
    "## Greedy Performance"
   ]
  },
  {
   "cell_type": "code",
   "execution_count": 14,
   "metadata": {},
   "outputs": [],
   "source": [
    "def squared_grad_sum_by_squared_orth_norm(q, inst, epsilon):\n",
    "    d = norm(inst.M.dot(q))\n",
    "    return (q.dot(inst.g)**2/(norm(inst.M.dot(q)) + epsilon)**2) if epsilon!=0 or d>1e-5 else 0\n",
    "\n",
    "def best_in_greedy(inst, epsilon=0, f = squared_grad_sum_by_squared_orth_norm):\n",
    "    seq = np.zeros(shape=(inst.n+1, inst.n))\n",
    "    objs = np.zeros(inst.n+1)\n",
    "    for i in range(1, inst.n+1):\n",
    "        seq[i, :] = np.copy(seq[i-1, :])\n",
    "        j_star = -1\n",
    "        obj_star = float('-inf')\n",
    "        for j in range(inst.n):\n",
    "            if seq[i, j]: continue    \n",
    "            seq[i, j] = 1\n",
    "            obj = f(seq[i, :], inst, epsilon=epsilon)\n",
    "            if obj > obj_star:\n",
    "                j_star = j\n",
    "                obj_star = obj\n",
    "            seq[i, j] = 0\n",
    "        seq[i, j_star] = 1\n",
    "        objs[i] = obj_star\n",
    "#         print(seq[i, :])\n",
    "#     print(objs)\n",
    "    best_idx = np.argmax(objs)    \n",
    "    return result(seq[best_idx, :], objs[best_idx], seq, inst)"
   ]
  },
  {
   "cell_type": "code",
   "execution_count": 15,
   "metadata": {},
   "outputs": [],
   "source": [
    "smaller_instances_greedy_res = []\n",
    "smaller_instances_greedy_f_stars=np.array([])\n",
    "for i in range(num_instances):\n",
    "    inst = smaller_instances[i]\n",
    "    res = best_in_greedy(inst)\n",
    "#     res.print_selected_elements_by_score(end=': ')\n",
    "#     print(f'{inst.g.dot(res.q_star):.3f}', f'{res.f_star: .3f}')\n",
    "    smaller_instances_greedy_res.append(res)\n",
    "    smaller_instances_greedy_f_stars = np.append(smaller_instances_greedy_f_stars, res.f_star)"
   ]
  },
  {
   "cell_type": "markdown",
   "metadata": {},
   "source": [
    "Comparing the greedy solution to the optimal solution on our first instance, we say that the greedy algorithm \"picked the wrong horse\": based on a good objective value for a positive gradient element, it started to grow a solution with positive sum of selected gradient elements whereas the optimum solution selects a negative sum."
   ]
  },
  {
   "cell_type": "markdown",
   "metadata": {},
   "source": [
    "### Refined Greedy Strategy with \"Signed\" Objectives\n",
    "\n",
    "This suggest to a refined greedy approach to find the optimal solution that runs the greedy algorithm twice, once aiming to find the optimal \"positive solution\" and once the optimal \"negative solution\".\n",
    "\n",
    "Indeed, when working with the non-squared objective function, we can easily split it into a positive and negative part\n",
    "\\begin{equation*}\n",
    "\\max_{q \\in {\\cal Q}} \\frac{|g^Tq|}{\\|q_\\perp\\|} = \\max \\left\\{\\max_{q \\in {\\cal Q}} \\frac{g^Tq}{\\|q_\\perp\\|}, \\max_{q \\in {\\cal Q}}\\frac{-g^Tq}{\\|q_\\perp\\|} \\right\\}\n",
    "\\end{equation*}"
   ]
  },
  {
   "cell_type": "code",
   "execution_count": 16,
   "metadata": {},
   "outputs": [],
   "source": [
    "def grad_sum_by_orth_norm(q, inst, epsilon):\n",
    "    d = norm(inst.M.dot(q))\n",
    "    return (q.dot(inst.g)/(norm(inst.M.dot(q)) + epsilon)) if epsilon!=0 or d>1e-5 else 0\n",
    "\n",
    "def neg_grad_sum_by_orth_norm(q, inst, epsilon):\n",
    "    d = norm(inst.M.dot(q))\n",
    "    return (-q.dot(inst.g)/(norm(inst.M.dot(q)) + epsilon)) if epsilon!=0 or d>1e-5 else 0"
   ]
  },
  {
   "cell_type": "code",
   "execution_count": 17,
   "metadata": {},
   "outputs": [],
   "source": [
    "def best_in_greedy_pos_neg(inst, epsilon=0):\n",
    "    pos = best_in_greedy(inst, epsilon=epsilon, f=grad_sum_by_orth_norm)\n",
    "    neg = best_in_greedy(inst, epsilon=epsilon, f=neg_grad_sum_by_orth_norm)\n",
    "    if pos.f_star > neg.f_star:\n",
    "        res = pos\n",
    "    else:\n",
    "        res = neg\n",
    "    res.f_star = res.f_star**2\n",
    "    return res"
   ]
  },
  {
   "cell_type": "code",
   "execution_count": 18,
   "metadata": {},
   "outputs": [],
   "source": [
    "def greedy_pos_neg_test(epsilon=0):\n",
    "#     smaller_instances_pn_res = []\n",
    "    smaller_instances_pn_f_stars = np.array([])\n",
    "    for i in range(num_instances):\n",
    "        inst = smaller_instances[i]\n",
    "        res = best_in_greedy_pos_neg(inst, epsilon=epsilon)\n",
    "#         res.print_selected_elements_by_score(end=': ')\n",
    "#         print(f'{inst.g.dot(res.q_star):.3f}', f'{res.f_star: .3f}')\n",
    "#         smaller_instances_pn_res.append(res)\n",
    "        smaller_instances_pn_f_stars = np.append(smaller_instances_pn_f_stars, res.f_star)\n",
    "    return smaller_instances_pn_f_stars"
   ]
  },
  {
   "cell_type": "code",
   "execution_count": 19,
   "metadata": {},
   "outputs": [],
   "source": [
    "gpne0f = greedy_pos_neg_test(epsilon=0)"
   ]
  },
  {
   "cell_type": "code",
   "execution_count": 20,
   "metadata": {},
   "outputs": [],
   "source": [
    "gpne1e_3f = greedy_pos_neg_test(epsilon=1e-3)"
   ]
  },
  {
   "cell_type": "code",
   "execution_count": 21,
   "metadata": {},
   "outputs": [],
   "source": [
    "gpne1e_2f = greedy_pos_neg_test(epsilon=1e-2)"
   ]
  },
  {
   "cell_type": "code",
   "execution_count": 22,
   "metadata": {},
   "outputs": [],
   "source": [
    "gpne1e_1f = greedy_pos_neg_test(epsilon=1e-1)"
   ]
  },
  {
   "cell_type": "code",
   "execution_count": 23,
   "metadata": {},
   "outputs": [],
   "source": [
    "gpne1f = greedy_pos_neg_test(epsilon=1)"
   ]
  },
  {
   "cell_type": "code",
   "execution_count": 24,
   "metadata": {},
   "outputs": [],
   "source": [
    "gpne10f = greedy_pos_neg_test(epsilon=10)"
   ]
  },
  {
   "cell_type": "code",
   "execution_count": 25,
   "metadata": {},
   "outputs": [],
   "source": [
    "def fast_para_norms_prefix(O, ext):\n",
    "    deltas = O[ext]\n",
    "    length = len(ext)\n",
    "    okqi = np.cumsum(deltas, axis=0)\n",
    "    q_para_norms = (okqi ** 2).sum(axis=1)\n",
    "    q_orth_norms_sq = np.abs(np.arange(1, length + 1) - q_para_norms)\n",
    "    q_orth_norms = np.sqrt(q_orth_norms_sq)\n",
    "    return q_orth_norms\n",
    "\n",
    "\n",
    "def pre_order_greedy(inst, epsilon=0, f = squared_grad_sum_by_squared_orth_norm):\n",
    "    seq = np.zeros(shape=(inst.n+1, inst.n))\n",
    "    objs = np.zeros(inst.n+1)\n",
    "    order = np.argsort(inst.g)\n",
    "    g = inst.g[order]\n",
    "    O = inst.O[order]\n",
    "    num_pre = abs(np.cumsum(g))\n",
    "    num_suf = abs(np.cumsum(g[::-1]))\n",
    "    ext = np.arange(inst.n)\n",
    "    qs = fast_para_norms_prefix(O, ext) + epsilon\n",
    "    qs_neg = fast_para_norms_prefix(O, ext[::-1]) + epsilon\n",
    "    neg_bounds = np.divide(num_suf, qs_neg, out=np.zeros_like(num_suf), where=qs_neg != 0)\n",
    "    pos_bounds = np.divide(num_pre, qs, out=np.zeros_like(num_suf), where=qs != 0)\n",
    "    neg_max = np.argmax(neg_bounds)\n",
    "    pos_max = np.argmax(pos_bounds)\n",
    "#     print(pos_bounds)\n",
    "#     print(neg_bounds)\n",
    "    if neg_bounds[neg_max]>pos_bounds[pos_max]:\n",
    "        best_seq = np.zeros(inst.n)\n",
    "        selected = np.arange(0, neg_max+1)\n",
    "        best_seq[order[selected]]=1\n",
    "        obj = neg_bounds[neg_max]\n",
    "    else:\n",
    "        best_seq = np.zeros(inst.n)\n",
    "        selected = np.arange(0, pos_max+1)\n",
    "        best_seq[order[::-1][selected]]=1\n",
    "        obj = pos_bounds[pos_max]\n",
    "    return result(best_seq, obj**2, seq, inst)"
   ]
  },
  {
   "cell_type": "code",
   "execution_count": 26,
   "metadata": {},
   "outputs": [],
   "source": [
    "def pre_order_greedy_test(epsilon=0):\n",
    "#     smaller_instances_pre_res = []\n",
    "    smaller_instances_pre_f_stars = np.array([])\n",
    "    for i in range(num_instances):\n",
    "        inst = smaller_instances[i]\n",
    "        res = pre_order_greedy(inst, epsilon=epsilon)\n",
    "#         res.print_selected_elements_by_score(end=': ')\n",
    "#         print(i, f'{inst.g.dot(res.q_star):.3f}', f'{res.f_star: .3f}')\n",
    "#         smaller_instances_pre_res.append(res)\n",
    "        smaller_instances_pre_f_stars = np.append(smaller_instances_pre_f_stars, res.f_star)\n",
    "    return smaller_instances_pre_f_stars"
   ]
  },
  {
   "cell_type": "code",
   "execution_count": 27,
   "metadata": {},
   "outputs": [],
   "source": [
    "pree0f = pre_order_greedy_test(epsilon=0)"
   ]
  },
  {
   "cell_type": "code",
   "execution_count": 28,
   "metadata": {},
   "outputs": [],
   "source": [
    "pree1e_3f = pre_order_greedy_test(epsilon=1e-3)"
   ]
  },
  {
   "cell_type": "code",
   "execution_count": 29,
   "metadata": {},
   "outputs": [],
   "source": [
    "pree1e_2f = pre_order_greedy_test(epsilon=1e-2)"
   ]
  },
  {
   "cell_type": "code",
   "execution_count": 30,
   "metadata": {},
   "outputs": [],
   "source": [
    "pree1e_1f = pre_order_greedy_test(epsilon=1e-1)"
   ]
  },
  {
   "cell_type": "code",
   "execution_count": 31,
   "metadata": {},
   "outputs": [],
   "source": [
    "pree1f = pre_order_greedy_test(epsilon=1)"
   ]
  },
  {
   "cell_type": "code",
   "execution_count": 32,
   "metadata": {},
   "outputs": [],
   "source": [
    "pree10f = pre_order_greedy_test(epsilon=10)"
   ]
  },
  {
   "cell_type": "code",
   "execution_count": null,
   "metadata": {},
   "outputs": [],
   "source": []
  },
  {
   "cell_type": "code",
   "execution_count": null,
   "metadata": {},
   "outputs": [],
   "source": []
  },
  {
   "cell_type": "code",
   "execution_count": 33,
   "metadata": {
    "scrolled": true
   },
   "outputs": [
    {
     "data": {
      "text/plain": [
       "(array([1.       , 1.       , 1.       , ..., 1.       , 0.9505098,\n",
       "        1.       ]),\n",
       " array([1.        , 0.98281094, 0.94871012, ..., 1.        , 0.9505098 ,\n",
       "        0.96073593]))"
      ]
     },
     "execution_count": 33,
     "metadata": {},
     "output_type": "execute_result"
    }
   ],
   "source": [
    "ratio_pn0 = gpne0f / bfe0f\n",
    "ratio_pre0 = pree0f / bfe0f\n",
    "ratio_pn0, ratio_pre0"
   ]
  },
  {
   "cell_type": "code",
   "execution_count": 34,
   "metadata": {
    "scrolled": true
   },
   "outputs": [
    {
     "data": {
      "text/plain": [
       "(array([1.       , 1.       , 1.       , ..., 1.       , 0.9508653,\n",
       "        1.       ]),\n",
       " array([1.        , 0.9829129 , 0.94888191, ..., 1.        , 0.9508653 ,\n",
       "        0.96123492]))"
      ]
     },
     "execution_count": 34,
     "metadata": {},
     "output_type": "execute_result"
    }
   ],
   "source": [
    "ratio_pn1e_3 = gpne1e_3f / bfe1e_3f\n",
    "ratio_pre1e_3 = pree1e_3f / bfe1e_3f\n",
    "ratio_pn1e_3, ratio_pre1e_3"
   ]
  },
  {
   "cell_type": "code",
   "execution_count": 35,
   "metadata": {
    "scrolled": true
   },
   "outputs": [
    {
     "data": {
      "text/plain": [
       "(array([1.        , 1.        , 1.        , ..., 1.        , 0.95404836,\n",
       "        1.        ]),\n",
       " array([1.        , 0.98382583, 0.95042159, ..., 1.        , 0.95404836,\n",
       "        0.96571204]))"
      ]
     },
     "execution_count": 35,
     "metadata": {},
     "output_type": "execute_result"
    }
   ],
   "source": [
    "ratio_pn1e_2 = gpne1e_2f / bfe1e_2f\n",
    "ratio_pre1e_2 = pree1e_2f / bfe1e_2f\n",
    "ratio_pn1e_2, ratio_pre1e_2"
   ]
  },
  {
   "cell_type": "code",
   "execution_count": 36,
   "metadata": {
    "scrolled": true
   },
   "outputs": [
    {
     "data": {
      "text/plain": [
       "(array([1.        , 1.        , 1.        , ..., 1.        , 0.98432669,\n",
       "        0.99092552]),\n",
       " array([1.        , 0.99251904, 0.96520381, ..., 1.        , 0.98432669,\n",
       "        1.        ]))"
      ]
     },
     "execution_count": 36,
     "metadata": {},
     "output_type": "execute_result"
    }
   ],
   "source": [
    "ratio_pn1e_1 = gpne1e_1f / bfe1e_1f\n",
    "ratio_pre1e_1 = pree1e_1f / bfe1e_1f\n",
    "ratio_pn1e_1, ratio_pre1e_1"
   ]
  },
  {
   "cell_type": "code",
   "execution_count": 37,
   "metadata": {
    "scrolled": true
   },
   "outputs": [
    {
     "data": {
      "text/plain": [
       "(array([1., 1., 1., ..., 1., 1., 1.]),\n",
       " array([1.        , 1.        , 1.        , ..., 0.97513396, 1.        ,\n",
       "        1.        ]))"
      ]
     },
     "execution_count": 37,
     "metadata": {},
     "output_type": "execute_result"
    }
   ],
   "source": [
    "ratio_pn1 = gpne1f / bfe1f\n",
    "ratio_pre1 = pree1f / bfe1f\n",
    "ratio_pn1, ratio_pre1"
   ]
  },
  {
   "cell_type": "code",
   "execution_count": 38,
   "metadata": {
    "scrolled": true
   },
   "outputs": [
    {
     "data": {
      "text/plain": [
       "(array([1., 1., 1., ..., 1., 1., 1.]),\n",
       " array([1.        , 1.        , 1.        , ..., 0.97813932, 1.        ,\n",
       "        1.        ]))"
      ]
     },
     "execution_count": 38,
     "metadata": {},
     "output_type": "execute_result"
    }
   ],
   "source": [
    "ratio_pn10 = gpne10f / bfe10f\n",
    "ratio_pre10 = pree10f / bfe10f\n",
    "ratio_pn10, ratio_pre10"
   ]
  },
  {
   "cell_type": "code",
   "execution_count": 39,
   "metadata": {},
   "outputs": [],
   "source": [
    "kwargs = dict(width=0.25/20)"
   ]
  },
  {
   "cell_type": "code",
   "execution_count": 84,
   "metadata": {},
   "outputs": [
    {
     "name": "stderr",
     "output_type": "stream",
     "text": [
      "/tmp/ipykernel_10771/1297173853.py:18: UserWarning: FixedFormatter should only be used together with FixedLocator\n",
      "  axs[0, i].set_yticklabels(['%1.1f%%' %i for i in vals])\n"
     ]
    },
    {
     "data": {
      "image/png": "[encoded data removed]",
      "text/plain": [
       "<Figure size 864x288 with 3 Axes>"
      ]
     },
     "metadata": {
      "needs_background": "light"
     },
     "output_type": "display_data"
    }
   ],
   "source": [
    "from matplotlib import pyplot as plt\n",
    "\n",
    "def plot_hists(res_pns, res_pres, filename):\n",
    "    heights_pres=[]\n",
    "    heights_pns=[]\n",
    "    fig, axs = plt.subplots(1, 3, figsize=(12, 4), sharey=True, sharex=True, tight_layout=True, squeeze=False)\n",
    "    for i in range(3):\n",
    "        heights_pre, bins = np.histogram(res_pres[i], 20, range=(0.75, 1))\n",
    "#         print(heights_pre/20, bins)\n",
    "        heights_pn, _ = np.histogram(res_pns[i], bins)\n",
    "        heights_pns.append(heights_pn)\n",
    "        heights_pres.append(heights_pre)\n",
    "        axs[0, i].bar(bins[1:], heights_pre/sum(heights_pre)*100, label = 'pre-sort greedy', edgecolor='blue', align=\"edge\",alpha=0.6, **kwargs)\n",
    "        axs[0, i].bar(bins[1:], heights_pn/sum(heights_pn)*100, label='greedy', align=\"edge\", edgecolor='orange',alpha=0.5,  **kwargs)\n",
    "        axs[0, i].grid()\n",
    "        axs[0, i].set_yscale('log')\n",
    "        vals = axs[0, i].get_yticks()\n",
    "        axs[0, i].set_yticklabels(['%1.1f%%' %i for i in vals])\n",
    "    axs[0, 0].set_xlabel(r\"$obj_{g}(q)/obj^*(q)$\")\n",
    "    axs[0, 0].set_title(r\"$\\epsilon=0.001$\")\n",
    "    axs[0, 1].set_title(r\"$\\epsilon=0.1$\")\n",
    "    axs[0, 2].set_title(r\"$\\epsilon=1$\")\n",
    "    axs[0, 0].set_ylabel(r'Ratio of instances')\n",
    "    axs[0, 0].legend(loc='upper left')\n",
    "    fig.savefig(filename)\n",
    "    return heights_pres, heights_pns\n",
    "pre, pn=plot_hists([ratio_pn1e_3, ratio_pn1e_1, ratio_pn1], [ratio_pre1e_3, ratio_pre1e_1, ratio_pre1], filename='combined_greedy.pdf')"
   ]
  },
  {
   "cell_type": "code",
   "execution_count": 90,
   "metadata": {},
   "outputs": [
    {
     "data": {
      "text/markdown": [
       "The following table shows the ratios of instances where the pre-sort greedy / greedy reaches 90%, 95%, 100% of the optimal bounding values:"
      ],
      "text/plain": [
       "<IPython.core.display.Markdown object>"
      ]
     },
     "metadata": {},
     "output_type": "display_data"
    },
    {
     "data": {
      "text/markdown": [
       "\n",
       "$\\epsilon$ |pre-sort/obj*>=90%|greedy/obj*>=90%|pre-sort/obj*>=95%|greedy/obj*>=95%|pre-sort/obj*=100%|greedy/obj*=100%\n",
       "---|---|---|---|---|---|---\n",
       "0.001 | 0.8811028144744399|0.9737484737484737|0.6553704767375071|0.9169719169719169|0.33199310740953475|0.7686202686202687|\n",
       "    0.1 | 0.9079646017699115|0.9831038798498123|0.7014749262536873|0.9392991239048811|0.3687315634218289|0.7959949937421777|\n",
       "    1 | 0.9933598937583001|0.9986693280106453|0.9243027888446215|0.9900199600798403|0.6328021248339973|0.929474384564205|\n",
       "    "
      ],
      "text/plain": [
       "<IPython.core.display.Markdown object>"
      ]
     },
     "metadata": {},
     "output_type": "display_data"
    }
   ],
   "source": [
    "from IPython.display import display, Markdown\n",
    "epsilons=[0.001, 0.1, 1]\n",
    "\n",
    "output_string=rf\"\"\"\n",
    "$\\epsilon$ |pre-sort/obj*>=90%|greedy/obj*>=90%|pre-sort/obj*>=95%|greedy/obj*>=95%|pre-sort/obj*=100%|greedy/obj*=100%\n",
    "---|---|---|---|---|---|---\n",
    "\"\"\"\n",
    "for i in range(3):\n",
    "    output_string+=rf\"\"\"{epsilons[i] } | {sum(pre[i][-9:])/sum(pre[i])}|{sum(pn[i][-9:])/sum(pn[i])}|{sum(pre[i][-5:])/sum(pre[i])}|{sum(pn[i][-5:])/sum(pn[i])}|{sum(pre[i][-1:])/sum(pre[i])}|{sum(pn[i][-1:])/sum(pn[i])}|\n",
    "    \"\"\"\n",
    "display(Markdown(\"The following table shows the ratios of instances where the pre-sort greedy / greedy reaches 90%, 95%, 100% of the optimal bounding values:\"))\n",
    "display(Markdown(output_string))"
   ]
  },
  {
   "cell_type": "code",
   "execution_count": 41,
   "metadata": {},
   "outputs": [
    {
     "data": {
      "image/png": "[encoded data removed]",
      "text/plain": [
       "<Figure size 432x288 with 1 Axes>"
      ]
     },
     "metadata": {
      "needs_background": "light"
     },
     "output_type": "display_data"
    }
   ],
   "source": [
    "plt.hist([ratio_pn0, ratio_pre0], label=['greedy', 'pre_sort greedy'], **kwargs)\n",
    "plt.grid()\n",
    "plt.legend()\n",
    "plt.ylabel(\"Number of instances\")\n",
    "plt.xlabel(r\"$obj_{g}(q)/obj^*(q)$\")\n",
    "plt.savefig(\"greedy_pn0.pdf\")"
   ]
  },
  {
   "cell_type": "code",
   "execution_count": 42,
   "metadata": {},
   "outputs": [
    {
     "data": {
      "image/png": "[encoded data removed]",
      "text/plain": [
       "<Figure size 432x288 with 1 Axes>"
      ]
     },
     "metadata": {
      "needs_background": "light"
     },
     "output_type": "display_data"
    }
   ],
   "source": [
    "plt.hist([ratio_pn1e_3, ratio_pre1e_3], label=['greedy', 'pre_sort greedy'], **kwargs)\n",
    "plt.grid()\n",
    "plt.legend()\n",
    "plt.ylabel(\"Number of instances\")\n",
    "plt.xlabel(r\"$obj_{g}(q)/obj^*(q)$\")\n",
    "plt.savefig(\"greedy_pn1e_3.pdf\")"
   ]
  },
  {
   "cell_type": "code",
   "execution_count": 43,
   "metadata": {},
   "outputs": [
    {
     "data": {
      "image/png": "[encoded data removed]",
      "text/plain": [
       "<Figure size 432x288 with 1 Axes>"
      ]
     },
     "metadata": {
      "needs_background": "light"
     },
     "output_type": "display_data"
    }
   ],
   "source": [
    "plt.hist([ratio_pn1e_2, ratio_pre1e_2], label=['greedy', 'pre_sort greedy'], **kwargs)\n",
    "plt.grid()\n",
    "plt.legend()\n",
    "plt.ylabel(\"Number of instances\")\n",
    "plt.xlabel(r\"$obj_{g}(q)/obj^*(q)$\")\n",
    "plt.savefig(\"greedy_pn1e_2.pdf\")"
   ]
  },
  {
   "cell_type": "code",
   "execution_count": 44,
   "metadata": {},
   "outputs": [
    {
     "data": {
      "image/png": "[encoded data removed]",
      "text/plain": [
       "<Figure size 432x288 with 1 Axes>"
      ]
     },
     "metadata": {
      "needs_background": "light"
     },
     "output_type": "display_data"
    }
   ],
   "source": [
    "plt.hist([ratio_pn1e_1, ratio_pre1e_1], label=['greedy', 'pre_sort greedy'], **kwargs)\n",
    "plt.grid()\n",
    "plt.legend()\n",
    "plt.ylabel(\"Number of instances\")\n",
    "plt.xlabel(r\"$obj_{g}(q)/obj^*(q)$\")\n",
    "plt.savefig(\"greedy_pn1e_1.pdf\")"
   ]
  },
  {
   "cell_type": "code",
   "execution_count": 45,
   "metadata": {},
   "outputs": [
    {
     "data": {
      "image/png": "[encoded data removed]",
      "text/plain": [
       "<Figure size 432x288 with 1 Axes>"
      ]
     },
     "metadata": {
      "needs_background": "light"
     },
     "output_type": "display_data"
    }
   ],
   "source": [
    "plt.hist([ratio_pn1, ratio_pre1], label=['greedy', 'pre_sort greedy'], **kwargs)\n",
    "plt.grid()\n",
    "plt.legend()\n",
    "plt.ylabel(\"Number of instances\")\n",
    "plt.xlabel(r\"$obj_{g}(q)/obj^*(q)$\")\n",
    "plt.savefig(\"greedy_pn1e0.pdf\")"
   ]
  },
  {
   "cell_type": "code",
   "execution_count": 46,
   "metadata": {},
   "outputs": [
    {
     "data": {
      "image/png": "[encoded data removed]",
      "text/plain": [
       "<Figure size 432x288 with 1 Axes>"
      ]
     },
     "metadata": {
      "needs_background": "light"
     },
     "output_type": "display_data"
    }
   ],
   "source": [
    "plt.hist([ratio_pn10, ratio_pre10], label=['greedy', 'pre_sort greedy'], **kwargs)\n",
    "plt.grid()\n",
    "plt.legend()\n",
    "plt.ylabel(\"Number of instances\")\n",
    "plt.xlabel(r\"$obj_{g}(q)/obj^*(q)$\")\n",
    "plt.savefig(\"greedy_pn10.pdf\")"
   ]
  },
  {
   "cell_type": "code",
   "execution_count": 47,
   "metadata": {},
   "outputs": [
    {
     "ename": "ZeroDivisionError",
     "evalue": "division by zero",
     "output_type": "error",
     "traceback": [
      "\u001b[0;31m---------------------------------------------------------------------------\u001b[0m",
      "\u001b[0;31mZeroDivisionError\u001b[0m                         Traceback (most recent call last)",
      "\u001b[0;32m/tmp/ipykernel_10771/156283772.py\u001b[0m in \u001b[0;36m<module>\u001b[0;34m\u001b[0m\n\u001b[0;32m----> 1\u001b[0;31m \u001b[0;36m1\u001b[0m\u001b[0;34m/\u001b[0m\u001b[0;36m0\u001b[0m\u001b[0;34m\u001b[0m\u001b[0;34m\u001b[0m\u001b[0m\n\u001b[0m\u001b[1;32m      2\u001b[0m \u001b[0;31m# Stop here\u001b[0m\u001b[0;34m\u001b[0m\u001b[0;34m\u001b[0m\u001b[0;34m\u001b[0m\u001b[0m\n",
      "\u001b[0;31mZeroDivisionError\u001b[0m: division by zero"
     ]
    }
   ],
   "source": [
    "1/0\n",
    "# Stop here"
   ]
  },
  {
   "cell_type": "code",
   "execution_count": null,
   "metadata": {},
   "outputs": [],
   "source": []
  },
  {
   "cell_type": "code",
   "execution_count": null,
   "metadata": {},
   "outputs": [],
   "source": [
    "plt.hist([ratio], label=['greedy (ps)'], histtype='bar', log=True, density=True)\n",
    "plt.grid()\n",
    "# plt.legend()\n",
    "plt.ylabel(\"Density of instances\")\n",
    "plt.xlabel(r\"$obj_{g}(q)/obj^*(q)$\")\n",
    "plt.savefig(\"greedy_pn.pdf\")"
   ]
  },
  {
   "cell_type": "code",
   "execution_count": null,
   "metadata": {},
   "outputs": [],
   "source": [
    "ratio_greedy.min()"
   ]
  },
  {
   "cell_type": "code",
   "execution_count": null,
   "metadata": {},
   "outputs": [],
   "source": [
    "plt.hist(ratio_greedy)"
   ]
  },
  {
   "cell_type": "code",
   "execution_count": null,
   "metadata": {},
   "outputs": [],
   "source": []
  },
  {
   "cell_type": "code",
   "execution_count": null,
   "metadata": {},
   "outputs": [],
   "source": []
  },
  {
   "cell_type": "code",
   "execution_count": null,
   "metadata": {},
   "outputs": [],
   "source": []
  },
  {
   "cell_type": "code",
   "execution_count": null,
   "metadata": {},
   "outputs": [],
   "source": [
    "smaller_instances_ref_greedy_res = []\n",
    "\n",
    "for inst in smaller_instances:\n",
    "    res1 = best_in_greedy(inst, f=grad_sum_by_orth_norm)\n",
    "    res2 = best_in_greedy(inst, f=neg_grad_sum_by_orth_norm)\n",
    "    res = res1 if res1.f_star >= res2.f_star else res2\n",
    "    res.f_star = res.f_star**2\n",
    "    smaller_instances_ref_greedy_res.append(res)"
   ]
  },
  {
   "cell_type": "code",
   "execution_count": null,
   "metadata": {},
   "outputs": [],
   "source": [
    "import math\n",
    "\n",
    "def compare_results_by_score(inst, *results):\n",
    "    for res in results:\n",
    "        res.print_selected_elements_by_score(end=': ')\n",
    "        print(f'{res.f_star}')\n",
    "\n",
    "subopt_instances = []\n",
    "subopt_relgaps = []\n",
    "for i, (inst, res_bf, res_greedy) in enumerate(zip(smaller_instances, smaller_instances_bf_res, smaller_instances_ref_greedy_res)):\n",
    "    if not math.isclose(res_bf.f_star, res_greedy.f_star):\n",
    "        gap = (res_bf.f_star - res_greedy.f_star)/res_bf.f_star\n",
    "        # print('refined greedy suboptimal on instance', i, 'by', gap)\n",
    "        subopt_instances.append(i)\n",
    "        subopt_relgaps.append(gap)\n",
    "        # compare_results_by_score(inst, res_bf, res_greedy)\n",
    "    # plot_solutions(smaller_instances_bf_res[0])\n",
    "\n",
    "subopt_instances = np.array(subopt_instances)\n",
    "subopt_relgaps = np.array(subopt_relgaps)\n",
    "\n",
    "print(len(subopt_instances), 'instances where greedy is suboptimal')\n",
    "order = np.argsort(subopt_relgaps)[::-1]\n",
    "print('the 10 most severe are: ')\n",
    "print(subopt_instances[order[:10]])\n",
    "print(subopt_relgaps[order[:10]])"
   ]
  },
  {
   "cell_type": "code",
   "execution_count": null,
   "metadata": {},
   "outputs": [],
   "source": [
    "inst, res_bf, res_greedy = smaller_instances[10], smaller_instances_bf_res[10], smaller_instances_ref_greedy_res[10]\n",
    "compare_results_by_score(inst, res_bf, res_greedy)\n",
    "plot_solutions(smaller_instances_bf_res[10], additional_res=[res_greedy])\n"
   ]
  },
  {
   "cell_type": "code",
   "execution_count": null,
   "metadata": {},
   "outputs": [],
   "source": [
    "res_greedy_neg = best_in_greedy(inst, f=neg_grad_sum_by_orth_norm)\n",
    "res_greedy_neg.print_selected_elements_by_score()\n",
    "print(res_greedy_neg.f_star**2)\n",
    "print(norm(inst.M.dot(res_greedy_neg.q_star)))\n",
    "print(norm(inst.M.dot(res_bf.q_star)))"
   ]
  },
  {
   "cell_type": "code",
   "execution_count": null,
   "metadata": {},
   "outputs": [],
   "source": [
    "plot_solutions(smaller_instances_bf_res[69], [smaller_instances_ref_greedy_res[69]])"
   ]
  },
  {
   "cell_type": "code",
   "execution_count": null,
   "metadata": {},
   "outputs": [],
   "source": [
    "plot_solutions(smaller_instances_bf_res[3], [smaller_instances_ref_greedy_res[3]])"
   ]
  },
  {
   "cell_type": "markdown",
   "metadata": {},
   "source": [
    "### Intermediate Conclusion\n",
    "\n",
    "Despite an overall very good performance, it seems that the refined greedy algorithm does not guarantee to find the optimal solution. Eight of the 30/100 optimality violations can be attributed to numerical instability where the optimal solution is either incorrect or at least pointing to a weaknesses of the objective function itself. The other 22 appear to be genuine problems with the largest relative performance gap of about 11%.\n",
    "\n",
    "In any case, the numerical instability motivates regularising the objective function, and it is a possibility that such regularization will also further improve the performance of the greedy algorithm outside of strictly pathological instances."
   ]
  },
  {
   "cell_type": "markdown",
   "metadata": {},
   "source": [
    "## Regularised Objective Function\n",
    "\n",
    "Because we are interested int the signed version of the objective function for the greedy algorithm, it makes sense to apply regularization to the non-squared version:\n",
    "\n",
    "\\begin{align*}\n",
    "\\frac{|g^Tq|}{\\|q_\\perp\\|+\\epsilon} &\\leq \\frac{|g^q|}{|g^Tq|/\\|g\\| + \\epsilon}\\\\\n",
    "&= \\frac{\\|g\\|}{1 + \\epsilon \\|g\\| / |g^Tq|}\n",
    "\\end{align*}\n"
   ]
  },
  {
   "cell_type": "code",
   "execution_count": null,
   "metadata": {},
   "outputs": [],
   "source": []
  },
  {
   "cell_type": "code",
   "execution_count": null,
   "metadata": {},
   "outputs": [],
   "source": []
  },
  {
   "cell_type": "code",
   "execution_count": null,
   "metadata": {},
   "outputs": [],
   "source": []
  },
  {
   "cell_type": "code",
   "execution_count": null,
   "metadata": {},
   "outputs": [],
   "source": []
  },
  {
   "cell_type": "code",
   "execution_count": null,
   "metadata": {},
   "outputs": [],
   "source": []
  },
  {
   "cell_type": "code",
   "execution_count": null,
   "metadata": {},
   "outputs": [],
   "source": []
  },
  {
   "cell_type": "markdown",
   "metadata": {},
   "source": [
    "## Old"
   ]
  },
  {
   "cell_type": "code",
   "execution_count": null,
   "metadata": {},
   "outputs": [],
   "source": [
    "def compare_results_by_score(inst, res):\n",
    "    res.print_selected_elements_by_score(end=': ')\n",
    "    print(f'{res.f_star}')\n",
    "    res1 = best_in_greedy(inst)\n",
    "    res1.print_selected_elements_by_score(end=': ')\n",
    "    print(res1.f_star)\n",
    "    res2 = best_in_greedy(inst, f=grad_sum_by_orth_norm)\n",
    "    res2.print_selected_elements_by_score(end=': ')\n",
    "    print(squared_grad_sum_by_squared_orth_norm(res2.q_star, inst))\n",
    "    res3 = best_in_greedy(inst, f=neg_grad_sum_by_orth_norm)\n",
    "    res3.print_selected_elements_by_score(end=': ')\n",
    "    print(squared_grad_sum_by_squared_orth_norm(res3.q_star, inst))\n",
    "    print()\n",
    "\n",
    "for i, (inst, bf_res) in zip(smaller_instances, smaller_instances_bf_res):\n",
    "    compare_results_by_score(inst, res)"
   ]
  },
  {
   "cell_type": "code",
   "execution_count": null,
   "metadata": {},
   "outputs": [],
   "source": [
    "inst = smaller_instances[1]\n",
    "for i in range(0, inst.n+1):\n",
    "    res = best_in_greedy(inst)\n",
    "    inst.print_selected_elements_by_score(res.q_seq[i], end=': ')\n",
    "    print(squared_grad_sum_by_squared_orth_norm(res.q_seq[i], inst))"
   ]
  },
  {
   "cell_type": "code",
   "execution_count": null,
   "metadata": {},
   "outputs": [],
   "source": [
    "from matplotlib import pyplot as plt\n",
    "\n",
    "def plot_solutions(inst):\n",
    "    fig, axs = plt.subplots(1, 3, figsize=(12, 4), sharey=True, tight_layout=True, squeeze=False)\n",
    "    bf_obj_ = inst.bf_gsum_**2 / inst.bf_opn_**2\n",
    "    axs[0, 0].scatter(inst.bf_norms_**2, bf_obj_)\n",
    "    axs[0, 1].scatter(inst.bf_opn_**2, bf_obj_)\n",
    "    axs[0, 2].scatter(inst.bf_gsum_, bf_obj_)\n",
    "    axs[0, 0].scatter(norm(inst.q_star)**2, inst.obj_star, edgecolors='red', facecolors='none', label=r'$q^*$')\n",
    "    axs[0, 1].scatter(norm(inst.M.dot(inst.q_star))**2, inst.obj_star, edgecolors='red', facecolors='none')\n",
    "    axs[0, 2].scatter(inst.q_star.dot(inst.g), inst.obj_star, edgecolors='red', facecolors='none')\n",
    "    axs[0, 0].set_ylabel(r'$(q^Tg)^2/\\|q_\\perp\\|^2$')\n",
    "    axs[0, 0].set_xlabel(r'$\\|q\\|^2$')\n",
    "    axs[0, 1].set_xlabel(r'$\\|q_\\perp\\|^2$')\n",
    "    axs[0, 2].set_xlabel(r'$q^Tg$')\n",
    "    axs[0, 0].axhline(norm(inst.g)**2, label='$\\|g\\|^2$', linestyle='--', color='red')\n",
    "    axs[0, 1].axhline(norm(inst.g)**2, label='$\\|g\\|^2$', linestyle='--', color='red')\n",
    "    axs[0, 2].axhline(norm(inst.g)**2, label='$\\|g\\|^2$', linestyle='--', color='red')\n",
    "    axs[0, 0].legend(loc='upper right')\n",
    "\n",
    "plot_solutions(inst1)\n",
    "plt.show()"
   ]
  },
  {
   "cell_type": "code",
   "execution_count": null,
   "metadata": {},
   "outputs": [],
   "source": [
    "plot_solutions(smaller_instances[3])"
   ]
  },
  {
   "cell_type": "code",
   "execution_count": null,
   "metadata": {},
   "outputs": [],
   "source": [
    "R = np.triu(np.ones(shape=(n, n)))\n",
    "(M.dot(R)**2).sum(axis=0)"
   ]
  },
  {
   "cell_type": "code",
   "execution_count": null,
   "metadata": {},
   "outputs": [],
   "source": [
    "(M.dot(np.eye(n))**2).sum(axis=0)"
   ]
  },
  {
   "cell_type": "code",
   "execution_count": null,
   "metadata": {},
   "outputs": [],
   "source": [
    "order = np.argsort(((np.eye(n) - O.dot(O.T)).dot(np.eye(n))**2).sum(axis=0))\n",
    "order"
   ]
  },
  {
   "cell_type": "code",
   "execution_count": null,
   "metadata": {},
   "outputs": [],
   "source": [
    "point_orth_scores = (M.dot(np.eye(n))**2).sum(axis=0)\n",
    "point_orth_scores"
   ]
  },
  {
   "cell_type": "code",
   "execution_count": null,
   "metadata": {},
   "outputs": [],
   "source": [
    "point_par_scores = (P.dot(np.eye(n))**2).sum(axis=0)\n",
    "point_par_scores"
   ]
  },
  {
   "cell_type": "code",
   "execution_count": null,
   "metadata": {},
   "outputs": [],
   "source": [
    "R = np.cumsum(np.eye(n)[order, :], axis=0).T\n",
    "R[:, : 4]"
   ]
  },
  {
   "cell_type": "code",
   "execution_count": null,
   "metadata": {},
   "outputs": [],
   "source": [
    "(M.dot(R)**2).sum(axis=0)"
   ]
  },
  {
   "cell_type": "code",
   "execution_count": null,
   "metadata": {},
   "outputs": [],
   "source": [
    "g"
   ]
  },
  {
   "cell_type": "code",
   "execution_count": null,
   "metadata": {},
   "outputs": [],
   "source": [
    "order = np.argsort(g)[::-1]\n",
    "g[order]"
   ]
  },
  {
   "cell_type": "code",
   "execution_count": null,
   "metadata": {},
   "outputs": [],
   "source": [
    "R = np.cumsum(np.eye(n)[order, :], axis=0).T\n",
    "R[:, : 4]"
   ]
  },
  {
   "cell_type": "code",
   "execution_count": null,
   "metadata": {},
   "outputs": [],
   "source": [
    "def prefix_matrix(order):\n",
    "    return np.cumsum(np.eye(n)[order, :], axis=0).T\n",
    "\n",
    "def obj_values_of_prefixes(order):\n",
    "    R = prefix_matrix(order)\n",
    "    return g.dot(R)**2 / (M.dot(R)**2).sum(axis=0)"
   ]
  },
  {
   "cell_type": "code",
   "execution_count": null,
   "metadata": {},
   "outputs": [],
   "source": [
    "def squared_proj_length(queries):\n",
    "    return (M.dot(queries)**2).sum(axis=0)"
   ]
  },
  {
   "cell_type": "code",
   "execution_count": null,
   "metadata": {},
   "outputs": [],
   "source": [
    "def obj(queries):\n",
    "    return g.dot(queries)**2 / squared_proj_length(queries)"
   ]
  },
  {
   "cell_type": "code",
   "execution_count": null,
   "metadata": {},
   "outputs": [],
   "source": [
    "from itertools import combinations\n",
    "\n",
    "def non_empty_subset_indicator(d, idx=None):\n",
    "    idx = np.arange(d) if idx is None else idx\n",
    "    for l in range(1, len(idx)+1):\n",
    "        for c in combinations(idx, l):\n",
    "            col = np.zeros(d)\n",
    "            col[list(c)] = 1\n",
    "            yield col\n",
    "\n",
    "def non_empty_subset_matrix(d, idx=None):\n",
    "    idx = np.arange(d) if idx is None else idx\n",
    "    res = np.zeros(shape=(d, 2**len(idx)-1))\n",
    "    j = 0\n",
    "    for l in range(1, len(idx)+1):\n",
    "        for c in combinations(idx, l):\n",
    "            col = np.zeros(d)\n",
    "            col[list(c)] = 1\n",
    "            res[:, j] = col\n",
    "            j+= 1\n",
    "    return res"
   ]
  },
  {
   "cell_type": "code",
   "execution_count": null,
   "metadata": {},
   "outputs": [],
   "source": [
    "# bfc_spl = squared_proj_length(bfc)\n",
    "# g_sum = g.dot(bfc)\n",
    "\n",
    "bfcg_gsum = np.zeros(2**n-1)\n",
    "bfcg_spl = np.zeros(2**n-1)\n",
    "\n",
    "for i, q in enumerate(non_empty_subset_indicator(20)):\n",
    "    bfcg_gsum[i]=g.dot(q)\n",
    "    bfcg_spl[i]=squared_proj_length(q)\n",
    "    "
   ]
  },
  {
   "cell_type": "code",
   "execution_count": null,
   "metadata": {},
   "outputs": [],
   "source": [
    "from matplotlib import pyplot as plt\n",
    "\n",
    "bfc = non_empty_subset_matrix(n)\n",
    "bfc_spl = squared_proj_length(bfc)\n",
    "bfc_gsum = g.dot(bfc)\n",
    "plt.scatter(bfc_spl[:], bfc_gsum[:]**2/bfc_spl[:], alpha=0.5)\n",
    "plt.show()"
   ]
  },
  {
   "cell_type": "code",
   "execution_count": null,
   "metadata": {},
   "outputs": [],
   "source": [
    "bfc_obj = bfc_gsum**2 / bfc_spl\n",
    "np.argmax(bfc_obj)"
   ]
  },
  {
   "cell_type": "code",
   "execution_count": null,
   "metadata": {},
   "outputs": [],
   "source": [
    "(bfcg_spl - bfc_spl).max()"
   ]
  },
  {
   "cell_type": "code",
   "execution_count": null,
   "metadata": {},
   "outputs": [],
   "source": [
    "bfc_obj[np.argmax(bfc_obj)]"
   ]
  },
  {
   "cell_type": "code",
   "execution_count": null,
   "metadata": {},
   "outputs": [],
   "source": [
    "q_max = bfc[:, np.argmax(bfc_obj)]\n",
    "q_max"
   ]
  },
  {
   "cell_type": "code",
   "execution_count": null,
   "metadata": {},
   "outputs": [],
   "source": [
    "np.flatnonzero(q_max)"
   ]
  },
  {
   "cell_type": "code",
   "execution_count": null,
   "metadata": {},
   "outputs": [],
   "source": [
    "g[np.flatnonzero(q_max)]"
   ]
  },
  {
   "cell_type": "code",
   "execution_count": null,
   "metadata": {},
   "outputs": [],
   "source": [
    "q_max_ = np.copy(q_max)\n",
    "q_max_[7] = 0\n",
    "q_max_"
   ]
  },
  {
   "cell_type": "code",
   "execution_count": null,
   "metadata": {},
   "outputs": [],
   "source": [
    "g[np.flatnonzero(q_max_)].sum()**2"
   ]
  },
  {
   "cell_type": "code",
   "execution_count": null,
   "metadata": {},
   "outputs": [],
   "source": [
    "g.dot(q_max)**2, squared_proj_length(q_max), g.dot(q_max)**2/squared_proj_length(q_max)"
   ]
  },
  {
   "cell_type": "code",
   "execution_count": null,
   "metadata": {},
   "outputs": [],
   "source": [
    "g.dot(q_max_)**2, squared_proj_length(q_max_), g.dot(q_max_)**2/squared_proj_length(q_max_)"
   ]
  },
  {
   "cell_type": "code",
   "execution_count": null,
   "metadata": {},
   "outputs": [],
   "source": [
    "np.sort(g[np.flatnonzero(bfc[:, np.argmax(bfc_obj)])])"
   ]
  },
  {
   "cell_type": "code",
   "execution_count": null,
   "metadata": {},
   "outputs": [],
   "source": [
    "np.sort(g)"
   ]
  },
  {
   "cell_type": "code",
   "execution_count": null,
   "metadata": {},
   "outputs": [],
   "source": [
    "norm(g)**2"
   ]
  },
  {
   "cell_type": "code",
   "execution_count": null,
   "metadata": {},
   "outputs": [],
   "source": [
    "i_min_spl = np.argmin(bfc_spl)\n",
    "i_min_spl"
   ]
  },
  {
   "cell_type": "code",
   "execution_count": null,
   "metadata": {},
   "outputs": [],
   "source": [
    "q_min_spl = bfc[:, i_min_spl]\n",
    "q_min_spl"
   ]
  },
  {
   "cell_type": "code",
   "execution_count": null,
   "metadata": {},
   "outputs": [],
   "source": [
    "(M.dot(q_min_spl)**2).sum()"
   ]
  },
  {
   "cell_type": "code",
   "execution_count": null,
   "metadata": {},
   "outputs": [],
   "source": [
    "g.dot(q_min_spl) / (M.dot(q_min_spl)**2).sum()"
   ]
  },
  {
   "cell_type": "code",
   "execution_count": null,
   "metadata": {},
   "outputs": [],
   "source": [
    "g.dot(bfc)[i_min_spl]**2"
   ]
  },
  {
   "cell_type": "code",
   "execution_count": null,
   "metadata": {},
   "outputs": [],
   "source": [
    "bfc_spl[np.argmin(bfc_spl[1:])]"
   ]
  },
  {
   "cell_type": "code",
   "execution_count": null,
   "metadata": {},
   "outputs": [],
   "source": [
    "np.argmin(bfc_spl[1:])"
   ]
  },
  {
   "cell_type": "code",
   "execution_count": null,
   "metadata": {},
   "outputs": [],
   "source": [
    "bfc_spl[1:][np.argmin(bfc_spl[1:])]"
   ]
  },
  {
   "cell_type": "code",
   "execution_count": null,
   "metadata": {},
   "outputs": [],
   "source": [
    "M.dot(q_min)"
   ]
  },
  {
   "cell_type": "code",
   "execution_count": null,
   "metadata": {},
   "outputs": [],
   "source": [
    "g.dot(bfc[:, np.argmin(bfc_spl[1:])])"
   ]
  },
  {
   "cell_type": "code",
   "execution_count": null,
   "metadata": {},
   "outputs": [],
   "source": [
    "prefix_matrix(np.arange(4))"
   ]
  },
  {
   "cell_type": "code",
   "execution_count": null,
   "metadata": {},
   "outputs": [],
   "source": [
    "g.dot(prefix_matrix(np.arange(10)))**2"
   ]
  },
  {
   "cell_type": "code",
   "execution_count": null,
   "metadata": {},
   "outputs": [],
   "source": [
    "M.dot(prefix_matrix(np.arange(10)))"
   ]
  },
  {
   "cell_type": "code",
   "execution_count": null,
   "metadata": {},
   "outputs": [],
   "source": [
    "g.dot(powerset_matrix(20))"
   ]
  },
  {
   "cell_type": "code",
   "execution_count": null,
   "metadata": {},
   "outputs": [],
   "source": [
    "R = prefix_matrix(np.argsort(g)[::-1])\n",
    "g.T.dot(R)**2 / (M.dot(R)**2).sum(axis=0)"
   ]
  },
  {
   "cell_type": "code",
   "execution_count": null,
   "metadata": {},
   "outputs": [],
   "source": [
    "obj_values_of_prefixes(np.argsort(g)[::-1])"
   ]
  },
  {
   "cell_type": "code",
   "execution_count": null,
   "metadata": {},
   "outputs": [],
   "source": [
    "from itertools import combinations\n",
    "\n",
    "def non_empty_subset_matrix(d, idx=None):\n",
    "    idx = np.arange(d) if idx is None else idx\n",
    "    res = np.zeros(shape=(d, 2**len(idx)-1))\n",
    "    j = 0\n",
    "    for l in range(1, len(idx)+1):\n",
    "        for c in combinations(idx, l):\n",
    "            col = np.zeros(d)\n",
    "            col[list(c)] = 1\n",
    "            res[:, j] = col\n",
    "            j+= 1\n",
    "    return res\n",
    "\n",
    "non_empty_subset_matrix(20, np.arange(10)).shape"
   ]
  },
  {
   "cell_type": "code",
   "execution_count": null,
   "metadata": {},
   "outputs": [],
   "source": [
    "(M.dot(prefix_matrix(np.argsort(point_orth_scores)[::-1]))**2).sum(axis=0)"
   ]
  },
  {
   "cell_type": "code",
   "execution_count": null,
   "metadata": {},
   "outputs": [],
   "source": [
    "obj_values_of_prefixes(np.argsort(g)[::-1])"
   ]
  },
  {
   "cell_type": "code",
   "execution_count": null,
   "metadata": {},
   "outputs": [],
   "source": [
    "plt.plot(obj_values_of_prefixes(np.argsort(g)[::-1]))"
   ]
  },
  {
   "cell_type": "code",
   "execution_count": null,
   "metadata": {},
   "outputs": [],
   "source": [
    "obj_values_of_prefixes(np.argsort(g / point_orth_scores)[::1])"
   ]
  },
  {
   "cell_type": "code",
   "execution_count": null,
   "metadata": {},
   "outputs": [],
   "source": [
    "plt.plot(obj_values_of_prefixes(np.argsort(g / point_orth_scores)[::1]))"
   ]
  },
  {
   "cell_type": "code",
   "execution_count": null,
   "metadata": {},
   "outputs": [],
   "source": [
    "plt.plot(obj_values_of_prefixes(np.argsort(g)[::-1]))\n",
    "plt.plot(obj_values_of_prefixes(np.argsort(g*point_par_scores / point_orth_scores)[::1]), label='$ge_\\par/$')\n",
    "plt.plot(obj_values_of_prefixes(np.argsort(g / point_orth_scores)[::1]))\n",
    "plt.legend()"
   ]
  },
  {
   "cell_type": "code",
   "execution_count": null,
   "metadata": {},
   "outputs": [],
   "source": [
    "g[np.argsort(g)[::-1]]"
   ]
  },
  {
   "cell_type": "code",
   "execution_count": null,
   "metadata": {},
   "outputs": [],
   "source": [
    "g.dot(prefix_matrix(np.argsort(g)[::-1]))"
   ]
  },
  {
   "cell_type": "code",
   "execution_count": null,
   "metadata": {},
   "outputs": [],
   "source": [
    "prefix_matrix(np.arange(n))[:,:4]"
   ]
  },
  {
   "cell_type": "code",
   "execution_count": null,
   "metadata": {},
   "outputs": [],
   "source": [
    "denom = (M.dot(R)**2).sum(axis=0)\n",
    "denom"
   ]
  },
  {
   "cell_type": "code",
   "execution_count": null,
   "metadata": {},
   "outputs": [],
   "source": [
    "g.dot(R), np.cumsum(g[order])"
   ]
  },
  {
   "cell_type": "code",
   "execution_count": null,
   "metadata": {},
   "outputs": [],
   "source": [
    "obj_values_of_prefixes(np.argsort(g)[::-1])"
   ]
  },
  {
   "cell_type": "code",
   "execution_count": null,
   "metadata": {},
   "outputs": [],
   "source": [
    "(g / point_orth_scores**0.5)[np.argsort(g / point_orth_scores**0.5)[::-1]]"
   ]
  },
  {
   "cell_type": "code",
   "execution_count": null,
   "metadata": {},
   "outputs": [],
   "source": [
    "obj_values_of_prefixes(np.argsort(g / point_par_scores)[::-1])"
   ]
  },
  {
   "cell_type": "code",
   "execution_count": null,
   "metadata": {},
   "outputs": [],
   "source": [
    "g.dot(R)/denom"
   ]
  },
  {
   "cell_type": "code",
   "execution_count": null,
   "metadata": {},
   "outputs": [],
   "source": [
    "O.T.dot(O)"
   ]
  },
  {
   "cell_type": "code",
   "execution_count": null,
   "metadata": {},
   "outputs": [],
   "source": [
    "G = Q.T.dot(Q)\n",
    "G"
   ]
  },
  {
   "cell_type": "code",
   "execution_count": null,
   "metadata": {},
   "outputs": [],
   "source": [
    "G_inv = np.linalg.inv(G)\n",
    "G_inv"
   ]
  },
  {
   "cell_type": "code",
   "execution_count": null,
   "metadata": {},
   "outputs": [],
   "source": [
    "q1 = RNG.binomial(1, 0.8, size=20)\n",
    "q2 = RNG.binomial(1, 0.2, size=20)\n",
    "q1, q2"
   ]
  },
  {
   "cell_type": "code",
   "execution_count": null,
   "metadata": {},
   "outputs": [],
   "source": [
    "def decomp(Q, q):\n",
    "    G = Q.T.dot(Q)\n",
    "    G_inv = np.linalg.inv(G)\n",
    "    q_proj = Q.dot(G_inv.dot(Q.T.dot(q)))\n",
    "    return q_proj, q-q_proj"
   ]
  },
  {
   "cell_type": "code",
   "execution_count": null,
   "metadata": {},
   "outputs": [],
   "source": [
    "np.linalg.norm(q1)**2"
   ]
  },
  {
   "cell_type": "code",
   "execution_count": null,
   "metadata": {},
   "outputs": [],
   "source": [
    "from numpy.linalg import norm\n",
    "\n",
    "q1_par, q1_orth = decomp(Q, q1)\n",
    "q2_par, q2_orth = decomp(Q, q2)\n",
    "\n",
    "norm(q1_par), norm(q2_par)"
   ]
  },
  {
   "cell_type": "code",
   "execution_count": null,
   "metadata": {},
   "outputs": [],
   "source": [
    "q1_par, q1_orth"
   ]
  },
  {
   "cell_type": "code",
   "execution_count": null,
   "metadata": {},
   "outputs": [],
   "source": [
    "r = 1000\n",
    "covs = np.zeros(r)\n",
    "par_norms = np.zeros(r)\n",
    "orth_norms = np.zeros(r)\n",
    "\n",
    "for i in range(r):\n",
    "    q = RNG.binomial(1, 0.5, 20)\n",
    "    covs[i] = sum(q)\n",
    "    q1_par, q1_orth = decomp(Q, q)\n",
    "    par_norms[i] = norm(q1_par)\n",
    "    orth_norms[i] = norm(q1_par)\n",
    "\n",
    "norms = covs**0.5\n"
   ]
  },
  {
   "cell_type": "code",
   "execution_count": null,
   "metadata": {},
   "outputs": [],
   "source": [
    "q_all_par, q_all_orth = decomp(Q, np.ones(20))"
   ]
  },
  {
   "cell_type": "code",
   "execution_count": null,
   "metadata": {},
   "outputs": [],
   "source": [
    "from matplotlib import pyplot as plt\n",
    "\n",
    "plt.scatter(norms, par_norms)\n",
    "plt.scatter([norm(np.ones(20))], [norm(q_all_par)])\n",
    "plt.plot([1, 4.6], [1, 4.6])\n",
    "plt.margins(x=0, y=0)\n",
    "plt.ylabel('$\\|q_\\parallel\\|$')\n",
    "plt.xlabel('$\\|q\\|$')\n",
    "plt.show()"
   ]
  }
 ],
 "metadata": {
  "kernelspec": {
   "display_name": "Python 3 (ipykernel)",
   "language": "python",
   "name": "python3"
  },
  "language_info": {
   "codemirror_mode": {
    "name": "ipython",
    "version": 3
   },
   "file_extension": ".py",
   "mimetype": "text/x-python",
   "name": "python",
   "nbconvert_exporter": "python",
   "pygments_lexer": "ipython3",
   "version": "3.8.10"
  },
  "vscode": {
   "interpreter": {
    "hash": "aee8b7b246df8f9039afb4144a1f6fd8d2ca17a180786b69acc140d282b71a49"
   }
  }
 },
 "nbformat": 4,
 "nbformat_minor": 2
}
