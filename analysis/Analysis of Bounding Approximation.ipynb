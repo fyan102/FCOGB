{
 "cells": [
  {
   "cell_type": "markdown",
   "metadata": {},
   "source": [
    "# Analysis of Bounding Functions"
   ]
  },
  {
   "cell_type": "markdown",
   "metadata": {},
   "source": [
    "This notebook analyses the approximation of the bounding functions. "
   ]
  },
  {
   "cell_type": "code",
   "execution_count": 1,
   "metadata": {},
   "outputs": [],
   "source": [
    "import numpy as np\n",
    "from numpy.linalg import norm\n",
    "from itertools import combinations\n",
    "\n",
    "def orthonormalization(Q):\n",
    "    n, k = Q.shape\n",
    "    O = np.zeros(shape=(n, k))\n",
    "    q = Q[:, 0]\n",
    "    O[:, 0] =  q / norm(q)\n",
    "\n",
    "    for i in range(1, k):\n",
    "        O_i = O[:, :i]\n",
    "        q = Q[:, i]\n",
    "        q_orth = q - O_i.dot(O_i.T.dot(q))\n",
    "        O[:, i] =  q_orth / norm(q_orth)\n",
    "    return O\n",
    "\n",
    "def non_empty_subset_indicator(d, idx=None):\n",
    "    idx = np.arange(d) if idx is None else idx\n",
    "    for l in range(1, len(idx)+1):\n",
    "        for c in combinations(idx, l):\n",
    "            col = np.zeros(d)\n",
    "            col[list(c)] = 1\n",
    "            yield col\n",
    "\n",
    "class instance:\n",
    "    @staticmethod\n",
    "    def random(n, t, seed=None):\n",
    "        rng = np.random.default_rng(seed)\n",
    "        Q = rng.binomial(1, 0.5, size=(n, t))\n",
    "        g = rng.normal(size=n)\n",
    "        return instance(Q, g)\n",
    "\n",
    "    def __init__(self, Q, g, keep_bf_queries=False):\n",
    "        n, k = Q.shape\n",
    "        self.n = n\n",
    "        self.k = k\n",
    "        self.Q = Q\n",
    "        self.O = orthonormalization(Q)\n",
    "        self.g = g\n",
    "        self.P = self.O.dot(self.O.T)\n",
    "        self.M = np.eye(n) - self.P\n",
    "        self.g = self.M.dot(g)\n",
    "        self.keep_bf_queries = keep_bf_queries\n",
    "\n",
    "    def orth_part_norm(self, queries):\n",
    "        return norm(self.M.dot(queries))\n",
    "\n",
    "    def selected_grad_elements(self, q):\n",
    "        return np.sort(self.g[np.flatnonzero(q)])\n",
    "\n",
    "class result:\n",
    "    def __init__(self, q_star, f_star, q_seq, inst):\n",
    "        self.q_star = q_star\n",
    "        self.f_star = f_star\n",
    "        self.q_seq = q_seq\n",
    "        self.inst = inst\n",
    "\n",
    "    def print_selected_elements_by_score(self, q=None, score=None, end='\\n', sep=' '):\n",
    "        q = self.q_star if q is None else q\n",
    "        score = self.inst.g if score is None else score\n",
    "        order = np.argsort(score)[::-1]\n",
    "        for i in range(self.inst.n):\n",
    "            s = f'\\x1b[31m{score[order[i]]:.3f}\\x1b[0m' if q[order[i]] else f'{score[order[i]]:.3f}'\n",
    "            print(s, end=sep if i<self.inst.n-1 else '')\n",
    "        print(end, end='')\n",
    "\n",
    "def brute_force(self, epsilon=0):\n",
    "    if self.keep_bf_queries:\n",
    "        bf_queries = np.zeros(shape=(2**self.n-1, self.n))\n",
    "    bf_gsum_ = np.zeros(2**self.n-1)\n",
    "    bf_opn_ = np.zeros(2**self.n-1)\n",
    "    bf_norms_ = np.zeros(2**self.n-1)\n",
    "\n",
    "    i_star = -1\n",
    "    obj_star = float('-inf')\n",
    "    q_star = None\n",
    "\n",
    "    for i, q in enumerate(non_empty_subset_indicator(self.n)):\n",
    "        if self.keep_bf_queries:\n",
    "            bf_queries[i, :] = q\n",
    "        bf_gsum_[i]=self.g.dot(q)\n",
    "        bf_opn_[i]=self.orth_part_norm(q)\n",
    "        bf_norms_[i]=norm(q)\n",
    "        \n",
    "        obj = (bf_gsum_[i]**2 / (bf_opn_[i] + epsilon)**2) if epsilon!=0 or bf_opn_[i]>1e-5 else 0\n",
    "        if obj > obj_star:\n",
    "            i_star = i\n",
    "            q_star = q\n",
    "            obj_star = obj\n",
    "\n",
    "    res = result(q_star, obj_star, bf_queries if self.keep_bf_queries else None, self)\n",
    "    res.i_star = i_star\n",
    "    res.gsums = bf_gsum_\n",
    "    res.op_norms = bf_opn_\n",
    "    res.norms = bf_norms_\n",
    "    return res"
   ]
  },
  {
   "cell_type": "markdown",
   "metadata": {},
   "source": [
    "### Objective Function is Bounded by Squared Norm of Gradient\n",
    "\n",
    "We can bound the objective function by decomposing $q_\\perp$ into components parallel and orthogonal to the gradient vector, i.e.,\n",
    "\\begin{equation*}\n",
    "q_\\perp = q_{\\perp\\parallel} + q_{\\perp\\perp}\\\\\n",
    "\\end{equation*}\n",
    "where\n",
    "\\begin{equation*}\n",
    "q_{\\perp\\parallel} = \\frac{q_\\perp^Tg}{\\|g\\|^2}g \\enspace .\n",
    "\\end{equation*}\n",
    "\n",
    "Indeed, by observing that $\\|q_{\\perp\\parallel}\\|^2=(g^Tq)^2/\\|g\\|^2$ we can conclude that\n",
    "\\begin{align*}\n",
    "\\frac{(g^Tq)^2}{\\|q_\\perp\\|^2} &= \\frac{(g^Tq)^2}{\\|q_{\\perp\\parallel}\\|^2 + \\|q_{\\perp\\perp}\\|^2}\\\\\n",
    "&\\leq \\frac{(g^Tq)^2}{\\|q_{\\perp\\parallel}\\|^2}\\\\\n",
    "&=\\|g\\|^2\n",
    "\\end{align*}\n"
   ]
  },
  {
   "cell_type": "markdown",
   "metadata": {},
   "source": [
    "### An instance of calculating the bounding function by brute-force"
   ]
  },
  {
   "cell_type": "code",
   "execution_count": 2,
   "metadata": {},
   "outputs": [],
   "source": [
    "import numpy as np\n",
    "from numpy.linalg import norm\n",
    "\n",
    "RNG = np.random.default_rng(1000)\n",
    "Q = RNG.binomial(1, 0.5, size=(20, 10))\n",
    "g = RNG.normal(size=20)\n",
    "inst1 = instance(Q[:, :5], g)"
   ]
  },
  {
   "cell_type": "code",
   "execution_count": 141,
   "metadata": {},
   "outputs": [
    {
     "data": {
      "text/plain": [
       "array([[1, 1, 1, 0, 1, 1, 0, 1, 1, 1, 0, 1, 0, 0, 1, 0, 1, 1, 0, 0],\n",
       "       [1, 0, 0, 0, 0, 1, 1, 0, 1, 1, 1, 0, 1, 1, 1, 1, 1, 0, 1, 0],\n",
       "       [0, 0, 1, 1, 0, 1, 1, 0, 1, 0, 0, 0, 0, 1, 1, 1, 0, 0, 1, 1],\n",
       "       [0, 1, 0, 0, 0, 1, 1, 0, 0, 1, 0, 0, 0, 0, 1, 0, 1, 0, 1, 0],\n",
       "       [1, 1, 0, 0, 1, 1, 0, 0, 1, 1, 1, 0, 0, 0, 0, 0, 0, 1, 1, 0]])"
      ]
     },
     "execution_count": 141,
     "metadata": {},
     "output_type": "execute_result"
    }
   ],
   "source": [
    "inst1.Q.T"
   ]
  },
  {
   "cell_type": "code",
   "execution_count": 148,
   "metadata": {},
   "outputs": [
    {
     "data": {
      "text/plain": [
       "array([-0.39057197,  0.14296948, -0.39008365, -0.20994881,  0.9060857 ,\n",
       "       -1.01544906, -0.92794419, -0.49038772,  1.11962561, -0.13715852,\n",
       "       -0.00203592,  0.12999511,  0.83155099, -0.6519398 ,  1.32978487,\n",
       "       -0.76365943,  0.01322645, -1.21803631,  0.59457097,  0.91504349])"
      ]
     },
     "execution_count": 148,
     "metadata": {},
     "output_type": "execute_result"
    }
   ],
   "source": [
    "inst1.g"
   ]
  },
  {
   "cell_type": "code",
   "execution_count": 3,
   "metadata": {},
   "outputs": [
    {
     "data": {
      "text/plain": [
       "(8.538267131385675, 10.75480867024855)"
      ]
     },
     "execution_count": 3,
     "metadata": {},
     "output_type": "execute_result"
    }
   ],
   "source": [
    "res = brute_force(inst1)\n",
    "res.f_star, norm(inst1.g)**2"
   ]
  },
  {
   "cell_type": "code",
   "execution_count": 4,
   "metadata": {},
   "outputs": [
    {
     "name": "stdout",
     "output_type": "stream",
     "text": [
      "1.330 1.120 0.915 0.906 0.832 0.595 0.143 0.130 0.013 -0.002 -0.137 \u001b[31m-0.210\u001b[0m \u001b[31m-0.390\u001b[0m \u001b[31m-0.391\u001b[0m \u001b[31m-0.490\u001b[0m \u001b[31m-0.652\u001b[0m \u001b[31m-0.764\u001b[0m \u001b[31m-0.928\u001b[0m \u001b[31m-1.015\u001b[0m \u001b[31m-1.218\u001b[0m\n"
     ]
    }
   ],
   "source": [
    "res.print_selected_elements_by_score()"
   ]
  },
  {
   "cell_type": "code",
   "execution_count": 5,
   "metadata": {},
   "outputs": [],
   "source": [
    "from matplotlib import pyplot as plt\n",
    "\n",
    "def plot_solutions(res, additional_res=None, additional_res_names=None):\n",
    "    fig, axs = plt.subplots(1, 3, figsize=(12, 4), sharey=True, tight_layout=True, squeeze=False)\n",
    "    bf_obj_ = res.gsums**2 / res.op_norms**2\n",
    "    axs[0, 0].scatter(res.norms**2, bf_obj_)\n",
    "    axs[0, 1].scatter(res.op_norms**2, bf_obj_)\n",
    "    axs[0, 2].scatter(res.gsums, bf_obj_)\n",
    "\n",
    "    additional_res = [] if additional_res is None else additional_res\n",
    "    additional_res_names = [f'$q_{i}$' for i in range(len(additional_res))]\n",
    "    all_results = [res] + additional_res\n",
    "    all_result_names = [r'$q^*$'] + additional_res_names\n",
    "    all_res_colors = ['red', 'lime', 'gold', 'magenta', 'black', 'gray'][:len(all_results)]\n",
    "    for res, name, color in zip(all_results, all_result_names, all_res_colors):\n",
    "        axs[0, 0].scatter(norm(res.q_star)**2, res.f_star, edgecolors=color, facecolors='none', label=name)\n",
    "        axs[0, 1].scatter(norm(res.inst.M.dot(res.q_star))**2, res.f_star, edgecolors=color, facecolors='none')\n",
    "        axs[0, 2].scatter(res.q_star.dot(res.inst.g), res.f_star, edgecolors=color, facecolors='none')\n",
    "    axs[0, 0].set_ylabel(r'$(q^Tg)^2/\\|q_\\perp\\|^2$')\n",
    "    axs[0, 0].set_xlabel(r'$\\|q\\|^2$')\n",
    "    axs[0, 1].set_xlabel(r'$\\|q_\\perp\\|^2$')\n",
    "    axs[0, 2].set_xlabel(r'$q^Tg$')\n",
    "    axs[0, 0].axhline(norm(res.inst.g)**2, label='$\\|g\\|^2$', linestyle='--', color='red')\n",
    "    axs[0, 1].axhline(norm(res.inst.g)**2, label='$\\|g\\|^2$', linestyle='--', color='red')\n",
    "    axs[0, 2].axhline(norm(res.inst.g)**2, label='$\\|g\\|^2$', linestyle='--', color='red')\n",
    "    axs[0, 0].legend(loc='upper right')"
   ]
  },
  {
   "cell_type": "code",
   "execution_count": 6,
   "metadata": {},
   "outputs": [
    {
     "data": {
      "image/png": "[encoded data removed]",
      "text/plain": [
       "<Figure size 864x288 with 3 Axes>"
      ]
     },
     "metadata": {
      "needs_background": "light"
     },
     "output_type": "display_data"
    }
   ],
   "source": [
    "plot_solutions(res)"
   ]
  },
  {
   "cell_type": "markdown",
   "metadata": {},
   "source": [
    "### More Systematic Test"
   ]
  },
  {
   "cell_type": "markdown",
   "metadata": {},
   "source": [
    "We generate 2000 instances, each of which contains 15 data points and 5 queries. In each query, each data point has a probability of 0.5 being 1 and 0. The gradient vector is originally generated by an $n$-dimensional normal distribution. \n",
    "\n",
    "We use brute force to find the query which maximises of the objective function."
   ]
  },
  {
   "cell_type": "code",
   "execution_count": 178,
   "metadata": {
    "scrolled": true
   },
   "outputs": [],
   "source": [
    "smaller_instances = []\n",
    "num_instances = 2000\n",
    "def brute_force_test(epsilon=0, num_inst=num_instances, display=False):\n",
    "    smaller_instances_bf_f_stars=np.array([])\n",
    "    for i in range(num_inst):\n",
    "        inst = instance.random(15, 5, i)\n",
    "        res = brute_force(inst, epsilon=epsilon)\n",
    "        if display:\n",
    "            print(i, end='. ')\n",
    "            res.print_selected_elements_by_score(end=': ')\n",
    "            print(f'{inst.g.dot(res.q_star):.3f}', f'{res.f_star: .3f}')\n",
    "        if len(smaller_instances)<num_instances:\n",
    "            smaller_instances.append(inst)\n",
    "        smaller_instances_bf_f_stars = np.append(smaller_instances_bf_f_stars, res.f_star)\n",
    "    return smaller_instances_bf_f_stars"
   ]
  },
  {
   "cell_type": "markdown",
   "metadata": {},
   "source": [
    "The result of first 20 instances."
   ]
  },
  {
   "cell_type": "code",
   "execution_count": 155,
   "metadata": {},
   "outputs": [
    {
     "name": "stdout",
     "output_type": "stream",
     "text": [
      "0. 1.109 0.836 0.512 0.220 0.134 -0.029 -0.037 \u001b[31m-0.048\u001b[0m \u001b[31m-0.106\u001b[0m \u001b[31m-0.334\u001b[0m \u001b[31m-0.448\u001b[0m \u001b[31m-0.521\u001b[0m \u001b[31m-0.549\u001b[0m \u001b[31m-0.564\u001b[0m \u001b[31m-0.980\u001b[0m: -3.551  3.889\n",
      "1. 0.974 0.662 0.549 0.533 0.495 \u001b[31m0.203\u001b[0m 0.184 -0.081 -0.147 \u001b[31m-0.181\u001b[0m \u001b[31m-0.292\u001b[0m \u001b[31m-0.680\u001b[0m \u001b[31m-0.728\u001b[0m \u001b[31m-0.820\u001b[0m \u001b[31m-1.482\u001b[0m: -3.981  5.419\n",
      "2. 1.095 0.977 0.342 0.306 \u001b[31m0.193\u001b[0m 0.168 \u001b[31m0.017\u001b[0m \u001b[31m-0.197\u001b[0m -0.205 -0.334 \u001b[31m-0.702\u001b[0m \u001b[31m-0.784\u001b[0m \u001b[31m-0.903\u001b[0m \u001b[31m-0.924\u001b[0m \u001b[31m-1.276\u001b[0m: -4.576  6.468\n",
      "3. \u001b[31m1.644\u001b[0m \u001b[31m0.984\u001b[0m \u001b[31m0.938\u001b[0m 0.486 \u001b[31m0.472\u001b[0m 0.364 0.298 0.275 -0.098 -0.162 -0.319 -0.705 -0.719 -0.767 -1.544: 4.039  8.164\n",
      "4. 2.313 2.156 1.375 0.659 0.582 \u001b[31m0.192\u001b[0m \u001b[31m-0.063\u001b[0m \u001b[31m-0.074\u001b[0m \u001b[31m-0.428\u001b[0m \u001b[31m-0.729\u001b[0m \u001b[31m-0.943\u001b[0m \u001b[31m-1.128\u001b[0m \u001b[31m-1.307\u001b[0m \u001b[31m-1.404\u001b[0m \u001b[31m-1.550\u001b[0m: -7.433  19.677\n",
      "5. \u001b[31m1.124\u001b[0m \u001b[31m1.116\u001b[0m \u001b[31m1.061\u001b[0m 0.328 0.153 -0.102 -0.173 -0.186 -0.280 -0.407 -0.412 -0.415 -0.432 -0.504 -0.572: 3.302  4.745\n",
      "6. \u001b[31m1.171\u001b[0m \u001b[31m0.995\u001b[0m \u001b[31m0.909\u001b[0m 0.738 0.317 0.009 -0.085 -0.105 -0.163 -0.221 -0.444 -0.693 -0.737 -0.759 -1.309: 3.076  6.099\n",
      "7. \u001b[31m0.990\u001b[0m \u001b[31m0.705\u001b[0m \u001b[31m0.628\u001b[0m \u001b[31m0.349\u001b[0m 0.159 -0.044 -0.127 -0.135 -0.145 -0.275 -0.306 -0.546 -0.640 -0.654 -0.705: 2.673  3.277\n",
      "8. \u001b[31m1.572\u001b[0m \u001b[31m1.305\u001b[0m \u001b[31m1.117\u001b[0m \u001b[31m1.040\u001b[0m \u001b[31m0.805\u001b[0m \u001b[31m0.759\u001b[0m \u001b[31m0.411\u001b[0m 0.361 -0.215 -0.225 -0.476 \u001b[31m-0.649\u001b[0m -0.751 -0.902 -2.082: 6.360  12.372\n",
      "9. 1.087 0.941 0.530 \u001b[31m0.361\u001b[0m \u001b[31m0.336\u001b[0m \u001b[31m0.071\u001b[0m \u001b[31m0.025\u001b[0m \u001b[31m-0.146\u001b[0m \u001b[31m-0.205\u001b[0m \u001b[31m-0.250\u001b[0m \u001b[31m-0.461\u001b[0m \u001b[31m-0.632\u001b[0m \u001b[31m-0.751\u001b[0m \u001b[31m-0.818\u001b[0m \u001b[31m-0.962\u001b[0m: -3.431  4.873\n",
      "10. 1.584 0.970 0.888 0.705 0.250 0.237 \u001b[31m-0.132\u001b[0m -0.144 \u001b[31m-0.307\u001b[0m \u001b[31m-0.327\u001b[0m \u001b[31m-0.436\u001b[0m \u001b[31m-0.638\u001b[0m \u001b[31m-0.679\u001b[0m \u001b[31m-1.041\u001b[0m \u001b[31m-1.459\u001b[0m: -5.018  8.073\n",
      "11. 1.642 1.082 0.922 0.839 0.574 \u001b[31m0.375\u001b[0m 0.011 -0.030 \u001b[31m-0.139\u001b[0m \u001b[31m-0.765\u001b[0m \u001b[31m-1.080\u001b[0m \u001b[31m-1.160\u001b[0m \u001b[31m-1.372\u001b[0m \u001b[31m-1.543\u001b[0m \u001b[31m-1.874\u001b[0m: -7.558  14.868\n",
      "12. 1.021 0.765 0.524 0.523 0.460 0.430 0.398 0.205 0.161 -0.084 \u001b[31m-0.379\u001b[0m \u001b[31m-1.157\u001b[0m \u001b[31m-1.165\u001b[0m \u001b[31m-1.212\u001b[0m \u001b[31m-1.932\u001b[0m: -5.846  10.091\n",
      "13. 1.862 1.264 0.846 0.554 \u001b[31m-0.052\u001b[0m \u001b[31m-0.058\u001b[0m -0.097 -0.098 \u001b[31m-0.136\u001b[0m \u001b[31m-0.678\u001b[0m \u001b[31m-0.698\u001b[0m \u001b[31m-0.953\u001b[0m \u001b[31m-1.039\u001b[0m \u001b[31m-1.163\u001b[0m \u001b[31m-1.379\u001b[0m: -6.156  10.453\n",
      "14. 1.251 0.999 0.691 0.471 0.305 0.226 0.134 0.113 \u001b[31m-0.313\u001b[0m \u001b[31m-0.462\u001b[0m \u001b[31m-0.485\u001b[0m \u001b[31m-1.081\u001b[0m \u001b[31m-1.206\u001b[0m \u001b[31m-1.213\u001b[0m \u001b[31m-1.391\u001b[0m: -6.150  9.406\n",
      "15. \u001b[31m1.689\u001b[0m \u001b[31m1.551\u001b[0m 0.963 \u001b[31m0.921\u001b[0m \u001b[31m0.495\u001b[0m 0.289 0.048 \u001b[31m-0.079\u001b[0m -0.373 -0.380 -0.714 -0.722 -0.764 -0.842 -1.217: 4.577  9.522\n",
      "16. \u001b[31m1.415\u001b[0m \u001b[31m1.260\u001b[0m \u001b[31m1.035\u001b[0m \u001b[31m0.626\u001b[0m \u001b[31m0.620\u001b[0m \u001b[31m0.438\u001b[0m 0.365 0.118 -0.079 -0.149 -0.845 -1.034 -1.066 -1.086 -1.395: 5.395  11.210\n",
      "17. 1.543 1.025 0.817 0.784 0.055 0.010 -0.056 \u001b[31m-0.128\u001b[0m -0.156 \u001b[31m-0.288\u001b[0m \u001b[31m-0.391\u001b[0m \u001b[31m-0.472\u001b[0m \u001b[31m-0.952\u001b[0m \u001b[31m-1.288\u001b[0m \u001b[31m-1.304\u001b[0m: -4.824  8.951\n",
      "18. \u001b[31m1.487\u001b[0m \u001b[31m0.841\u001b[0m \u001b[31m0.369\u001b[0m \u001b[31m0.294\u001b[0m \u001b[31m0.221\u001b[0m \u001b[31m0.179\u001b[0m \u001b[31m0.073\u001b[0m 0.072 \u001b[31m0.035\u001b[0m -0.110 -0.267 \u001b[31m-0.392\u001b[0m -0.628 \u001b[31m-0.921\u001b[0m -1.558: 2.186  5.503\n",
      "19. 1.484 1.293 \u001b[31m0.835\u001b[0m 0.794 0.554 0.524 0.481 0.426 \u001b[31m-0.013\u001b[0m \u001b[31m-0.150\u001b[0m \u001b[31m-0.278\u001b[0m \u001b[31m-1.094\u001b[0m \u001b[31m-1.408\u001b[0m \u001b[31m-1.687\u001b[0m \u001b[31m-3.178\u001b[0m: -6.973  18.601\n"
     ]
    }
   ],
   "source": [
    "_=brute_force_test(epsilon=0, num_inst=20, display=True)"
   ]
  },
  {
   "cell_type": "markdown",
   "metadata": {},
   "source": [
    "The below 6 cells calculates the optimal queries and the corresponding objective functions for all 2000 instances. \n",
    "\n",
    "(Warning: Running these cells needs about 1 hour!)"
   ]
  },
  {
   "cell_type": "code",
   "execution_count": 179,
   "metadata": {
    "scrolled": true
   },
   "outputs": [],
   "source": [
    "bfe0f = brute_force_test(epsilon=0)"
   ]
  },
  {
   "cell_type": "code",
   "execution_count": 9,
   "metadata": {},
   "outputs": [],
   "source": [
    "bfe1e_3f = brute_force_test(epsilon=1e-3)"
   ]
  },
  {
   "cell_type": "code",
   "execution_count": 10,
   "metadata": {},
   "outputs": [],
   "source": [
    "bfe1e_2f = brute_force_test(epsilon=1e-2)"
   ]
  },
  {
   "cell_type": "code",
   "execution_count": 11,
   "metadata": {},
   "outputs": [],
   "source": [
    "bfe1e_1f = brute_force_test(epsilon=1e-1)"
   ]
  },
  {
   "cell_type": "code",
   "execution_count": 12,
   "metadata": {
    "scrolled": true
   },
   "outputs": [],
   "source": [
    "bfe1f = brute_force_test(epsilon=1)"
   ]
  },
  {
   "cell_type": "code",
   "execution_count": 13,
   "metadata": {
    "scrolled": true
   },
   "outputs": [],
   "source": [
    "bfe10f = brute_force_test(epsilon=10)"
   ]
  },
  {
   "cell_type": "markdown",
   "metadata": {},
   "source": [
    "## Greedy Performance\n",
    "\n",
    "Since calculating the optimal objective values by enumerating all the possible queries require $O(2^n)$ time in the worst case, we instead use a greedy search as a heuristic. We add one data point into the query which maximise the objective value in each iteration until the objective value cannot be improved."
   ]
  },
  {
   "cell_type": "code",
   "execution_count": 14,
   "metadata": {},
   "outputs": [],
   "source": [
    "def squared_grad_sum_by_squared_orth_norm(q, inst, epsilon):\n",
    "    d = norm(inst.M.dot(q))\n",
    "    return (q.dot(inst.g)**2/(norm(inst.M.dot(q)) + epsilon)**2) if epsilon!=0 or d>1e-5 else 0\n",
    "\n",
    "def best_in_greedy(inst, epsilon=0, f = squared_grad_sum_by_squared_orth_norm):\n",
    "    seq = np.zeros(shape=(inst.n+1, inst.n))\n",
    "    objs = np.zeros(inst.n+1)\n",
    "    for i in range(1, inst.n+1):\n",
    "        seq[i, :] = np.copy(seq[i-1, :])\n",
    "        j_star = -1\n",
    "        obj_star = float('-inf')\n",
    "        for j in range(inst.n):\n",
    "            if seq[i, j]: continue    \n",
    "            seq[i, j] = 1\n",
    "            obj = f(seq[i, :], inst, epsilon=epsilon)\n",
    "            if obj > obj_star:\n",
    "                j_star = j\n",
    "                obj_star = obj\n",
    "            seq[i, j] = 0\n",
    "        seq[i, j_star] = 1\n",
    "        objs[i] = obj_star\n",
    "    best_idx = np.argmax(objs)    \n",
    "    return result(seq[best_idx, :], objs[best_idx], seq, inst)"
   ]
  },
  {
   "cell_type": "markdown",
   "metadata": {},
   "source": [
    "The following cell shows the result of first 20 instances."
   ]
  },
  {
   "cell_type": "code",
   "execution_count": 172,
   "metadata": {
    "scrolled": false
   },
   "outputs": [
    {
     "name": "stdout",
     "output_type": "stream",
     "text": [
      "0. \u001b[31m1.109\u001b[0m \u001b[31m0.836\u001b[0m \u001b[31m0.512\u001b[0m \u001b[31m0.220\u001b[0m 0.134 -0.029 -0.037 \u001b[31m-0.048\u001b[0m -0.106 -0.334 -0.448 -0.521 -0.549 -0.564 -0.980: 2.628  3.512\n",
      "1. 0.974 0.662 0.549 0.533 0.495 \u001b[31m0.203\u001b[0m 0.184 -0.081 -0.147 \u001b[31m-0.181\u001b[0m \u001b[31m-0.292\u001b[0m \u001b[31m-0.680\u001b[0m \u001b[31m-0.728\u001b[0m \u001b[31m-0.820\u001b[0m \u001b[31m-1.482\u001b[0m: -3.981  5.419\n",
      "2. 1.095 0.977 0.342 0.306 \u001b[31m0.193\u001b[0m 0.168 \u001b[31m0.017\u001b[0m \u001b[31m-0.197\u001b[0m -0.205 -0.334 \u001b[31m-0.702\u001b[0m \u001b[31m-0.784\u001b[0m \u001b[31m-0.903\u001b[0m \u001b[31m-0.924\u001b[0m \u001b[31m-1.276\u001b[0m: -4.576  6.468\n",
      "3. \u001b[31m1.644\u001b[0m \u001b[31m0.984\u001b[0m \u001b[31m0.938\u001b[0m 0.486 \u001b[31m0.472\u001b[0m 0.364 0.298 0.275 -0.098 -0.162 -0.319 -0.705 -0.719 -0.767 -1.544: 4.039  8.164\n",
      "4. \u001b[31m2.313\u001b[0m \u001b[31m2.156\u001b[0m \u001b[31m1.375\u001b[0m \u001b[31m0.659\u001b[0m \u001b[31m0.582\u001b[0m \u001b[31m0.192\u001b[0m \u001b[31m-0.063\u001b[0m \u001b[31m-0.074\u001b[0m -0.428 -0.729 -0.943 -1.128 -1.307 -1.404 -1.550: 7.140  17.097\n",
      "5. \u001b[31m1.124\u001b[0m \u001b[31m1.116\u001b[0m \u001b[31m1.061\u001b[0m 0.328 0.153 -0.102 -0.173 -0.186 -0.280 -0.407 -0.412 -0.415 -0.432 -0.504 -0.572: 3.302  4.745\n",
      "6. 1.171 0.995 0.909 0.738 0.317 \u001b[31m0.009\u001b[0m -0.085 \u001b[31m-0.105\u001b[0m -0.163 \u001b[31m-0.221\u001b[0m \u001b[31m-0.444\u001b[0m \u001b[31m-0.693\u001b[0m \u001b[31m-0.737\u001b[0m \u001b[31m-0.759\u001b[0m \u001b[31m-1.309\u001b[0m: -4.257  5.929\n",
      "7. \u001b[31m0.990\u001b[0m \u001b[31m0.705\u001b[0m \u001b[31m0.628\u001b[0m \u001b[31m0.349\u001b[0m 0.159 -0.044 -0.127 -0.135 -0.145 -0.275 -0.306 -0.546 -0.640 -0.654 -0.705: 2.673  3.277\n",
      "8. 1.572 1.305 1.117 1.040 0.805 0.759 0.411 0.361 -0.215 -0.225 -0.476 \u001b[31m-0.649\u001b[0m \u001b[31m-0.751\u001b[0m -0.902 \u001b[31m-2.082\u001b[0m: -3.482  9.324\n",
      "9. \u001b[31m1.087\u001b[0m \u001b[31m0.941\u001b[0m 0.530 0.361 \u001b[31m0.336\u001b[0m \u001b[31m0.071\u001b[0m 0.025 \u001b[31m-0.146\u001b[0m -0.205 -0.250 -0.461 -0.632 -0.751 -0.818 -0.962: 2.289  4.510\n",
      "10. \u001b[31m1.584\u001b[0m \u001b[31m0.970\u001b[0m \u001b[31m0.888\u001b[0m \u001b[31m0.705\u001b[0m \u001b[31m0.250\u001b[0m 0.237 -0.132 -0.144 -0.307 -0.327 -0.436 -0.638 -0.679 -1.041 -1.459: 4.397  7.420\n",
      "11. 1.642 1.082 0.922 0.839 0.574 \u001b[31m0.375\u001b[0m 0.011 -0.030 \u001b[31m-0.139\u001b[0m \u001b[31m-0.765\u001b[0m \u001b[31m-1.080\u001b[0m \u001b[31m-1.160\u001b[0m \u001b[31m-1.372\u001b[0m \u001b[31m-1.543\u001b[0m \u001b[31m-1.874\u001b[0m: -7.558  14.868\n",
      "12. 1.021 0.765 0.524 0.523 0.460 0.430 0.398 0.205 0.161 -0.084 \u001b[31m-0.379\u001b[0m \u001b[31m-1.157\u001b[0m \u001b[31m-1.165\u001b[0m \u001b[31m-1.212\u001b[0m \u001b[31m-1.932\u001b[0m: -5.846  10.091\n",
      "13. \u001b[31m1.862\u001b[0m \u001b[31m1.264\u001b[0m \u001b[31m0.846\u001b[0m \u001b[31m0.554\u001b[0m -0.052 -0.058 -0.097 -0.098 -0.136 -0.678 -0.698 -0.953 -1.039 -1.163 -1.379: 4.525  9.790\n",
      "14. 1.251 0.999 0.691 0.471 0.305 0.226 0.134 0.113 \u001b[31m-0.313\u001b[0m \u001b[31m-0.462\u001b[0m \u001b[31m-0.485\u001b[0m \u001b[31m-1.081\u001b[0m \u001b[31m-1.206\u001b[0m \u001b[31m-1.213\u001b[0m \u001b[31m-1.391\u001b[0m: -6.150  9.406\n",
      "15. \u001b[31m1.689\u001b[0m \u001b[31m1.551\u001b[0m \u001b[31m0.963\u001b[0m \u001b[31m0.921\u001b[0m \u001b[31m0.495\u001b[0m 0.289 \u001b[31m0.048\u001b[0m -0.079 -0.373 -0.380 -0.714 -0.722 -0.764 -0.842 -1.217: 5.667  9.331\n",
      "16. \u001b[31m1.415\u001b[0m \u001b[31m1.260\u001b[0m \u001b[31m1.035\u001b[0m \u001b[31m0.626\u001b[0m \u001b[31m0.620\u001b[0m \u001b[31m0.438\u001b[0m 0.365 0.118 -0.079 -0.149 -0.845 -1.034 -1.066 -1.086 -1.395: 5.395  11.210\n",
      "17. \u001b[31m1.543\u001b[0m \u001b[31m1.025\u001b[0m \u001b[31m0.817\u001b[0m 0.784 0.055 \u001b[31m0.010\u001b[0m -0.056 -0.128 -0.156 -0.288 -0.391 -0.472 -0.952 -1.288 -1.304: 3.394  7.128\n",
      "18. 1.487 0.841 0.369 0.294 0.221 0.179 0.073 0.072 0.035 -0.110 -0.267 -0.392 \u001b[31m-0.628\u001b[0m -0.921 \u001b[31m-1.558\u001b[0m: -2.186  5.503\n",
      "19. 1.484 1.293 \u001b[31m0.835\u001b[0m 0.794 0.554 0.524 0.481 0.426 \u001b[31m-0.013\u001b[0m \u001b[31m-0.150\u001b[0m \u001b[31m-0.278\u001b[0m \u001b[31m-1.094\u001b[0m \u001b[31m-1.408\u001b[0m \u001b[31m-1.687\u001b[0m \u001b[31m-3.178\u001b[0m: -6.973  18.601\n"
     ]
    }
   ],
   "source": [
    "smaller_instances_greedy_res = []\n",
    "smaller_instances_greedy_f_stars=np.array([])\n",
    "for i in range(20):\n",
    "    inst = smaller_instances[i]\n",
    "    res = best_in_greedy(inst)\n",
    "    print(i, end='. ')\n",
    "    res.print_selected_elements_by_score(end=': ')\n",
    "    print(f'{inst.g.dot(res.q_star):.3f}', f'{res.f_star: .3f}')\n",
    "    smaller_instances_greedy_res.append(res)\n",
    "    smaller_instances_greedy_f_stars = np.append(smaller_instances_greedy_f_stars, res.f_star)"
   ]
  },
  {
   "cell_type": "markdown",
   "metadata": {},
   "source": [
    "Comparing the greedy solution to the optimal solution on our first instance, we say that the greedy algorithm \"picked the wrong horse\": based on a good objective value for a positive gradient element, it started to grow a solution with positive sum of selected gradient elements whereas the optimum solution selects a negative sum."
   ]
  },
  {
   "cell_type": "markdown",
   "metadata": {},
   "source": [
    "### Refined Greedy Strategy with \"Signed\" Objectives\n",
    "\n",
    "This suggest to a refined greedy approach to find the optimal solution that runs the greedy algorithm twice, once aiming to find the optimal \"positive solution\" and once the optimal \"negative solution\".\n",
    "\n",
    "Indeed, when working with the non-squared objective function, we can easily split it into a positive and negative part\n",
    "\\begin{equation*}\n",
    "\\max_{q \\in {\\cal Q}} \\frac{|g^Tq|}{\\|q_\\perp\\|} = \\max \\left\\{\\max_{q \\in {\\cal Q}} \\frac{g^Tq}{\\|q_\\perp\\|}, \\max_{q \\in {\\cal Q}}\\frac{-g^Tq}{\\|q_\\perp\\|} \\right\\}\n",
    "\\end{equation*}"
   ]
  },
  {
   "cell_type": "code",
   "execution_count": 16,
   "metadata": {},
   "outputs": [],
   "source": [
    "def grad_sum_by_orth_norm(q, inst, epsilon):\n",
    "    d = norm(inst.M.dot(q))\n",
    "    return (q.dot(inst.g)/(norm(inst.M.dot(q)) + epsilon)) if epsilon!=0 or d>1e-5 else 0\n",
    "\n",
    "def neg_grad_sum_by_orth_norm(q, inst, epsilon):\n",
    "    d = norm(inst.M.dot(q))\n",
    "    return (-q.dot(inst.g)/(norm(inst.M.dot(q)) + epsilon)) if epsilon!=0 or d>1e-5 else 0"
   ]
  },
  {
   "cell_type": "code",
   "execution_count": 17,
   "metadata": {},
   "outputs": [],
   "source": [
    "def best_in_greedy_pos_neg(inst, epsilon=0):\n",
    "    pos = best_in_greedy(inst, epsilon=epsilon, f=grad_sum_by_orth_norm)\n",
    "    neg = best_in_greedy(inst, epsilon=epsilon, f=neg_grad_sum_by_orth_norm)\n",
    "    if pos.f_star > neg.f_star:\n",
    "        res = pos\n",
    "    else:\n",
    "        res = neg\n",
    "    res.f_star = res.f_star**2\n",
    "    return res"
   ]
  },
  {
   "cell_type": "code",
   "execution_count": 175,
   "metadata": {},
   "outputs": [],
   "source": [
    "def greedy_pos_neg_test(epsilon=0, num_instances=num_instances, display=False):\n",
    "#     smaller_instances_pn_res = []\n",
    "    smaller_instances_pn_f_stars = np.array([])\n",
    "    for i in range(num_instances):\n",
    "        inst = smaller_instances[i]\n",
    "        res = best_in_greedy_pos_neg(inst, epsilon=epsilon)\n",
    "        if display:\n",
    "            print(i, end='. ')\n",
    "            res.print_selected_elements_by_score(end=': ')\n",
    "            print(f'{inst.g.dot(res.q_star):.3f}', f'{res.f_star: .3f}')\n",
    "#             smaller_instances_pn_res.append(res)\n",
    "        smaller_instances_pn_f_stars = np.append(smaller_instances_pn_f_stars, res.f_star)\n",
    "    return smaller_instances_pn_f_stars"
   ]
  },
  {
   "cell_type": "markdown",
   "metadata": {},
   "source": [
    "The below cell shows the result of the first 20 instances."
   ]
  },
  {
   "cell_type": "code",
   "execution_count": 176,
   "metadata": {},
   "outputs": [
    {
     "name": "stdout",
     "output_type": "stream",
     "text": [
      "0. 1.109 0.836 0.512 0.220 0.134 -0.029 -0.037 \u001b[31m-0.048\u001b[0m \u001b[31m-0.106\u001b[0m \u001b[31m-0.334\u001b[0m \u001b[31m-0.448\u001b[0m \u001b[31m-0.521\u001b[0m \u001b[31m-0.549\u001b[0m \u001b[31m-0.564\u001b[0m \u001b[31m-0.980\u001b[0m: -3.551  3.889\n",
      "1. 0.974 0.662 0.549 0.533 0.495 \u001b[31m0.203\u001b[0m 0.184 -0.081 -0.147 \u001b[31m-0.181\u001b[0m \u001b[31m-0.292\u001b[0m \u001b[31m-0.680\u001b[0m \u001b[31m-0.728\u001b[0m \u001b[31m-0.820\u001b[0m \u001b[31m-1.482\u001b[0m: -3.981  5.419\n",
      "2. 1.095 0.977 0.342 0.306 \u001b[31m0.193\u001b[0m 0.168 \u001b[31m0.017\u001b[0m \u001b[31m-0.197\u001b[0m -0.205 -0.334 \u001b[31m-0.702\u001b[0m \u001b[31m-0.784\u001b[0m \u001b[31m-0.903\u001b[0m \u001b[31m-0.924\u001b[0m \u001b[31m-1.276\u001b[0m: -4.576  6.468\n",
      "3. \u001b[31m1.644\u001b[0m \u001b[31m0.984\u001b[0m \u001b[31m0.938\u001b[0m 0.486 \u001b[31m0.472\u001b[0m 0.364 0.298 0.275 -0.098 -0.162 -0.319 -0.705 -0.719 -0.767 -1.544: 4.039  8.164\n",
      "4. 2.313 2.156 1.375 0.659 0.582 \u001b[31m0.192\u001b[0m \u001b[31m-0.063\u001b[0m \u001b[31m-0.074\u001b[0m \u001b[31m-0.428\u001b[0m \u001b[31m-0.729\u001b[0m \u001b[31m-0.943\u001b[0m \u001b[31m-1.128\u001b[0m \u001b[31m-1.307\u001b[0m \u001b[31m-1.404\u001b[0m \u001b[31m-1.550\u001b[0m: -7.433  19.677\n",
      "5. \u001b[31m1.124\u001b[0m \u001b[31m1.116\u001b[0m \u001b[31m1.061\u001b[0m 0.328 0.153 -0.102 -0.173 -0.186 -0.280 -0.407 -0.412 -0.415 -0.432 -0.504 -0.572: 3.302  4.745\n",
      "6. \u001b[31m1.171\u001b[0m \u001b[31m0.995\u001b[0m \u001b[31m0.909\u001b[0m 0.738 0.317 0.009 -0.085 -0.105 -0.163 -0.221 -0.444 -0.693 -0.737 -0.759 -1.309: 3.076  6.099\n",
      "7. \u001b[31m0.990\u001b[0m \u001b[31m0.705\u001b[0m \u001b[31m0.628\u001b[0m \u001b[31m0.349\u001b[0m 0.159 -0.044 -0.127 -0.135 -0.145 -0.275 -0.306 -0.546 -0.640 -0.654 -0.705: 2.673  3.277\n",
      "8. \u001b[31m1.572\u001b[0m \u001b[31m1.305\u001b[0m \u001b[31m1.117\u001b[0m \u001b[31m1.040\u001b[0m \u001b[31m0.805\u001b[0m \u001b[31m0.759\u001b[0m \u001b[31m0.411\u001b[0m 0.361 -0.215 -0.225 -0.476 \u001b[31m-0.649\u001b[0m -0.751 -0.902 -2.082: 6.360  12.372\n",
      "9. 1.087 0.941 0.530 \u001b[31m0.361\u001b[0m \u001b[31m0.336\u001b[0m \u001b[31m0.071\u001b[0m \u001b[31m0.025\u001b[0m \u001b[31m-0.146\u001b[0m \u001b[31m-0.205\u001b[0m \u001b[31m-0.250\u001b[0m \u001b[31m-0.461\u001b[0m \u001b[31m-0.632\u001b[0m \u001b[31m-0.751\u001b[0m \u001b[31m-0.818\u001b[0m \u001b[31m-0.962\u001b[0m: -3.431  4.873\n",
      "10. \u001b[31m1.584\u001b[0m \u001b[31m0.970\u001b[0m \u001b[31m0.888\u001b[0m \u001b[31m0.705\u001b[0m \u001b[31m0.250\u001b[0m 0.237 -0.132 -0.144 -0.307 -0.327 -0.436 -0.638 -0.679 -1.041 -1.459: 4.397  7.420\n",
      "11. 1.642 1.082 0.922 0.839 0.574 \u001b[31m0.375\u001b[0m 0.011 -0.030 \u001b[31m-0.139\u001b[0m \u001b[31m-0.765\u001b[0m \u001b[31m-1.080\u001b[0m \u001b[31m-1.160\u001b[0m \u001b[31m-1.372\u001b[0m \u001b[31m-1.543\u001b[0m \u001b[31m-1.874\u001b[0m: -7.558  14.868\n",
      "12. 1.021 0.765 0.524 0.523 0.460 0.430 0.398 0.205 0.161 -0.084 \u001b[31m-0.379\u001b[0m \u001b[31m-1.157\u001b[0m \u001b[31m-1.165\u001b[0m \u001b[31m-1.212\u001b[0m \u001b[31m-1.932\u001b[0m: -5.846  10.091\n",
      "13. 1.862 1.264 0.846 0.554 \u001b[31m-0.052\u001b[0m \u001b[31m-0.058\u001b[0m -0.097 -0.098 \u001b[31m-0.136\u001b[0m \u001b[31m-0.678\u001b[0m \u001b[31m-0.698\u001b[0m \u001b[31m-0.953\u001b[0m \u001b[31m-1.039\u001b[0m \u001b[31m-1.163\u001b[0m \u001b[31m-1.379\u001b[0m: -6.156  10.453\n",
      "14. 1.251 0.999 0.691 0.471 0.305 0.226 0.134 0.113 \u001b[31m-0.313\u001b[0m \u001b[31m-0.462\u001b[0m \u001b[31m-0.485\u001b[0m \u001b[31m-1.081\u001b[0m \u001b[31m-1.206\u001b[0m \u001b[31m-1.213\u001b[0m \u001b[31m-1.391\u001b[0m: -6.150  9.406\n",
      "15. \u001b[31m1.689\u001b[0m \u001b[31m1.551\u001b[0m \u001b[31m0.963\u001b[0m \u001b[31m0.921\u001b[0m \u001b[31m0.495\u001b[0m 0.289 \u001b[31m0.048\u001b[0m -0.079 -0.373 -0.380 -0.714 -0.722 -0.764 -0.842 -1.217: 5.667  9.331\n",
      "16. \u001b[31m1.415\u001b[0m \u001b[31m1.260\u001b[0m \u001b[31m1.035\u001b[0m \u001b[31m0.626\u001b[0m \u001b[31m0.620\u001b[0m \u001b[31m0.438\u001b[0m 0.365 0.118 -0.079 -0.149 -0.845 -1.034 -1.066 -1.086 -1.395: 5.395  11.210\n",
      "17. 1.543 1.025 0.817 0.784 0.055 0.010 -0.056 \u001b[31m-0.128\u001b[0m -0.156 \u001b[31m-0.288\u001b[0m \u001b[31m-0.391\u001b[0m \u001b[31m-0.472\u001b[0m \u001b[31m-0.952\u001b[0m \u001b[31m-1.288\u001b[0m \u001b[31m-1.304\u001b[0m: -4.824  8.951\n",
      "18. \u001b[31m1.487\u001b[0m \u001b[31m0.841\u001b[0m 0.369 0.294 0.221 \u001b[31m0.179\u001b[0m 0.073 \u001b[31m0.072\u001b[0m 0.035 -0.110 -0.267 \u001b[31m-0.392\u001b[0m -0.628 -0.921 -1.558: 2.186  5.503\n",
      "19. 1.484 1.293 \u001b[31m0.835\u001b[0m 0.794 0.554 0.524 0.481 0.426 \u001b[31m-0.013\u001b[0m \u001b[31m-0.150\u001b[0m \u001b[31m-0.278\u001b[0m \u001b[31m-1.094\u001b[0m \u001b[31m-1.408\u001b[0m \u001b[31m-1.687\u001b[0m \u001b[31m-3.178\u001b[0m: -6.973  18.601\n"
     ]
    }
   ],
   "source": [
    "_=greedy_pos_neg_test(epsilon=0, num_instances=20, display=True)"
   ]
  },
  {
   "cell_type": "markdown",
   "metadata": {},
   "source": [
    "Comparing with the optimal solutions, this greedy approach identifies the optimal objective values for 18 / 20 instances with a much shorter time.\n",
    "\n",
    "The below 6 cells calculates the queries and the corresponding objective functions using the greedy approach for all 2000 instances. \n",
    "\n",
    "(Warning: Running these cells needs about 1 minutes!)"
   ]
  },
  {
   "cell_type": "code",
   "execution_count": 180,
   "metadata": {},
   "outputs": [],
   "source": [
    "gpne0f = greedy_pos_neg_test(epsilon=0)"
   ]
  },
  {
   "cell_type": "code",
   "execution_count": 20,
   "metadata": {},
   "outputs": [],
   "source": [
    "gpne1e_3f = greedy_pos_neg_test(epsilon=1e-3)"
   ]
  },
  {
   "cell_type": "code",
   "execution_count": 21,
   "metadata": {},
   "outputs": [],
   "source": [
    "gpne1e_2f = greedy_pos_neg_test(epsilon=1e-2)"
   ]
  },
  {
   "cell_type": "code",
   "execution_count": 22,
   "metadata": {},
   "outputs": [],
   "source": [
    "gpne1e_1f = greedy_pos_neg_test(epsilon=1e-1)"
   ]
  },
  {
   "cell_type": "code",
   "execution_count": 23,
   "metadata": {},
   "outputs": [],
   "source": [
    "gpne1f = greedy_pos_neg_test(epsilon=1)"
   ]
  },
  {
   "cell_type": "code",
   "execution_count": 24,
   "metadata": {},
   "outputs": [],
   "source": [
    "gpne10f = greedy_pos_neg_test(epsilon=10)"
   ]
  },
  {
   "cell_type": "code",
   "execution_count": 181,
   "metadata": {},
   "outputs": [
    {
     "data": {
      "text/plain": [
       "2000"
      ]
     },
     "execution_count": 181,
     "metadata": {},
     "output_type": "execute_result"
    }
   ],
   "source": [
    "len(smaller_instances)"
   ]
  },
  {
   "cell_type": "markdown",
   "metadata": {},
   "source": [
    "### Pre-sort greedy\n",
    "\n",
    "In the following cells, we investigate the pre-sort greedy approach. We firstly sort the data points according to their (orthogonal projected) gradient values. Then, we can use the efficient algorithm of calculating the norms of orthogonal projections to solve the prefix optimisation prolem efficiently. "
   ]
  },
  {
   "cell_type": "code",
   "execution_count": 25,
   "metadata": {},
   "outputs": [],
   "source": [
    "def fast_para_norms_prefix(O, ext):\n",
    "    deltas = O[ext]\n",
    "    length = len(ext)\n",
    "    okqi = np.cumsum(deltas, axis=0)\n",
    "    q_para_norms = (okqi ** 2).sum(axis=1)\n",
    "    q_orth_norms_sq = np.abs(np.arange(1, length + 1) - q_para_norms)\n",
    "    q_orth_norms = np.sqrt(q_orth_norms_sq)\n",
    "    return q_orth_norms\n",
    "\n",
    "\n",
    "def pre_order_greedy(inst, epsilon=0, f = squared_grad_sum_by_squared_orth_norm):\n",
    "    seq = np.zeros(shape=(inst.n+1, inst.n))\n",
    "    objs = np.zeros(inst.n+1)\n",
    "    order = np.argsort(inst.g)\n",
    "    g = inst.g[order]\n",
    "    O = inst.O[order]\n",
    "    num_pre = abs(np.cumsum(g))\n",
    "    num_suf = abs(np.cumsum(g[::-1]))\n",
    "    ext = np.arange(inst.n)\n",
    "    qs = fast_para_norms_prefix(O, ext) + epsilon\n",
    "    qs_neg = fast_para_norms_prefix(O, ext[::-1]) + epsilon\n",
    "    neg_bounds = np.divide(num_suf, qs_neg, out=np.zeros_like(num_suf), where=qs_neg != 0)\n",
    "    pos_bounds = np.divide(num_pre, qs, out=np.zeros_like(num_suf), where=qs != 0)\n",
    "    neg_max = np.argmax(neg_bounds)\n",
    "    pos_max = np.argmax(pos_bounds)\n",
    "#     print(pos_bounds)\n",
    "#     print(neg_bounds)\n",
    "    if neg_bounds[neg_max]>pos_bounds[pos_max]:\n",
    "        best_seq = np.zeros(inst.n)\n",
    "        selected = np.arange(0, neg_max+1)\n",
    "        best_seq[order[selected]]=1\n",
    "        obj = neg_bounds[neg_max]\n",
    "    else:\n",
    "        best_seq = np.zeros(inst.n)\n",
    "        selected = np.arange(0, pos_max+1)\n",
    "        best_seq[order[::-1][selected]]=1\n",
    "        obj = pos_bounds[pos_max]\n",
    "    return result(best_seq, obj**2, seq, inst)"
   ]
  },
  {
   "cell_type": "code",
   "execution_count": 173,
   "metadata": {},
   "outputs": [],
   "source": [
    "def pre_order_greedy_test(epsilon=0, num_inst=num_instances, display=False):\n",
    "    smaller_instances_pre_f_stars = np.array([])\n",
    "    for i in range(num_inst):\n",
    "        inst = smaller_instances[i]\n",
    "        res = pre_order_greedy(inst, epsilon=epsilon)\n",
    "        if display:\n",
    "            print(i, end='. ')\n",
    "            res.print_selected_elements_by_score(end=': ')\n",
    "            print(i, f'{inst.g.dot(res.q_star):.3f}', f'{res.f_star: .3f}')\n",
    "#             smaller_instances_pre_res.append(res)\n",
    "        smaller_instances_pre_f_stars = np.append(smaller_instances_pre_f_stars, res.f_star)\n",
    "    return smaller_instances_pre_f_stars"
   ]
  },
  {
   "cell_type": "markdown",
   "metadata": {},
   "source": [
    "The following cell shows the results of the first 20 instances."
   ]
  },
  {
   "cell_type": "code",
   "execution_count": 188,
   "metadata": {},
   "outputs": [
    {
     "name": "stdout",
     "output_type": "stream",
     "text": [
      "0. \u001b[31m1.109\u001b[0m \u001b[31m0.836\u001b[0m \u001b[31m0.512\u001b[0m \u001b[31m0.220\u001b[0m \u001b[31m0.134\u001b[0m \u001b[31m-0.029\u001b[0m \u001b[31m-0.037\u001b[0m \u001b[31m-0.048\u001b[0m -0.106 -0.334 -0.448 -0.521 -0.549 -0.564 -0.980: 0 2.696  3.889\n",
      "1. \u001b[31m0.974\u001b[0m \u001b[31m0.662\u001b[0m \u001b[31m0.549\u001b[0m \u001b[31m0.533\u001b[0m \u001b[31m0.495\u001b[0m \u001b[31m0.203\u001b[0m \u001b[31m0.184\u001b[0m -0.081 -0.147 -0.181 -0.292 -0.680 -0.728 -0.820 -1.482: 1 3.600  5.326\n",
      "2. \u001b[31m1.095\u001b[0m \u001b[31m0.977\u001b[0m \u001b[31m0.342\u001b[0m \u001b[31m0.306\u001b[0m \u001b[31m0.193\u001b[0m \u001b[31m0.168\u001b[0m \u001b[31m0.017\u001b[0m \u001b[31m-0.197\u001b[0m -0.205 -0.334 -0.702 -0.784 -0.903 -0.924 -1.276: 2 2.901  6.136\n",
      "3. \u001b[31m1.644\u001b[0m \u001b[31m0.984\u001b[0m \u001b[31m0.938\u001b[0m \u001b[31m0.486\u001b[0m \u001b[31m0.472\u001b[0m \u001b[31m0.364\u001b[0m \u001b[31m0.298\u001b[0m \u001b[31m0.275\u001b[0m -0.098 -0.162 -0.319 -0.705 -0.719 -0.767 -1.544: 3 5.463  8.164\n",
      "4. \u001b[31m2.313\u001b[0m \u001b[31m2.156\u001b[0m \u001b[31m1.375\u001b[0m \u001b[31m0.659\u001b[0m \u001b[31m0.582\u001b[0m \u001b[31m0.192\u001b[0m \u001b[31m-0.063\u001b[0m \u001b[31m-0.074\u001b[0m \u001b[31m-0.428\u001b[0m \u001b[31m-0.729\u001b[0m -0.943 -1.128 -1.307 -1.404 -1.550: 4 5.983  19.677\n",
      "5. 1.124 1.116 1.061 0.328 0.153 -0.102 -0.173 -0.186 -0.280 -0.407 -0.412 -0.415 \u001b[31m-0.432\u001b[0m \u001b[31m-0.504\u001b[0m \u001b[31m-0.572\u001b[0m: 5 -1.508  4.745\n",
      "6. 1.171 0.995 0.909 0.738 0.317 0.009 -0.085 -0.105 -0.163 -0.221 -0.444 -0.693 \u001b[31m-0.737\u001b[0m \u001b[31m-0.759\u001b[0m \u001b[31m-1.309\u001b[0m: 6 -2.804  6.099\n",
      "7. 0.990 0.705 0.628 0.349 0.159 -0.044 -0.127 -0.135 -0.145 -0.275 -0.306 \u001b[31m-0.546\u001b[0m \u001b[31m-0.640\u001b[0m \u001b[31m-0.654\u001b[0m \u001b[31m-0.705\u001b[0m: 7 -2.546  3.277\n",
      "8. 1.572 1.305 1.117 1.040 0.805 0.759 0.411 0.361 \u001b[31m-0.215\u001b[0m \u001b[31m-0.225\u001b[0m \u001b[31m-0.476\u001b[0m \u001b[31m-0.649\u001b[0m \u001b[31m-0.751\u001b[0m \u001b[31m-0.902\u001b[0m \u001b[31m-2.082\u001b[0m: 8 -5.299  12.282\n",
      "9. \u001b[31m1.087\u001b[0m \u001b[31m0.941\u001b[0m \u001b[31m0.530\u001b[0m \u001b[31m0.361\u001b[0m \u001b[31m0.336\u001b[0m \u001b[31m0.071\u001b[0m \u001b[31m0.025\u001b[0m \u001b[31m-0.146\u001b[0m \u001b[31m-0.205\u001b[0m \u001b[31m-0.250\u001b[0m \u001b[31m-0.461\u001b[0m \u001b[31m-0.632\u001b[0m -0.751 -0.818 -0.962: 9 1.657  4.873\n",
      "10. \u001b[31m1.584\u001b[0m \u001b[31m0.970\u001b[0m \u001b[31m0.888\u001b[0m \u001b[31m0.705\u001b[0m \u001b[31m0.250\u001b[0m \u001b[31m0.237\u001b[0m \u001b[31m-0.132\u001b[0m -0.144 -0.307 -0.327 -0.436 -0.638 -0.679 -1.041 -1.459: 10 4.502  7.466\n",
      "11. \u001b[31m1.642\u001b[0m \u001b[31m1.082\u001b[0m \u001b[31m0.922\u001b[0m \u001b[31m0.839\u001b[0m \u001b[31m0.574\u001b[0m \u001b[31m0.375\u001b[0m 0.011 -0.030 -0.139 -0.765 -1.080 -1.160 -1.372 -1.543 -1.874: 11 5.435  13.256\n",
      "12. \u001b[31m1.021\u001b[0m \u001b[31m0.765\u001b[0m \u001b[31m0.524\u001b[0m \u001b[31m0.523\u001b[0m \u001b[31m0.460\u001b[0m 0.430 0.398 0.205 0.161 -0.084 -0.379 -1.157 -1.165 -1.212 -1.932: 12 3.293  10.091\n",
      "13. \u001b[31m1.862\u001b[0m \u001b[31m1.264\u001b[0m \u001b[31m0.846\u001b[0m \u001b[31m0.554\u001b[0m \u001b[31m-0.052\u001b[0m \u001b[31m-0.058\u001b[0m \u001b[31m-0.097\u001b[0m \u001b[31m-0.098\u001b[0m \u001b[31m-0.136\u001b[0m -0.678 -0.698 -0.953 -1.039 -1.163 -1.379: 13 4.084  9.890\n",
      "14. \u001b[31m1.251\u001b[0m \u001b[31m0.999\u001b[0m \u001b[31m0.691\u001b[0m \u001b[31m0.471\u001b[0m \u001b[31m0.305\u001b[0m \u001b[31m0.226\u001b[0m \u001b[31m0.134\u001b[0m 0.113 -0.313 -0.462 -0.485 -1.081 -1.206 -1.213 -1.391: 14 4.077  9.406\n",
      "15. 1.689 1.551 0.963 0.921 0.495 0.289 0.048 -0.079 -0.373 -0.380 -0.714 -0.722 \u001b[31m-0.764\u001b[0m \u001b[31m-0.842\u001b[0m \u001b[31m-1.217\u001b[0m: 15 -2.823  8.962\n",
      "16. 1.415 1.260 1.035 0.626 0.620 0.438 0.365 0.118 -0.079 \u001b[31m-0.149\u001b[0m \u001b[31m-0.845\u001b[0m \u001b[31m-1.034\u001b[0m \u001b[31m-1.066\u001b[0m \u001b[31m-1.086\u001b[0m \u001b[31m-1.395\u001b[0m: 16 -5.575  11.210\n",
      "17. \u001b[31m1.543\u001b[0m \u001b[31m1.025\u001b[0m \u001b[31m0.817\u001b[0m \u001b[31m0.784\u001b[0m \u001b[31m0.055\u001b[0m \u001b[31m0.010\u001b[0m \u001b[31m-0.056\u001b[0m \u001b[31m-0.128\u001b[0m -0.156 -0.288 -0.391 -0.472 -0.952 -1.288 -1.304: 17 4.049  7.468\n",
      "18. \u001b[31m1.487\u001b[0m \u001b[31m0.841\u001b[0m \u001b[31m0.369\u001b[0m \u001b[31m0.294\u001b[0m 0.221 0.179 0.073 0.072 0.035 -0.110 -0.267 -0.392 -0.628 -0.921 -1.558: 18 2.991  5.315\n",
      "19. \u001b[31m1.484\u001b[0m \u001b[31m1.293\u001b[0m \u001b[31m0.835\u001b[0m \u001b[31m0.794\u001b[0m \u001b[31m0.554\u001b[0m \u001b[31m0.524\u001b[0m 0.481 0.426 -0.013 -0.150 -0.278 -1.094 -1.408 -1.687 -3.178: 19 5.484  18.113\n"
     ]
    }
   ],
   "source": [
    "_=pre_order_greedy_test(epsilon=0, num_inst=20, display=True)"
   ]
  },
  {
   "cell_type": "markdown",
   "metadata": {},
   "source": [
    "The pre-sort greedy approach is more efficient, but it only approximates the optimal objective values.\n",
    "\n",
    "The following cells calculate the queries and objective values for all the 2000 instances. \n",
    "\n",
    "(Running these cells require less than 10 seconds!)"
   ]
  },
  {
   "cell_type": "code",
   "execution_count": 190,
   "metadata": {},
   "outputs": [],
   "source": [
    "pree0f = pre_order_greedy_test(epsilon=0)"
   ]
  },
  {
   "cell_type": "code",
   "execution_count": 191,
   "metadata": {},
   "outputs": [],
   "source": [
    "pree1e_3f = pre_order_greedy_test(epsilon=1e-3)"
   ]
  },
  {
   "cell_type": "code",
   "execution_count": 192,
   "metadata": {},
   "outputs": [],
   "source": [
    "pree1e_2f = pre_order_greedy_test(epsilon=1e-2)"
   ]
  },
  {
   "cell_type": "code",
   "execution_count": 193,
   "metadata": {},
   "outputs": [],
   "source": [
    "pree1e_1f = pre_order_greedy_test(epsilon=1e-1)"
   ]
  },
  {
   "cell_type": "code",
   "execution_count": 194,
   "metadata": {},
   "outputs": [],
   "source": [
    "pree1f = pre_order_greedy_test(epsilon=1)"
   ]
  },
  {
   "cell_type": "code",
   "execution_count": 195,
   "metadata": {},
   "outputs": [],
   "source": [
    "pree10f = pre_order_greedy_test(epsilon=10)"
   ]
  },
  {
   "cell_type": "markdown",
   "metadata": {},
   "source": [
    "We define the **approximation rate** as the ratio between the objective values calculated by greedy approach and the optimal objective values. The approximation rate of the two greedy approches are calculated:"
   ]
  },
  {
   "cell_type": "code",
   "execution_count": 196,
   "metadata": {
    "scrolled": true
   },
   "outputs": [
    {
     "data": {
      "text/plain": [
       "(array([1.       , 1.       , 1.       , ..., 1.       , 0.9505098,\n",
       "        1.       ]),\n",
       " array([1.        , 0.98281094, 0.94871012, ..., 1.        , 0.9505098 ,\n",
       "        0.96073593]))"
      ]
     },
     "execution_count": 196,
     "metadata": {},
     "output_type": "execute_result"
    }
   ],
   "source": [
    "ratio_pn0 = gpne0f / bfe0f\n",
    "ratio_pre0 = pree0f / bfe0f\n",
    "ratio_pn0, ratio_pre0"
   ]
  },
  {
   "cell_type": "code",
   "execution_count": 197,
   "metadata": {
    "scrolled": true
   },
   "outputs": [
    {
     "data": {
      "text/plain": [
       "(array([1.       , 1.       , 1.       , ..., 1.       , 0.9508653,\n",
       "        1.       ]),\n",
       " array([1.        , 0.9829129 , 0.94888191, ..., 1.        , 0.9508653 ,\n",
       "        0.96123492]))"
      ]
     },
     "execution_count": 197,
     "metadata": {},
     "output_type": "execute_result"
    }
   ],
   "source": [
    "ratio_pn1e_3 = gpne1e_3f / bfe1e_3f\n",
    "ratio_pre1e_3 = pree1e_3f / bfe1e_3f\n",
    "ratio_pn1e_3, ratio_pre1e_3"
   ]
  },
  {
   "cell_type": "code",
   "execution_count": 198,
   "metadata": {
    "scrolled": true
   },
   "outputs": [
    {
     "data": {
      "text/plain": [
       "(array([1.        , 1.        , 1.        , ..., 1.        , 0.95404836,\n",
       "        1.        ]),\n",
       " array([1.        , 0.98382583, 0.95042159, ..., 1.        , 0.95404836,\n",
       "        0.96571204]))"
      ]
     },
     "execution_count": 198,
     "metadata": {},
     "output_type": "execute_result"
    }
   ],
   "source": [
    "ratio_pn1e_2 = gpne1e_2f / bfe1e_2f\n",
    "ratio_pre1e_2 = pree1e_2f / bfe1e_2f\n",
    "ratio_pn1e_2, ratio_pre1e_2"
   ]
  },
  {
   "cell_type": "code",
   "execution_count": 199,
   "metadata": {
    "scrolled": true
   },
   "outputs": [
    {
     "data": {
      "text/plain": [
       "(array([1.        , 1.        , 1.        , ..., 1.        , 0.98432669,\n",
       "        0.99092552]),\n",
       " array([1.        , 0.99251904, 0.96520381, ..., 1.        , 0.98432669,\n",
       "        1.        ]))"
      ]
     },
     "execution_count": 199,
     "metadata": {},
     "output_type": "execute_result"
    }
   ],
   "source": [
    "ratio_pn1e_1 = gpne1e_1f / bfe1e_1f\n",
    "ratio_pre1e_1 = pree1e_1f / bfe1e_1f\n",
    "ratio_pn1e_1, ratio_pre1e_1"
   ]
  },
  {
   "cell_type": "code",
   "execution_count": 200,
   "metadata": {
    "scrolled": true
   },
   "outputs": [
    {
     "data": {
      "text/plain": [
       "(array([1., 1., 1., ..., 1., 1., 1.]),\n",
       " array([1.        , 1.        , 1.        , ..., 0.97513396, 1.        ,\n",
       "        1.        ]))"
      ]
     },
     "execution_count": 200,
     "metadata": {},
     "output_type": "execute_result"
    }
   ],
   "source": [
    "ratio_pn1 = gpne1f / bfe1f\n",
    "ratio_pre1 = pree1f / bfe1f\n",
    "ratio_pn1, ratio_pre1"
   ]
  },
  {
   "cell_type": "code",
   "execution_count": 201,
   "metadata": {
    "scrolled": true
   },
   "outputs": [
    {
     "data": {
      "text/plain": [
       "(array([1., 1., 1., ..., 1., 1., 1.]),\n",
       " array([1.        , 1.        , 1.        , ..., 0.97813932, 1.        ,\n",
       "        1.        ]))"
      ]
     },
     "execution_count": 201,
     "metadata": {},
     "output_type": "execute_result"
    }
   ],
   "source": [
    "ratio_pn10 = gpne10f / bfe10f\n",
    "ratio_pre10 = pree10f / bfe10f\n",
    "ratio_pn10, ratio_pre10"
   ]
  },
  {
   "cell_type": "code",
   "execution_count": 202,
   "metadata": {},
   "outputs": [],
   "source": [
    "kwargs = dict(width=0.25/20)"
   ]
  },
  {
   "cell_type": "markdown",
   "metadata": {},
   "source": [
    "Compare the fully-greeedy approach with the pre-sort greedy approach (linear scale and log scale)."
   ]
  },
  {
   "cell_type": "code",
   "execution_count": 203,
   "metadata": {},
   "outputs": [
    {
     "name": "stderr",
     "output_type": "stream",
     "text": [
      "/tmp/ipykernel_10771/184828606.py:19: UserWarning: FixedFormatter should only be used together with FixedLocator\n",
      "  axs[0, i].set_yticklabels(['%1.1f%%' %i for i in vals])\n"
     ]
    },
    {
     "data": {
      "image/png": "[encoded data removed]",
      "text/plain": [
       "<Figure size 864x288 with 3 Axes>"
      ]
     },
     "metadata": {
      "needs_background": "light"
     },
     "output_type": "display_data"
    }
   ],
   "source": [
    "from matplotlib import pyplot as plt\n",
    "\n",
    "def plot_hists(res_pns, res_pres, filename, log_scale=False):\n",
    "    heights_pres=[]\n",
    "    heights_pns=[]\n",
    "    fig, axs = plt.subplots(1, 3, figsize=(12, 4), sharey=True, sharex=True, tight_layout=True, squeeze=False)\n",
    "    for i in range(3):\n",
    "        heights_pre, bins = np.histogram(res_pres[i], 20, range=(0.75, 1))\n",
    "#         print(heights_pre/20, bins)\n",
    "        heights_pn, _ = np.histogram(res_pns[i], bins)\n",
    "        heights_pns.append(heights_pn)\n",
    "        heights_pres.append(heights_pre)\n",
    "        axs[0, i].bar(bins[1:], heights_pre/sum(heights_pre)*100, label = 'pre-sort greedy', edgecolor='blue', align=\"edge\",alpha=0.6, **kwargs)\n",
    "        axs[0, i].bar(bins[1:], heights_pn/sum(heights_pn)*100, label='greedy', align=\"edge\", edgecolor='orange',alpha=0.5,  **kwargs)\n",
    "        axs[0, i].grid()\n",
    "        if log_scale:\n",
    "            axs[0, i].set_yscale('log')\n",
    "        vals = axs[0, i].get_yticks()\n",
    "        axs[0, i].set_yticklabels(['%1.1f%%' %i for i in vals])\n",
    "    axs[0, 0].set_xlabel(r\"$obj_{g}(q)/obj^*(q)$\")\n",
    "    axs[0, 0].set_title(r\"$\\epsilon=0.001$\")\n",
    "    axs[0, 1].set_title(r\"$\\epsilon=0.1$\")\n",
    "    axs[0, 2].set_title(r\"$\\epsilon=1$\")\n",
    "    axs[0, 0].set_ylabel(r'Ratio of instances')\n",
    "    axs[0, 0].legend(loc='upper left')\n",
    "    fig.savefig(filename)\n",
    "    return heights_pres, heights_pns\n",
    "pre, pn=plot_hists([ratio_pn1e_3, ratio_pn1e_1, ratio_pn1], [ratio_pre1e_3, ratio_pre1e_1, ratio_pre1], filename='combined_greedy.pdf')"
   ]
  },
  {
   "cell_type": "code",
   "execution_count": 204,
   "metadata": {},
   "outputs": [
    {
     "name": "stderr",
     "output_type": "stream",
     "text": [
      "/tmp/ipykernel_10771/184828606.py:19: UserWarning: FixedFormatter should only be used together with FixedLocator\n",
      "  axs[0, i].set_yticklabels(['%1.1f%%' %i for i in vals])\n"
     ]
    },
    {
     "data": {
      "image/png": "[encoded data removed]",
      "text/plain": [
       "<Figure size 864x288 with 3 Axes>"
      ]
     },
     "metadata": {
      "needs_background": "light"
     },
     "output_type": "display_data"
    }
   ],
   "source": [
    "_,_=plot_hists([ratio_pn1e_3, ratio_pn1e_1, ratio_pn1], [ratio_pre1e_3, ratio_pre1e_1, ratio_pre1], filename='combined_greedy_log.pdf', log_scale=True)"
   ]
  },
  {
   "cell_type": "code",
   "execution_count": 205,
   "metadata": {},
   "outputs": [
    {
     "data": {
      "text/markdown": [
       "The following table shows the ratios of instances where the pre-sort greedy approach reaches certain approximation rates of the optimal bounding values:"
      ],
      "text/plain": [
       "<IPython.core.display.Markdown object>"
      ]
     },
     "metadata": {},
     "output_type": "display_data"
    },
    {
     "data": {
      "text/markdown": [
       "\n",
       "pre-sort/obj*|$\\epsilon$=0.001|$\\epsilon$=0.1|$\\epsilon$=1\n",
       "---|---|---|---\n",
       "75%|100.000%|100.000%|100.000%\n",
       "    80%|99.655%|99.705%|100.000%\n",
       "    85%|96.209%|98.053%|99.934%\n",
       "    90%|88.110%|90.796%|99.336%\n",
       "    95%|65.537%|70.147%|92.430%\n",
       "    100%|33.199%|36.873%|63.280%\n",
       "    "
      ],
      "text/plain": [
       "<IPython.core.display.Markdown object>"
      ]
     },
     "metadata": {},
     "output_type": "display_data"
    }
   ],
   "source": [
    "from IPython.display import display, Markdown\n",
    "epsilons=[0.001, 0.1, 1]\n",
    "output_string=rf\"\"\"\n",
    "pre-sort/obj*|$\\epsilon$=0.001|$\\epsilon$=0.1|$\\epsilon$=1\n",
    "---|---|---|---\n",
    "\"\"\"\n",
    "for i in range(6):\n",
    "    output_string+=rf\"\"\"{75+i*5}%\"\"\"\n",
    "    for j in range(3):\n",
    "        output_string+=rf\"\"\"|{sum(pre[j][max(0,4*i-1):])/sum(pre[j])*100:.3f}%\"\"\"\n",
    "    output_string+=rf\"\"\"\n",
    "    \"\"\"\n",
    "display(Markdown(\"The following table shows the ratios of instances where the pre-sort greedy approach reaches certain approximation rates of the optimal bounding values:\"))\n",
    "display(Markdown(output_string))"
   ]
  },
  {
   "cell_type": "markdown",
   "metadata": {},
   "source": [
    "More than 99% of the instances approximate 80% of the optimal solution when $\\epsilon=0.001$ and $\\epsilon=0.1$, and 90% of the optimal solution when $\\epsilon=1$. \n",
    "\n",
    "As a reference, we also calculate the approximation rate of the fully greedy approach as following cell."
   ]
  },
  {
   "cell_type": "code",
   "execution_count": 170,
   "metadata": {},
   "outputs": [
    {
     "data": {
      "text/markdown": [
       "The following table shows the ratios of instances where the greedy approach reaches certain approximation rate of the optimal bounding values:"
      ],
      "text/plain": [
       "<IPython.core.display.Markdown object>"
      ]
     },
     "metadata": {},
     "output_type": "display_data"
    },
    {
     "data": {
      "text/markdown": [
       "\n",
       "greedy/obj*|$\\epsilon$=0.001|$\\epsilon$=0.1|$\\epsilon$=1\n",
       "---|---|---|---\n",
       "75%|100.000%|100.000%|100.000%\n",
       "    80%|99.939%|99.937%|100.000%\n",
       "    85%|99.756%|99.875%|99.933%\n",
       "    90%|97.375%|98.310%|99.867%\n",
       "    95%|91.697%|93.930%|99.002%\n",
       "    100%|76.862%|79.599%|92.947%\n",
       "    "
      ],
      "text/plain": [
       "<IPython.core.display.Markdown object>"
      ]
     },
     "metadata": {},
     "output_type": "display_data"
    }
   ],
   "source": [
    "output_string=rf\"\"\"\n",
    "greedy/obj*|$\\epsilon$=0.001|$\\epsilon$=0.1|$\\epsilon$=1\n",
    "---|---|---|---\n",
    "\"\"\"\n",
    "for i in range(6):\n",
    "    output_string+=rf\"\"\"{75+i*5}%\"\"\"\n",
    "    for j in range(3):\n",
    "        output_string+=rf\"\"\"|{sum(pn[j][max(0,4*i-1):])/sum(pn[j])*100:.3f}%\"\"\"\n",
    "    output_string+=rf\"\"\"\n",
    "    \"\"\"\n",
    "display(Markdown(\"The following table shows the ratios of instances where the greedy approach reaches certain approximation rates of the optimal bounding values:\"))\n",
    "display(Markdown(output_string))"
   ]
  },
  {
   "cell_type": "markdown",
   "metadata": {},
   "source": []
  },
  {
   "cell_type": "markdown",
   "metadata": {},
   "source": []
  },
  {
   "cell_type": "code",
   "execution_count": 119,
   "metadata": {},
   "outputs": [
    {
     "data": {
      "image/png": "[encoded data removed]",
      "text/plain": [
       "<Figure size 432x288 with 1 Axes>"
      ]
     },
     "metadata": {
      "needs_background": "light"
     },
     "output_type": "display_data"
    }
   ],
   "source": [
    "plt.hist([ratio_pn0, ratio_pre0], label=['greedy', 'pre_sort greedy'], **kwargs)\n",
    "plt.grid()\n",
    "plt.legend()\n",
    "plt.ylabel(\"Number of instances\")\n",
    "plt.xlabel(r\"$obj_{g}(q)/obj^*(q)$\")\n",
    "plt.title(r\"$\\epsilon$=0\")\n",
    "plt.savefig(\"greedy_pn0.pdf\")"
   ]
  },
  {
   "cell_type": "code",
   "execution_count": 120,
   "metadata": {},
   "outputs": [
    {
     "data": {
      "image/png": "[encoded data removed]",
      "text/plain": [
       "<Figure size 432x288 with 1 Axes>"
      ]
     },
     "metadata": {
      "needs_background": "light"
     },
     "output_type": "display_data"
    }
   ],
   "source": [
    "plt.hist([ratio_pn1e_3, ratio_pre1e_3], label=['greedy', 'pre_sort greedy'], **kwargs)\n",
    "plt.grid()\n",
    "plt.legend()\n",
    "plt.ylabel(\"Number of instances\")\n",
    "plt.title(r\"$\\epsilon$=0.001\")\n",
    "plt.xlabel(r\"$obj_{g}(q)/obj^*(q)$\")\n",
    "plt.savefig(\"greedy_pn1e_3.pdf\")"
   ]
  },
  {
   "cell_type": "code",
   "execution_count": 121,
   "metadata": {},
   "outputs": [
    {
     "data": {
      "image/png": "[encoded data removed]",
      "text/plain": [
       "<Figure size 432x288 with 1 Axes>"
      ]
     },
     "metadata": {
      "needs_background": "light"
     },
     "output_type": "display_data"
    }
   ],
   "source": [
    "plt.hist([ratio_pn1e_2, ratio_pre1e_2], label=['greedy', 'pre_sort greedy'], **kwargs)\n",
    "plt.grid()\n",
    "plt.legend()\n",
    "plt.title(r\"$\\epsilon$=0.01\")\n",
    "plt.ylabel(\"Number of instances\")\n",
    "plt.xlabel(r\"$obj_{g}(q)/obj^*(q)$\")\n",
    "plt.savefig(\"greedy_pn1e_2.pdf\")"
   ]
  },
  {
   "cell_type": "code",
   "execution_count": 122,
   "metadata": {},
   "outputs": [
    {
     "data": {
      "image/png": "[encoded data removed]",
      "text/plain": [
       "<Figure size 432x288 with 1 Axes>"
      ]
     },
     "metadata": {
      "needs_background": "light"
     },
     "output_type": "display_data"
    }
   ],
   "source": [
    "plt.hist([ratio_pn1e_1, ratio_pre1e_1], label=['greedy', 'pre_sort greedy'], **kwargs)\n",
    "plt.grid()\n",
    "plt.legend()\n",
    "plt.title(r\"$\\epsilon$=0.1\")\n",
    "plt.ylabel(\"Number of instances\")\n",
    "plt.xlabel(r\"$obj_{g}(q)/obj^*(q)$\")\n",
    "plt.savefig(\"greedy_pn1e_1.pdf\")"
   ]
  },
  {
   "cell_type": "code",
   "execution_count": 123,
   "metadata": {},
   "outputs": [
    {
     "data": {
      "image/png": "[encoded data removed]",
      "text/plain": [
       "<Figure size 432x288 with 1 Axes>"
      ]
     },
     "metadata": {
      "needs_background": "light"
     },
     "output_type": "display_data"
    }
   ],
   "source": [
    "plt.hist([ratio_pn1, ratio_pre1], label=['greedy', 'pre_sort greedy'], **kwargs)\n",
    "plt.grid()\n",
    "plt.legend()\n",
    "plt.title(r\"$\\epsilon$=1\")\n",
    "plt.ylabel(\"Number of instances\")\n",
    "plt.xlabel(r\"$obj_{g}(q)/obj^*(q)$\")\n",
    "plt.savefig(\"greedy_pn1e0.pdf\")"
   ]
  },
  {
   "cell_type": "code",
   "execution_count": 124,
   "metadata": {},
   "outputs": [
    {
     "data": {
      "image/png": "[encoded data removed]",
      "text/plain": [
       "<Figure size 432x288 with 1 Axes>"
      ]
     },
     "metadata": {
      "needs_background": "light"
     },
     "output_type": "display_data"
    }
   ],
   "source": [
    "plt.hist([ratio_pn10, ratio_pre10], label=['greedy', 'pre_sort greedy'], **kwargs)\n",
    "plt.grid()\n",
    "plt.legend()\n",
    "plt.title(r\"$\\epsilon$=10\")\n",
    "plt.ylabel(\"Number of instances\")\n",
    "plt.xlabel(r\"$obj_{g}(q)/obj^*(q)$\")\n",
    "plt.savefig(\"greedy_pn10.pdf\")"
   ]
  },
  {
   "cell_type": "code",
   "execution_count": 47,
   "metadata": {},
   "outputs": [
    {
     "ename": "ZeroDivisionError",
     "evalue": "division by zero",
     "output_type": "error",
     "traceback": [
      "\u001b[0;31m---------------------------------------------------------------------------\u001b[0m",
      "\u001b[0;31mZeroDivisionError\u001b[0m                         Traceback (most recent call last)",
      "\u001b[0;32m/tmp/ipykernel_10771/156283772.py\u001b[0m in \u001b[0;36m<module>\u001b[0;34m\u001b[0m\n\u001b[0;32m----> 1\u001b[0;31m \u001b[0;36m1\u001b[0m\u001b[0;34m/\u001b[0m\u001b[0;36m0\u001b[0m\u001b[0;34m\u001b[0m\u001b[0;34m\u001b[0m\u001b[0m\n\u001b[0m\u001b[1;32m      2\u001b[0m \u001b[0;31m# Stop here\u001b[0m\u001b[0;34m\u001b[0m\u001b[0;34m\u001b[0m\u001b[0;34m\u001b[0m\u001b[0m\n",
      "\u001b[0;31mZeroDivisionError\u001b[0m: division by zero"
     ]
    }
   ],
   "source": [
    "1/0\n",
    "# Stop here"
   ]
  },
  {
   "cell_type": "code",
   "execution_count": null,
   "metadata": {},
   "outputs": [],
   "source": []
  },
  {
   "cell_type": "code",
   "execution_count": 165,
   "metadata": {},
   "outputs": [
    {
     "ename": "NameError",
     "evalue": "name 'smaller_instances_bf_res' is not defined",
     "output_type": "error",
     "traceback": [
      "\u001b[0;31m---------------------------------------------------------------------------\u001b[0m",
      "\u001b[0;31mNameError\u001b[0m                                 Traceback (most recent call last)",
      "\u001b[0;32m/tmp/ipykernel_10771/700309428.py\u001b[0m in \u001b[0;36m<module>\u001b[0;34m\u001b[0m\n\u001b[1;32m      8\u001b[0m \u001b[0msubopt_instances\u001b[0m \u001b[0;34m=\u001b[0m \u001b[0;34m[\u001b[0m\u001b[0;34m]\u001b[0m\u001b[0;34m\u001b[0m\u001b[0;34m\u001b[0m\u001b[0m\n\u001b[1;32m      9\u001b[0m \u001b[0msubopt_relgaps\u001b[0m \u001b[0;34m=\u001b[0m \u001b[0;34m[\u001b[0m\u001b[0;34m]\u001b[0m\u001b[0;34m\u001b[0m\u001b[0;34m\u001b[0m\u001b[0m\n\u001b[0;32m---> 10\u001b[0;31m \u001b[0;32mfor\u001b[0m \u001b[0mi\u001b[0m\u001b[0;34m,\u001b[0m \u001b[0;34m(\u001b[0m\u001b[0minst\u001b[0m\u001b[0;34m,\u001b[0m \u001b[0mres_bf\u001b[0m\u001b[0;34m,\u001b[0m \u001b[0mres_greedy\u001b[0m\u001b[0;34m)\u001b[0m \u001b[0;32min\u001b[0m \u001b[0menumerate\u001b[0m\u001b[0;34m(\u001b[0m\u001b[0mzip\u001b[0m\u001b[0;34m(\u001b[0m\u001b[0msmaller_instances\u001b[0m\u001b[0;34m,\u001b[0m \u001b[0msmaller_instances_bf_res\u001b[0m\u001b[0;34m,\u001b[0m \u001b[0msmaller_instances_ref_greedy_res\u001b[0m\u001b[0;34m)\u001b[0m\u001b[0;34m)\u001b[0m\u001b[0;34m:\u001b[0m\u001b[0;34m\u001b[0m\u001b[0;34m\u001b[0m\u001b[0m\n\u001b[0m\u001b[1;32m     11\u001b[0m     \u001b[0;32mif\u001b[0m \u001b[0;32mnot\u001b[0m \u001b[0mmath\u001b[0m\u001b[0;34m.\u001b[0m\u001b[0misclose\u001b[0m\u001b[0;34m(\u001b[0m\u001b[0mres_bf\u001b[0m\u001b[0;34m.\u001b[0m\u001b[0mf_star\u001b[0m\u001b[0;34m,\u001b[0m \u001b[0mres_greedy\u001b[0m\u001b[0;34m.\u001b[0m\u001b[0mf_star\u001b[0m\u001b[0;34m)\u001b[0m\u001b[0;34m:\u001b[0m\u001b[0;34m\u001b[0m\u001b[0;34m\u001b[0m\u001b[0m\n\u001b[1;32m     12\u001b[0m         \u001b[0mgap\u001b[0m \u001b[0;34m=\u001b[0m \u001b[0;34m(\u001b[0m\u001b[0mres_bf\u001b[0m\u001b[0;34m.\u001b[0m\u001b[0mf_star\u001b[0m \u001b[0;34m-\u001b[0m \u001b[0mres_greedy\u001b[0m\u001b[0;34m.\u001b[0m\u001b[0mf_star\u001b[0m\u001b[0;34m)\u001b[0m\u001b[0;34m/\u001b[0m\u001b[0mres_bf\u001b[0m\u001b[0;34m.\u001b[0m\u001b[0mf_star\u001b[0m\u001b[0;34m\u001b[0m\u001b[0;34m\u001b[0m\u001b[0m\n",
      "\u001b[0;31mNameError\u001b[0m: name 'smaller_instances_bf_res' is not defined"
     ]
    }
   ],
   "source": [
    "import math\n",
    "\n",
    "def compare_results_by_score(inst, *results):\n",
    "    for res in results:\n",
    "        res.print_selected_elements_by_score(end=': ')\n",
    "        print(f'{res.f_star}')\n",
    "\n",
    "subopt_instances = []\n",
    "subopt_relgaps = []\n",
    "for i, (inst, res_bf, res_greedy) in enumerate(zip(smaller_instances, smaller_instances_bf_res, smaller_instances_ref_greedy_res)):\n",
    "    if not math.isclose(res_bf.f_star, res_greedy.f_star):\n",
    "        gap = (res_bf.f_star - res_greedy.f_star)/res_bf.f_star\n",
    "        # print('refined greedy suboptimal on instance', i, 'by', gap)\n",
    "        subopt_instances.append(i)\n",
    "        subopt_relgaps.append(gap)\n",
    "        # compare_results_by_score(inst, res_bf, res_greedy)\n",
    "    # plot_solutions(smaller_instances_bf_res[0])\n",
    "\n",
    "subopt_instances = np.array(subopt_instances)\n",
    "subopt_relgaps = np.array(subopt_relgaps)\n",
    "\n",
    "print(len(subopt_instances), 'instances where greedy is suboptimal')\n",
    "order = np.argsort(subopt_relgaps)[::-1]\n",
    "print('the 10 most severe are: ')\n",
    "print(subopt_instances[order[:10]])\n",
    "print(subopt_relgaps[order[:10]])"
   ]
  },
  {
   "cell_type": "code",
   "execution_count": 166,
   "metadata": {},
   "outputs": [
    {
     "ename": "NameError",
     "evalue": "name 'smaller_instances_bf_res' is not defined",
     "output_type": "error",
     "traceback": [
      "\u001b[0;31m---------------------------------------------------------------------------\u001b[0m",
      "\u001b[0;31mNameError\u001b[0m                                 Traceback (most recent call last)",
      "\u001b[0;32m/tmp/ipykernel_10771/2021642065.py\u001b[0m in \u001b[0;36m<module>\u001b[0;34m\u001b[0m\n\u001b[0;32m----> 1\u001b[0;31m \u001b[0minst\u001b[0m\u001b[0;34m,\u001b[0m \u001b[0mres_bf\u001b[0m\u001b[0;34m,\u001b[0m \u001b[0mres_greedy\u001b[0m \u001b[0;34m=\u001b[0m \u001b[0msmaller_instances\u001b[0m\u001b[0;34m[\u001b[0m\u001b[0;36m10\u001b[0m\u001b[0;34m]\u001b[0m\u001b[0;34m,\u001b[0m \u001b[0msmaller_instances_bf_res\u001b[0m\u001b[0;34m[\u001b[0m\u001b[0;36m10\u001b[0m\u001b[0;34m]\u001b[0m\u001b[0;34m,\u001b[0m \u001b[0msmaller_instances_ref_greedy_res\u001b[0m\u001b[0;34m[\u001b[0m\u001b[0;36m10\u001b[0m\u001b[0;34m]\u001b[0m\u001b[0;34m\u001b[0m\u001b[0;34m\u001b[0m\u001b[0m\n\u001b[0m\u001b[1;32m      2\u001b[0m \u001b[0mcompare_results_by_score\u001b[0m\u001b[0;34m(\u001b[0m\u001b[0minst\u001b[0m\u001b[0;34m,\u001b[0m \u001b[0mres_bf\u001b[0m\u001b[0;34m,\u001b[0m \u001b[0mres_greedy\u001b[0m\u001b[0;34m)\u001b[0m\u001b[0;34m\u001b[0m\u001b[0;34m\u001b[0m\u001b[0m\n\u001b[1;32m      3\u001b[0m \u001b[0mplot_solutions\u001b[0m\u001b[0;34m(\u001b[0m\u001b[0msmaller_instances_bf_res\u001b[0m\u001b[0;34m[\u001b[0m\u001b[0;36m10\u001b[0m\u001b[0;34m]\u001b[0m\u001b[0;34m,\u001b[0m \u001b[0madditional_res\u001b[0m\u001b[0;34m=\u001b[0m\u001b[0;34m[\u001b[0m\u001b[0mres_greedy\u001b[0m\u001b[0;34m]\u001b[0m\u001b[0;34m)\u001b[0m\u001b[0;34m\u001b[0m\u001b[0;34m\u001b[0m\u001b[0m\n",
      "\u001b[0;31mNameError\u001b[0m: name 'smaller_instances_bf_res' is not defined"
     ]
    }
   ],
   "source": [
    "inst, res_bf, res_greedy = smaller_instances[10], smaller_instances_bf_res[10], smaller_instances_ref_greedy_res[10]\n",
    "compare_results_by_score(inst, res_bf, res_greedy)\n",
    "plot_solutions(smaller_instances_bf_res[10], additional_res=[res_greedy])\n"
   ]
  },
  {
   "cell_type": "code",
   "execution_count": 167,
   "metadata": {},
   "outputs": [
    {
     "name": "stdout",
     "output_type": "stream",
     "text": [
      "1.484 1.293 \u001b[31m0.835\u001b[0m 0.794 0.554 0.524 0.481 0.426 \u001b[31m-0.013\u001b[0m \u001b[31m-0.150\u001b[0m \u001b[31m-0.278\u001b[0m \u001b[31m-1.094\u001b[0m \u001b[31m-1.408\u001b[0m \u001b[31m-1.687\u001b[0m \u001b[31m-3.178\u001b[0m\n",
      "18.600596901951537\n",
      "1.6168207950862348\n"
     ]
    },
    {
     "ename": "NameError",
     "evalue": "name 'res_bf' is not defined",
     "output_type": "error",
     "traceback": [
      "\u001b[0;31m---------------------------------------------------------------------------\u001b[0m",
      "\u001b[0;31mNameError\u001b[0m                                 Traceback (most recent call last)",
      "\u001b[0;32m/tmp/ipykernel_10771/2467211708.py\u001b[0m in \u001b[0;36m<module>\u001b[0;34m\u001b[0m\n\u001b[1;32m      3\u001b[0m \u001b[0mprint\u001b[0m\u001b[0;34m(\u001b[0m\u001b[0mres_greedy_neg\u001b[0m\u001b[0;34m.\u001b[0m\u001b[0mf_star\u001b[0m\u001b[0;34m**\u001b[0m\u001b[0;36m2\u001b[0m\u001b[0;34m)\u001b[0m\u001b[0;34m\u001b[0m\u001b[0;34m\u001b[0m\u001b[0m\n\u001b[1;32m      4\u001b[0m \u001b[0mprint\u001b[0m\u001b[0;34m(\u001b[0m\u001b[0mnorm\u001b[0m\u001b[0;34m(\u001b[0m\u001b[0minst\u001b[0m\u001b[0;34m.\u001b[0m\u001b[0mM\u001b[0m\u001b[0;34m.\u001b[0m\u001b[0mdot\u001b[0m\u001b[0;34m(\u001b[0m\u001b[0mres_greedy_neg\u001b[0m\u001b[0;34m.\u001b[0m\u001b[0mq_star\u001b[0m\u001b[0;34m)\u001b[0m\u001b[0;34m)\u001b[0m\u001b[0;34m)\u001b[0m\u001b[0;34m\u001b[0m\u001b[0;34m\u001b[0m\u001b[0m\n\u001b[0;32m----> 5\u001b[0;31m \u001b[0mprint\u001b[0m\u001b[0;34m(\u001b[0m\u001b[0mnorm\u001b[0m\u001b[0;34m(\u001b[0m\u001b[0minst\u001b[0m\u001b[0;34m.\u001b[0m\u001b[0mM\u001b[0m\u001b[0;34m.\u001b[0m\u001b[0mdot\u001b[0m\u001b[0;34m(\u001b[0m\u001b[0mres_bf\u001b[0m\u001b[0;34m.\u001b[0m\u001b[0mq_star\u001b[0m\u001b[0;34m)\u001b[0m\u001b[0;34m)\u001b[0m\u001b[0;34m)\u001b[0m\u001b[0;34m\u001b[0m\u001b[0;34m\u001b[0m\u001b[0m\n\u001b[0m",
      "\u001b[0;31mNameError\u001b[0m: name 'res_bf' is not defined"
     ]
    }
   ],
   "source": [
    "res_greedy_neg = best_in_greedy(inst, f=neg_grad_sum_by_orth_norm)\n",
    "res_greedy_neg.print_selected_elements_by_score()\n",
    "print(res_greedy_neg.f_star**2)\n",
    "print(norm(inst.M.dot(res_greedy_neg.q_star)))\n",
    "print(norm(inst.M.dot(res_bf.q_star)))"
   ]
  },
  {
   "cell_type": "code",
   "execution_count": 168,
   "metadata": {},
   "outputs": [
    {
     "ename": "NameError",
     "evalue": "name 'smaller_instances_bf_res' is not defined",
     "output_type": "error",
     "traceback": [
      "\u001b[0;31m---------------------------------------------------------------------------\u001b[0m",
      "\u001b[0;31mNameError\u001b[0m                                 Traceback (most recent call last)",
      "\u001b[0;32m/tmp/ipykernel_10771/1850198390.py\u001b[0m in \u001b[0;36m<module>\u001b[0;34m\u001b[0m\n\u001b[0;32m----> 1\u001b[0;31m \u001b[0mplot_solutions\u001b[0m\u001b[0;34m(\u001b[0m\u001b[0msmaller_instances_bf_res\u001b[0m\u001b[0;34m[\u001b[0m\u001b[0;36m69\u001b[0m\u001b[0;34m]\u001b[0m\u001b[0;34m,\u001b[0m \u001b[0;34m[\u001b[0m\u001b[0msmaller_instances_ref_greedy_res\u001b[0m\u001b[0;34m[\u001b[0m\u001b[0;36m69\u001b[0m\u001b[0;34m]\u001b[0m\u001b[0;34m]\u001b[0m\u001b[0;34m)\u001b[0m\u001b[0;34m\u001b[0m\u001b[0;34m\u001b[0m\u001b[0m\n\u001b[0m",
      "\u001b[0;31mNameError\u001b[0m: name 'smaller_instances_bf_res' is not defined"
     ]
    }
   ],
   "source": [
    "plot_solutions(smaller_instances_bf_res[69], [smaller_instances_ref_greedy_res[69]])"
   ]
  },
  {
   "cell_type": "code",
   "execution_count": 169,
   "metadata": {},
   "outputs": [
    {
     "ename": "NameError",
     "evalue": "name 'smaller_instances_bf_res' is not defined",
     "output_type": "error",
     "traceback": [
      "\u001b[0;31m---------------------------------------------------------------------------\u001b[0m",
      "\u001b[0;31mNameError\u001b[0m                                 Traceback (most recent call last)",
      "\u001b[0;32m/tmp/ipykernel_10771/3395940334.py\u001b[0m in \u001b[0;36m<module>\u001b[0;34m\u001b[0m\n\u001b[0;32m----> 1\u001b[0;31m \u001b[0mplot_solutions\u001b[0m\u001b[0;34m(\u001b[0m\u001b[0msmaller_instances_bf_res\u001b[0m\u001b[0;34m[\u001b[0m\u001b[0;36m3\u001b[0m\u001b[0;34m]\u001b[0m\u001b[0;34m,\u001b[0m \u001b[0;34m[\u001b[0m\u001b[0msmaller_instances_ref_greedy_res\u001b[0m\u001b[0;34m[\u001b[0m\u001b[0;36m3\u001b[0m\u001b[0;34m]\u001b[0m\u001b[0;34m]\u001b[0m\u001b[0;34m)\u001b[0m\u001b[0;34m\u001b[0m\u001b[0;34m\u001b[0m\u001b[0m\n\u001b[0m",
      "\u001b[0;31mNameError\u001b[0m: name 'smaller_instances_bf_res' is not defined"
     ]
    }
   ],
   "source": [
    "plot_solutions(smaller_instances_bf_res[3], [smaller_instances_ref_greedy_res[3]])"
   ]
  },
  {
   "cell_type": "markdown",
   "metadata": {},
   "source": [
    "### Intermediate Conclusion\n",
    "\n",
    "Despite an overall very good performance, it seems that the refined greedy algorithm does not guarantee to find the optimal solution. Eight of the 30/100 optimality violations can be attributed to numerical instability where the optimal solution is either incorrect or at least pointing to a weaknesses of the objective function itself. The other 22 appear to be genuine problems with the largest relative performance gap of about 11%.\n",
    "\n",
    "In any case, the numerical instability motivates regularising the objective function, and it is a possibility that such regularization will also further improve the performance of the greedy algorithm outside of strictly pathological instances."
   ]
  },
  {
   "cell_type": "markdown",
   "metadata": {},
   "source": [
    "## Regularised Objective Function\n",
    "\n",
    "Because we are interested int the signed version of the objective function for the greedy algorithm, it makes sense to apply regularization to the non-squared version:\n",
    "\n",
    "\\begin{align*}\n",
    "\\frac{|g^Tq|}{\\|q_\\perp\\|+\\epsilon} &\\leq \\frac{|g^q|}{|g^Tq|/\\|g\\| + \\epsilon}\\\\\n",
    "&= \\frac{\\|g\\|}{1 + \\epsilon \\|g\\| / |g^Tq|}\n",
    "\\end{align*}\n"
   ]
  },
  {
   "cell_type": "code",
   "execution_count": null,
   "metadata": {},
   "outputs": [],
   "source": []
  },
  {
   "cell_type": "code",
   "execution_count": null,
   "metadata": {},
   "outputs": [],
   "source": []
  },
  {
   "cell_type": "code",
   "execution_count": null,
   "metadata": {},
   "outputs": [],
   "source": []
  },
  {
   "cell_type": "code",
   "execution_count": null,
   "metadata": {},
   "outputs": [],
   "source": []
  },
  {
   "cell_type": "code",
   "execution_count": null,
   "metadata": {},
   "outputs": [],
   "source": []
  },
  {
   "cell_type": "code",
   "execution_count": null,
   "metadata": {},
   "outputs": [],
   "source": []
  }
 ],
 "metadata": {
  "kernelspec": {
   "display_name": "Python 3 (ipykernel)",
   "language": "python",
   "name": "python3"
  },
  "language_info": {
   "codemirror_mode": {
    "name": "ipython",
    "version": 3
   },
   "file_extension": ".py",
   "mimetype": "text/x-python",
   "name": "python",
   "nbconvert_exporter": "python",
   "pygments_lexer": "ipython3",
   "version": "3.8.10"
  },
  "vscode": {
   "interpreter": {
    "hash": "aee8b7b246df8f9039afb4144a1f6fd8d2ca17a180786b69acc140d282b71a49"
   }
  }
 },
 "nbformat": 4,
 "nbformat_minor": 2
}
