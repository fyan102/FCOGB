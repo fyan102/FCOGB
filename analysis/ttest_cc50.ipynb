{
 "cells": [
  {
   "cell_type": "code",
   "execution_count": 13,
   "id": "497e132d",
   "metadata": {},
   "outputs": [],
   "source": [
    "from scipy.stats import ttest_rel\n",
    "import numpy as np"
   ]
  },
  {
   "cell_type": "code",
   "execution_count": 14,
   "id": "2738711f",
   "metadata": {},
   "outputs": [],
   "source": [
    "delta_avg_g=np.array([0.634734662,0.627156236,0.221836089,0.290809901,0.215862709,0.56049115,0.6829279,0.99550785,0.264178708,0.7998079,0.708701309,0.599177858,0.311938725,0.143485756,0.073435002,0.119379047,0.043021393,0.365804268,0.213079953,0.023940749,0.250413686,0.13669912,0.089947638,0.031108148,0.026214076,0.136985327,0.540224995,0.953050779,0.034851365,0.130395532,0.37391945,0.316784674,0.168311429,0.108552393])\n",
    "delta_avg_x=np.array([0.636624014,0.640429037,0.287261733,0.314103483,0.191526072,0.573027131,0.679325418,0.995927978,0.288154903,0.787370061,0.710320478,0.594132103,0.33466518,0.145649708,0.071493335,0.116048058,0.042591056,0.355396869,0.213044944,0.023920905,0.251286327,0.136113218,0.086810608,0.03206526,0.026115987,0.136772377,0.540578366,0.953050779,0.03461185,0.368147226,2.892766244,0.310340024,87.31422704,0.164546363])\n",
    "delta_avg_s=np.array([0.662120173,0.740966913,0.252796318,0.272842199,0.161899721,0.571769348,0.679035752,0.995838693,0.302984228,0.808930368,0.71968211,0.594238496,0.331435993,0.14384986,0.068530766,0.092239472,0.044055483,0.367662813,0.214221405,0.024053963,0.265798227,0.136512232,0.088840263,0.031069933,0.025831664,0.131475357,0.542605682,0.953050892,0.034450436,0.143566276,0.341359658,0.352073467,0.154978672,0.114327368])\n",
    "delta_avg_o=np.array([0.610031549,0.586622561,0.217676126,0.291588466,0.146219694,0.559847339,0.670415361,0.995833026,0.227202582,0.777044679,0.706559045,0.582204508,0.352869348,0.125928907,0.067711852,0.100877763,0.040665849,0.342291274,0.211681044,0.023717784,0.225165822,0.129980784,0.081490742,0.029892894,0.025288301,0.134889024,0.534350343,0.953049475,0.034250906,0.124704719,0.346966753,0.300381069,0.14465964,0.090267554])\n",
    "delta_avg_g_test=np.array([0.711610644,0.721622474,0.428675643,0.369825153,0.471334194,0.617727181,0.676698292,0.999911099,0.263222746,1,0.693149714,0.615060694,0.313947084,0.137247252,0.07954171,0.120009492,0.046140617,0.39691077,0.217001619,0.025105261,0.265135225,0.150411515,0.08602664,0.037800145,0.026913945,0.142856619,0.520667892,0.719546007,0.035489339,0.126858646,0.482029372,0.438537618,0.288103342,0.193211219])\n",
    "delta_avg_x_test=np.array([0.720797203,0.688605994,0.407789207,0.376228128,0.402277133,0.625791293,0.673003566,1,0.296853522,0.928340704,0.69252892,0.607155439,0.330399414,0.139924677,0.078741094,0.116760207,0.046120355,0.394120818,0.21742213,0.02501874,0.27072772,0.155316812,0.086077234,0.038284956,0.02685468,0.145027562,0.521213045,0.719545804,0.035507559,0.382286395,4.114816924,0.439696878,109.1233065,0.258339183])\n",
    "delta_avg_s_test=np.array([0.723176387,0.800329112,0.384179967,0.273437113,0.34049464,0.606886627,0.66281494,1,0.31022988,0.912727346,0.702247921,0.602892134,0.329024866,0.134379877,0.071673201,0.09384083,0.046012048,0.377346657,0.216829168,0.025013752,0.28872539,0.14755599,0.077984332,0.033281641,0.026574703,0.136023848,0.521260336,0.719535207,0.034621674,0.151821907,0.446677872,0.413089936,0.221624961,0.130133689])\n",
    "delta_avg_o_test=np.array([0.707313501,0.669300756,0.511144393,0.348143225,0.241618534,0.606300126,0.663178689,1,0.228205081,1,0.686991774,0.596540292,0.349808865,0.125544255,0.074432188,0.101282403,0.044260012,0.395507159,0.21604008,0.024941588,0.240857412,0.158229758,0.08119672,0.037006502,0.026449154,0.141980531,0.515364194,0.719542653,0.034864372,0.130077397,0.469092149,0.467214144,0.420423462,0.169477805])\n",
    "avg_o_no_poi=np.array([])\n",
    "avg_sirus=np.array([])\n",
    "avg_o_no_poi_test=np.array([])\n",
    "avg_sirus_test=np.array([])"
   ]
  },
  {
   "cell_type": "code",
   "execution_count": 15,
   "id": "7b9bdb59",
   "metadata": {},
   "outputs": [
    {
     "data": {
      "text/plain": [
       "array([-2.65924650e-02, -5.38064760e-02, -6.95856070e-02, -2.25150170e-02,\n",
       "       -4.53063780e-02, -1.31797920e-02, -8.91005700e-03, -9.49520000e-05,\n",
       "       -6.09523210e-02, -1.03253820e-02, -3.76143300e-03, -1.19275950e-02,\n",
       "        1.82041680e-02, -1.97208010e-02, -3.78148300e-03, -1.51702950e-02,\n",
       "       -1.92520700e-03, -1.31055950e-02, -1.36390000e-03, -2.03121000e-04,\n",
       "       -2.61205050e-02, -6.13243400e-03, -5.31986600e-03, -2.17236600e-03,\n",
       "       -8.27686000e-04, -1.88335300e-03, -6.22802300e-03, -1.30400000e-06,\n",
       "       -3.60944000e-04, -2.43442507e-01, -1.00000000e+00, -9.95895500e-03,\n",
       "       -1.00000000e+00, -7.42788090e-02])"
      ]
     },
     "execution_count": 15,
     "metadata": {},
     "output_type": "execute_result"
    }
   ],
   "source": [
    "(delta_avg_o-delta_avg_x).clip(-1, 1)"
   ]
  },
  {
   "cell_type": "code",
   "execution_count": 16,
   "id": "554b3f91",
   "metadata": {},
   "outputs": [
    {
     "data": {
      "text/plain": [
       "-0.016846100529411767"
      ]
     },
     "execution_count": 16,
     "metadata": {},
     "output_type": "execute_result"
    }
   ],
   "source": [
    "(delta_avg_o - delta_avg_s).mean()"
   ]
  },
  {
   "cell_type": "code",
   "execution_count": 17,
   "id": "bfe5240a",
   "metadata": {},
   "outputs": [
    {
     "data": {
      "text/plain": [
       "array([6.36624014e-01, 6.40429037e-01, 2.87261733e-01, 3.14103483e-01,\n",
       "       1.91526072e-01, 5.73027131e-01, 6.79325418e-01, 9.95927978e-01,\n",
       "       2.88154903e-01, 7.87370061e-01, 7.10320478e-01, 5.94132103e-01,\n",
       "       3.34665180e-01, 1.45649708e-01, 7.14933350e-02, 1.16048058e-01,\n",
       "       4.25910560e-02, 3.55396869e-01, 2.13044944e-01, 2.39209050e-02,\n",
       "       2.51286327e-01, 1.36113218e-01, 8.68106080e-02, 3.20652600e-02,\n",
       "       2.61159870e-02, 1.36772377e-01, 5.40578366e-01, 9.53050779e-01,\n",
       "       3.46118500e-02, 3.68147226e-01, 2.89276624e+00, 3.10340024e-01,\n",
       "       8.73142270e+01, 1.64546363e-01])"
      ]
     },
     "execution_count": 17,
     "metadata": {},
     "output_type": "execute_result"
    }
   ],
   "source": [
    "delta_avg_x"
   ]
  },
  {
   "cell_type": "code",
   "execution_count": 18,
   "id": "2b423bcb",
   "metadata": {},
   "outputs": [],
   "source": [
    "delta = 0.05\n",
    "noh = 8\n",
    "delta_corr = delta/noh\n",
    "margins = [0, 0.001, 0.01]"
   ]
  },
  {
   "cell_type": "code",
   "execution_count": 19,
   "id": "acf5295c",
   "metadata": {},
   "outputs": [
    {
     "data": {
      "text/plain": [
       "0.00625"
      ]
     },
     "execution_count": 19,
     "metadata": {},
     "output_type": "execute_result"
    }
   ],
   "source": [
    "delta_corr"
   ]
  },
  {
   "cell_type": "code",
   "execution_count": 20,
   "id": "7a7831af",
   "metadata": {
    "scrolled": false
   },
   "outputs": [
    {
     "name": "stdout",
     "output_type": "stream",
     "text": [
      "R_O_avg < R_S_avg\n",
      "margin 0: \t0.0019636191081560577 \t True\n",
      "margin 0.001: \t0.0031536752923537665 \t True\n",
      "margin 0.01: \t0.10211892721099115 \t False\n",
      "\n",
      "R_O_avg < R_G_avg\n",
      "margin 0: \t0.00024130677455176772 \t True\n",
      "margin 0.001: \t0.0006016338928668229 \t True\n",
      "margin 0.01: \t0.26201446553743335 \t False\n",
      "\n",
      "R_O_avg < R_X_avg\n",
      "margin 0: \t0.00033974436087573533 \t True\n",
      "margin 0.001: \t0.0006572495085746825 \t True\n",
      "margin 0.01: \t0.0426355527825929 \t False\n",
      "\n",
      "R_O_avg_test < R_S_avg_test\n",
      "margin 0: \t0.7592342366014323 \t False\n",
      "margin 0.001: \t0.7873890671871966 \t False\n",
      "margin 0.01: \t0.9479355378232469 \t False\n",
      "\n",
      "R_O_avg_test < R_G_avg_test\n",
      "margin 0: \t0.23520691347005668 \t False\n",
      "margin 0.001: \t0.2690695869989491 \t False\n",
      "margin 0.01: \t0.6363590090980564 \t False\n",
      "\n",
      "R_O_avg_test < R_X_avg_test\n",
      "margin 0: \t0.16680619535663688 \t False\n",
      "margin 0.001: \t0.20436556109762372 \t False\n",
      "margin 0.01: \t0.487042254886295 \t False\n",
      "\n"
     ]
    }
   ],
   "source": [
    "tests = [['R_O_avg < R_S_avg', delta_avg_o, delta_avg_s],\n",
    "         ['R_O_avg < R_G_avg', delta_avg_o, delta_avg_g],\n",
    "         ['R_O_avg < R_X_avg', delta_avg_o, delta_avg_x],\n",
    "#          ['R_O_bc < R_S_bc', delta_bc_so_o, delta_bc_so_s],\n",
    "#          ['R_O_bc < R_G_bc', delta_bc_go_o, delta_bc_go_g],\n",
    "#          ['R_O_bc < R_X_bc', delta_bc_xo_o, delta_bc_xo_x],\n",
    "#          ['R_O_wc > R_S_wc', delta_wc_so_o, delta_wc_so_s],\n",
    "#          ['R_O_wc > R_G_wc', delta_wc_go_o, delta_wc_go_g],\n",
    "#          ['R_O_wc > R_X_wc', delta_wc_xo_o, delta_wc_xo_x],\n",
    "         ['R_O_avg_test < R_S_avg_test', delta_avg_o_test, delta_avg_s_test],\n",
    "         ['R_O_avg_test < R_G_avg_test', delta_avg_o_test, delta_avg_g_test],\n",
    "         ['R_O_avg_test < R_X_avg_test', delta_avg_o_test, delta_avg_x_test],\n",
    "#          ['R_O_bc_test < R_S_bc_test', delta_bc_so_o_test, delta_bc_so_s_test],\n",
    "#          ['R_O_bc_test < R_G_bc_test', delta_bc_go_o_test, delta_bc_go_g_test],\n",
    "#          ['R_O_bc_test < R_X_bc_test', delta_bc_xo_o_test, delta_bc_xo_x_test],\n",
    "#          ['R_O_wc_test > R_S_wc_test', delta_wc_so_o_test, delta_wc_so_s_test],\n",
    "#          ['R_O_wc_test > R_G_wc_test', delta_wc_go_o_test, delta_wc_go_g_test],\n",
    "#          ['R_O_wc_test > R_X_wc_test', delta_wc_xo_o_test, delta_wc_xo_x_test],\n",
    "        ]\n",
    "\n",
    "for n, a, b in tests:\n",
    "    print(n)\n",
    "    alter = 'greater' if 'wc' in n else 'less'\n",
    "    for m in margins:\n",
    "        print('margin', m, end=': \\t')\n",
    "        if 'X' in n:\n",
    "            a = a[:-5]\n",
    "            b = b[:-5] # include the hypothesis of not considering xgb for poisson\n",
    "        if not 'wc' in n:\n",
    "            avg_so=ttest_rel((np.array(a)+m).clip(0, 1), b.clip(0, 1), alternative=alter)\n",
    "        else:\n",
    "            avg_so=ttest_rel((np.array(a)).clip(0, 1), (b+m).clip(0, 1), alternative=alter)\n",
    "        print(avg_so.pvalue, '\\t' ,avg_so.pvalue <= delta_corr)\n",
    "    print()"
   ]
  },
  {
   "cell_type": "code",
   "execution_count": 9,
   "id": "00138615",
   "metadata": {},
   "outputs": [
    {
     "name": "stdout",
     "output_type": "stream",
     "text": [
      "R_O_avg < R_S_avg: 0.029411764705882353\n",
      "R_O_avg < R_G_avg: 0.0\n",
      "R_O_avg < R_X_avg: 0.08823529411764706\n",
      "R_O_avg_test < R_S_avg_test: 0.029411764705882353\n",
      "R_O_avg_test < R_G_avg_test: 0.029411764705882353\n",
      "R_O_avg_test < R_X_avg_test: 0.11764705882352941\n"
     ]
    }
   ],
   "source": [
    "for n, a, b in tests:\n",
    "    print(n, end=': ')\n",
    "    if not 'wc' in n:\n",
    "        print((a+0.1<b).sum()/34)\n",
    "    else:\n",
    "        print((a>b+0.1).sum()/34)"
   ]
  },
  {
   "cell_type": "code",
   "execution_count": null,
   "id": "149204c4",
   "metadata": {},
   "outputs": [],
   "source": []
  },
  {
   "cell_type": "code",
   "execution_count": null,
   "id": "ac821afe",
   "metadata": {},
   "outputs": [],
   "source": []
  }
 ],
 "metadata": {
  "kernelspec": {
   "display_name": "Python 3 (ipykernel)",
   "language": "python",
   "name": "python3"
  },
  "language_info": {
   "codemirror_mode": {
    "name": "ipython",
    "version": 3
   },
   "file_extension": ".py",
   "mimetype": "text/x-python",
   "name": "python",
   "nbconvert_exporter": "python",
   "pygments_lexer": "ipython3",
   "version": "3.8.10"
  }
 },
 "nbformat": 4,
 "nbformat_minor": 5
}
