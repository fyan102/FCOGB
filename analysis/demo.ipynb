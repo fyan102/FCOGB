{
 "cells": [
  {
   "cell_type": "code",
   "execution_count": 11,
   "id": "d10b60de",
   "metadata": {},
   "outputs": [
    {
     "data": {
      "image/png": "[encoded data removed]",
      "text/plain": [
       "<Figure size 936x216 with 4 Axes>"
      ]
     },
     "metadata": {
      "needs_background": "light"
     },
     "output_type": "display_data"
    }
   ],
   "source": [
    "from matplotlib.patches import Rectangle\n",
    "import matplotlib.pyplot as plt\n",
    "plt.rcParams.update({'pdf.fonttype': 'truetype'})\n",
    "fig, axs = plt.subplots(1,4, figsize=(13,3), sharey=True)\n",
    "for i in range(4):\n",
    "    axs[i].scatter([0.5],[0.5])\n",
    "    axs[i].scatter([1.5],[0.5])\n",
    "    axs[i].scatter([0.5],[1.5])\n",
    "    axs[i].add_patch(Rectangle((0.02, 0.02), 1.96, 0.96,\n",
    "                 facecolor = 'blue',\n",
    "                 edgecolor = 'blue',\n",
    "                 fill=False, alpha=1,\n",
    "                 lw=2))\n",
    "    axs[i].set_xlim([0,2])\n",
    "    axs[i].set_ylim([0,2])\n",
    "axs[1].add_patch(Rectangle((0.05, 1), 0.9, 0.95,\n",
    "             facecolor = 'red',\n",
    "             edgecolor = 'red',\n",
    "             fill=False, alpha=1,\n",
    "             lw=2))\n",
    "axs[2].add_patch(Rectangle((0.05, 1), 0.9, 0.95,\n",
    "             facecolor = 'red',\n",
    "             edgecolor = 'red',\n",
    "             fill=False, alpha=1,\n",
    "             lw=2))   \n",
    "axs[2].add_patch(Rectangle((0.08, 0.08), 0.85, 0.85,\n",
    "             facecolor = 'green',\n",
    "             edgecolor = 'green',\n",
    "             fill=False, alpha=1,\n",
    "             lw=2))\n",
    "axs[3].add_patch(Rectangle((0.05, 0.05), .9, 1.9,\n",
    "             facecolor = 'red',\n",
    "             edgecolor = 'red',\n",
    "             fill=False, alpha=1,\n",
    "             lw=2))\n",
    "plt.show()"
   ]
  },
  {
   "cell_type": "code",
   "execution_count": 2,
   "id": "80fa70ae",
   "metadata": {},
   "outputs": [
    {
     "data": {
      "text/plain": [
       "<matplotlib.legend.Legend at 0x7f179b19a2e0>"
      ]
     },
     "execution_count": 2,
     "metadata": {},
     "output_type": "execute_result"
    },
    {
     "data": {
      "image/png": "[encoded data removed]",
      "text/plain": [
       "<Figure size 288x187.2 with 1 Axes>"
      ]
     },
     "metadata": {
      "needs_background": "light"
     },
     "output_type": "display_data"
    }
   ],
   "source": [
    "from matplotlib.patches import Rectangle\n",
    "fig, ax = plt.subplots(1,1, figsize=(4,2.6), sharey=True)\n",
    "ax.scatter([0.5],[0.5])\n",
    "ax.annotate('$Y_1=-6$',(0.3,0.32))\n",
    "ax.scatter([1.5],[0.5])\n",
    "ax.annotate('$Y_2=-10$',(1.3,0.32))\n",
    "ax.scatter([0.5],[1.5])\n",
    "ax.annotate('$Y_3=5$',(0.35,1.32))\n",
    "ax.add_patch(Rectangle((0.02, 0.02), 1.97, 0.97,\n",
    "             facecolor = 'blue',\n",
    "             edgecolor = 'blue',\n",
    "             fill=False, alpha=1,label='$x_2\\leq1$',\n",
    "             lw=3))\n",
    "ax.add_patch(Rectangle((0.06, 0.065), 0.93, 1.92,\n",
    "             facecolor = 'red',\n",
    "             edgecolor = 'red',\n",
    "             fill=False, alpha=1,label='$x_1\\leq1$',\n",
    "             lw=3))   \n",
    "ax.add_patch(Rectangle((0.1, 0.15), 0.85, 0.78,\n",
    "             facecolor = 'green',\n",
    "             edgecolor = 'green',\n",
    "             fill=False, alpha=1,label='$x_1\\leq1 & x_2\\leq$1',\n",
    "             lw=3))\n",
    "ax.add_patch(Rectangle((0.1, 1.06), .85, 0.85,\n",
    "             facecolor = 'violet',\n",
    "             edgecolor = 'violet',\n",
    "             fill=False, alpha=1,\n",
    "             lw=3, label='$x_1\\leq1 & x_2\\geq$1'))\n",
    "ax.set_xlim([0,2])\n",
    "ax.set_ylim([0,2])\n",
    "ax.set_xlabel('$x_1$')\n",
    "ax.set_ylabel('$x_2$')\n",
    "ax.legend()\n",
    "# plt.savefig('demo_1_point_rules1.pdf', bbox_inches='tight', pad_inches=0)"
   ]
  },
  {
   "cell_type": "code",
   "execution_count": 3,
   "id": "3329881d",
   "metadata": {},
   "outputs": [
    {
     "data": {
      "text/plain": [
       "<matplotlib.legend.Legend at 0x7f179b0542b0>"
      ]
     },
     "execution_count": 3,
     "metadata": {},
     "output_type": "execute_result"
    },
    {
     "data": {
      "image/png": "[encoded data removed]",
      "text/plain": [
       "<Figure size 352.8x187.2 with 1 Axes>"
      ]
     },
     "metadata": {
      "needs_background": "light"
     },
     "output_type": "display_data"
    }
   ],
   "source": [
    "from matplotlib.patches import Rectangle\n",
    "fig, ax = plt.subplots(1,1, figsize=(4.9,2.6), sharey=True)\n",
    "ax.scatter([0.5],[0.5], color='k')\n",
    "ax.annotate('$-6$',(0.3,0.32))\n",
    "ax.scatter([1.5],[0.5], color='k')\n",
    "ax.annotate('$-10$',(1.3,0.32))\n",
    "ax.scatter([0.5],[1.5], color='k')\n",
    "ax.annotate('$5$',(0.35,1.32))\n",
    "# ax.add_patch(Rectangle((0.02, 0.02), 1.97, 0.97,\n",
    "#              facecolor = 'green',\n",
    "#              edgecolor = 'green',\n",
    "#              fill=False, alpha=1,label='$x_2\\leq1$',\n",
    "#              lw=3))\n",
    "ax.add_patch(Rectangle((2.06, 2.065), 0.93, 1.92,\n",
    "             facecolor = 'blue',\n",
    "             edgecolor = 'blue',\n",
    "             fill=False, alpha=1,label='-10.33 if $x_2\\leq1$\\n+4.67 if $x_1\\leq1$',\n",
    "             lw=3))   \n",
    "ax.plot((0,2),(0.99,.99), c='blue', linewidth=3, alpha=0.5)\n",
    "ax.arrow(1.2,0.98,0,-0.4,color='blue', linewidth=2.1, head_width=0.05, head_length=0.15, alpha=0.5)\n",
    "ax.arrow(1.2,0.98,0,-0.4,color='r', linewidth=2.1, head_width=0.05, head_length=0.15, alpha=0.5)\n",
    "ax.plot((0,2),(0.99,.99), c='r', linewidth=3, alpha=0.5)\n",
    "ax.arrow(0.99,0.7,-0.25,0,color='blue', linewidth=2.1, head_width=0.1, head_length=0.1)\n",
    "ax.plot((0.99, .99), (0,2),c='blue', linewidth=3)\n",
    "ax.add_patch(Rectangle((-0.5, 1.06), 1.45, 1.85,\n",
    "             facecolor = 'red',\n",
    "             edgecolor = 'red',\n",
    "             fill=False, alpha=1,\n",
    "             lw=3, label='- 8 if $x_2\\leq1$\\n+5 if $x_1\\leq1 & x_2\\geq 1$'))\n",
    "ax.arrow(0.95,1.3,-0.2,0,color='r', linewidth=2.1, head_width=0.1, head_length=0.1)\n",
    "ax.set_xlim([0,2])\n",
    "ax.set_ylim([0,2])\n",
    "ax.set_xticks([0,1,2])\n",
    "ax.set_yticks([0,1,2])\n",
    "ax.set_xlabel('$x_1$')\n",
    "ax.set_ylabel('$x_2$')\n",
    "# ax.xaxis.set_label_coords(1.05,-0.03)\n",
    "# ax.yaxis.set_label_coords(-0.02, 1.1)\n",
    "ax.legend(loc='upper right')\n",
    "# plt.savefig('demo_1_point_rules2.pdf', bbox_inches='tight', pad_inches=0)"
   ]
  },
  {
   "cell_type": "code",
   "execution_count": 4,
   "id": "a63a1b95",
   "metadata": {},
   "outputs": [
    {
     "name": "stderr",
     "output_type": "stream",
     "text": [
      "/tmp/ipykernel_1112/3049758296.py:28: UserWarning: FixedFormatter should only be used together with FixedLocator\n",
      "  ax.set_xticklabels([0,1,2],fontsize=12)\n",
      "/tmp/ipykernel_1112/3049758296.py:29: UserWarning: FixedFormatter should only be used together with FixedLocator\n",
      "  ax.set_yticklabels([0,1,2],fontsize=12)\n"
     ]
    },
    {
     "data": {
      "text/plain": [
       "<matplotlib.legend.Legend at 0x7f179b0156a0>"
      ]
     },
     "execution_count": 4,
     "metadata": {},
     "output_type": "execute_result"
    },
    {
     "data": {
      "image/png": "[encoded data removed]",
      "text/plain": [
       "<Figure size 403.2x302.4 with 1 Axes>"
      ]
     },
     "metadata": {
      "needs_background": "light"
     },
     "output_type": "display_data"
    }
   ],
   "source": [
    "from matplotlib.patches import Rectangle\n",
    "fig, ax = plt.subplots(1,1, figsize=(5.6,4.2), sharey=True)\n",
    "ax.scatter([1.5],[1.5], s=5, color='k')\n",
    "ax.annotate('$-6$',(1.42,1.3), fontsize=14)\n",
    "ax.scatter([0.5],[1.5], s=5, color='k')\n",
    "ax.annotate('$-10$',(0.38,1.3), fontsize=14)\n",
    "ax.scatter([1.5],[0.5], s=5, color='k')\n",
    "ax.annotate('$+5$',(1.5,0.32), fontsize=14)\n",
    "ax.add_patch(Rectangle((2.03, 2.065), 0.93, 1.95,\n",
    "             facecolor = 'blue',\n",
    "             edgecolor = 'blue',\n",
    "             fill=False, alpha=1,\n",
    "             lw=3))   \n",
    "ax.plot((0,2),(0.988,0.988), c='blue', linewidth=2, alpha=1,label='$-10.3$ if $x_2\\geq1$\\n$+4.7$   if $x_1\\geq1$') # horizontal blue\n",
    "ax.plot((0,2),(1.012,1.012), c='r', linewidth=2, alpha=0.8, label='$- 8$ if $x_2\\geq 1$\\n$+5$ if $x_1\\geq1$ & $x_2\\leq1$') # horizontal red\n",
    "ax.arrow(0.8,0.99,0,0.22,color='blue', linewidth=1.4, head_width=0.04, head_length=0.12, alpha=1) # arrow vertical red\n",
    "ax.arrow(0.65,1,0,0.2,color='r', linewidth=1.4, head_width=0.04, head_length=0.12, alpha=0.8) # arrow vertical red\n",
    "ax.arrow(1.0,1.6,0.15,0,color='blue', linewidth=1.4, head_width=0.06, head_length=0.08) # arrow horizontal blue\n",
    "ax.plot((0.995, .995), (0,2),c='blue', linewidth=2) # vertical blue\n",
    "ax.add_patch(Rectangle((1.012, -0.5), 1.45, 1.465,\n",
    "             facecolor = 'red',\n",
    "             edgecolor = 'red',\n",
    "             fill=False, alpha=1,\n",
    "             lw=2))\n",
    "ax.arrow(1.02,0.7,0.148,0,color='r', linewidth=1.4, head_width=0.06, head_length=0.08)\n",
    "ax.set_xlim([0,2])\n",
    "ax.set_ylim([0,2])\n",
    "ax.set_xticklabels([0,1,2],fontsize=12)\n",
    "ax.set_yticklabels([0,1,2],fontsize=12)\n",
    "ax.set_xticks([0,1,2])\n",
    "ax.set_yticks([0,1,2])\n",
    "ax.set_xlabel('$x_1$', fontsize=14)\n",
    "ax.set_ylabel('$x_2$', fontsize=14)\n",
    "ax.legend(loc='lower left', fontsize=14, frameon=False)\n",
    "# plt.savefig('demo_1_point_rules.pdf', bbox_inches='tight', pad_inches=0)"
   ]
  },
  {
   "cell_type": "code",
   "execution_count": 5,
   "id": "e47d5747",
   "metadata": {},
   "outputs": [
    {
     "name": "stderr",
     "output_type": "stream",
     "text": [
      "/tmp/ipykernel_1112/2594595064.py:29: UserWarning: FixedFormatter should only be used together with FixedLocator\n",
      "  ax.set_xticklabels([0,1,2],fontsize=12)\n",
      "/tmp/ipykernel_1112/2594595064.py:30: UserWarning: FixedFormatter should only be used together with FixedLocator\n",
      "  ax.set_yticklabels([0,1,2],fontsize=12)\n"
     ]
    },
    {
     "data": {
      "image/png": "[encoded data removed]",
      "text/plain": [
       "<Figure size 403.2x288 with 1 Axes>"
      ]
     },
     "metadata": {
      "needs_background": "light"
     },
     "output_type": "display_data"
    }
   ],
   "source": [
    "from matplotlib.patches import Rectangle\n",
    "fig, ax = plt.subplots(1,1, figsize=(5.6, 4.0), sharey=True)\n",
    "ax.scatter([1.5],[1.5], s=5, color='k')\n",
    "ax.annotate('$-6$',(1.42,1.3), fontsize=14)\n",
    "ax.scatter([0.5],[1.5], s=5, color='k')\n",
    "ax.annotate('$-10$',(0.38,1.3), fontsize=14)\n",
    "ax.scatter([1.5],[0.5], s=5, color='k')\n",
    "ax.annotate('$+5$',(1.5,0.32), fontsize=14)\n",
    "ax.add_patch(Rectangle((2.03, 2.065), 0.93, 1.95,\n",
    "             facecolor = 'blue',\n",
    "             edgecolor = 'blue',\n",
    "             fill=False, alpha=1,\n",
    "             lw=3))   \n",
    "ax.plot((0,2),(0.988,0.988), c='blue', linewidth=2, alpha=1,label='$-10.3$ if $x_2\\geq1$\\n$+4.7$   if $x_1\\geq1$') # horizontal blue\n",
    "# ax.plot((100),(100), c='black', label=' ', alpha=0)\n",
    "ax.plot((0,2),(1.012,1.012), c='r', linewidth=2, alpha=0.8, label='$- 8$ if $x_2\\geq 1$\\n$+5$ if $x_1\\geq1$ & $x_2\\leq1$') # horizontal red\n",
    "ax.arrow(0.8,0.99,0,0.22,color='blue', linewidth=1.4, head_width=0.04, head_length=0.12, alpha=1) # arrow vertical red\n",
    "ax.arrow(0.65,1,0,0.2,color='r', linewidth=1.4, head_width=0.04, head_length=0.12, alpha=0.8) # arrow vertical red\n",
    "ax.arrow(1.0,1.6,0.15,0,color='blue', linewidth=1.4, head_width=0.06, head_length=0.08) # arrow horizontal blue\n",
    "ax.plot((0.995, .995), (0,2),c='blue', linewidth=2) # vertical blue\n",
    "ax.add_patch(Rectangle((1.012, -0.5), 1.45, 1.465,\n",
    "             facecolor = 'red',\n",
    "             edgecolor = 'red',\n",
    "             fill=False, alpha=1,\n",
    "             lw=2))\n",
    "ax.arrow(1.6,0.99,0, -.22,color='r', linewidth=1.4, head_width=0.04, head_length=0.12)\n",
    "ax.set_xlim([0,2])\n",
    "ax.set_ylim([0,2])\n",
    "ax.set_xticklabels([0,1,2],fontsize=12)\n",
    "ax.set_yticklabels([0,1,2],fontsize=12)\n",
    "ax.set_xticks([0,1,2])\n",
    "ax.set_yticks([0,1,2])\n",
    "ax.set_xlabel('$x_1$', fontsize=14)\n",
    "ax.set_ylabel('$x_2$', fontsize=14)\n",
    "ax.legend(loc='lower left',handlelength=1.4, labelspacing=0.9, fontsize=14, frameon=True)\n",
    "plt.savefig('demo_1_point_rules.pdf', bbox_inches='tight', pad_inches=0)"
   ]
  },
  {
   "cell_type": "code",
   "execution_count": null,
   "id": "4da7b56a",
   "metadata": {},
   "outputs": [],
   "source": []
  },
  {
   "cell_type": "code",
   "execution_count": 6,
   "id": "e5e918f4",
   "metadata": {},
   "outputs": [
    {
     "data": {
      "image/png": "[encoded data removed]",
      "text/plain": [
       "<Figure size 288x216 with 4 Axes>"
      ]
     },
     "metadata": {
      "needs_background": "light"
     },
     "output_type": "display_data"
    }
   ],
   "source": [
    "from matplotlib.patches import Rectangle\n",
    "import matplotlib.pyplot as plt\n",
    "\n",
    "fig, ax = plt.subplots(1,1, figsize=(4,3), sharex=True)\n",
    "ax.set_axis_off()\n",
    "ax0=fig.add_axes([0.6,0,0.35,0.35])\n",
    "ax1=fig.add_axes([0.6,0.5,0.35,0.35])\n",
    "ax2=fig.add_axes([0, 0.25, 0.35, 0.35])\n",
    "axs=[ax0, ax1, ax2]\n",
    "for i in range(3):\n",
    "    axs[i].scatter([1.5],[1.5],c='k')\n",
    "    axs[i].scatter([1.5],[0.5],c='k')\n",
    "    axs[i].scatter([0.5],[1.5],c='k')\n",
    "    axs[i].add_patch(Rectangle((0.01, 1.01), 1.99, 0.99,\n",
    "                 facecolor = 'purple',\n",
    "                 edgecolor = 'purple',\n",
    "                 fill=True, alpha=0.4,\n",
    "                 lw=2))\n",
    "    axs[i].set_xlim([0,2])\n",
    "    axs[i].set_ylim([0,2])\n",
    "#     axs[i].set_xlabel(r'$x_1$')\n",
    "#     axs[i].set_ylabel(r'$x_2$')\n",
    "axs[1].tick_params(labelbottom = False)\n",
    "axs[1].add_patch(Rectangle((1.00, 0.00), 1, 0.99,\n",
    "             facecolor = 'red',\n",
    "             edgecolor = 'red',\n",
    "             fill=True, alpha=0.4,\n",
    "             lw=2))\n",
    "axs[0].add_patch(Rectangle((1.0, 0.00), 1, 1.98,\n",
    "             facecolor = 'green',\n",
    "             edgecolor = 'green',\n",
    "             fill=True, alpha=0.4,\n",
    "             lw=2))\n",
    "ax.annotate('',  xy=(0.55, 0.65), \n",
    "                        xytext=(0.3, 0.45), fontsize=4, \n",
    "                         arrowprops=dict(arrowstyle=\"-|>,head_length=2,head_width=0.5\",\n",
    "                                         connectionstyle=\"arc3\", facecolor='black'))\n",
    "ax.annotate('',  xy=(0.55, 0.15), \n",
    "                        xytext=(0.3, 0.35), fontsize=4, \n",
    "                         arrowprops=dict(arrowstyle=\"-|>,head_length=2,head_width=0.5\",\n",
    "                                         connectionstyle=\"arc3\", facecolor='black'))\n",
    "bbox_props = dict( fc=\"w\", ec=\"w\", alpha=0)\n",
    "ax.text(0.37,.56, 'GB', bbox=bbox_props, fontsize=10)\n",
    "ax.text(0.35, .31, 'OGB', bbox=bbox_props, fontsize=10)\n",
    "plt.savefig('Figure2.2.pdf', dpi=fig.dpi, bbox_inches='tight',pad_inches=0.01)"
   ]
  },
  {
   "cell_type": "code",
   "execution_count": 12,
   "id": "acefaa44",
   "metadata": {},
   "outputs": [
    {
     "data": {
      "image/png": "[encoded data removed]",
      "text/plain": [
       "<Figure size 288x216 with 3 Axes>"
      ]
     },
     "metadata": {
      "needs_background": "light"
     },
     "output_type": "display_data"
    }
   ],
   "source": [
    "fig, ax = plt.subplots(1,1, figsize=(4,3), sharex=True)\n",
    "ax.set_axis_off()\n",
    "ax0=fig.add_axes([0,0,0.4,0.35])\n",
    "ax1=fig.add_axes([0,0.5,0.4,0.35])\n",
    "# ax2=fig.add_axes([0, 0.25, 0.35, 0.35])\n",
    "axs=[ax0, ax1, ax2]\n",
    "for i in range(3):\n",
    "    axs[i].scatter([1.5],[1.5],c='k')\n",
    "    axs[i].scatter([1.5],[0.5],c='k')\n",
    "    axs[i].scatter([0.5],[1.5],c='k')\n",
    "    axs[i].text(1.3, 1.1, '$-6$')\n",
    "    axs[i].text(1.3, 0.1, '$+5$')\n",
    "    axs[i].text(0.3, 1.1, '$-10$')\n",
    "    axs[i].add_patch(Rectangle((0.01, 1.01), 1.99, 0.99,\n",
    "                 facecolor = 'purple',\n",
    "                 edgecolor = 'purple',\n",
    "                 fill=True, alpha=0.4,\n",
    "                 lw=2))\n",
    "    axs[i].set_xlim([0,2])\n",
    "    axs[i].set_xlabel('$x_1$')\n",
    "    axs[i].set_ylabel('$x_2$')\n",
    "    axs[i].set_ylim([0,2])\n",
    "axs[1].add_patch(Rectangle((1.00, 0.00), 1, 0.99,\n",
    "             facecolor = 'red',\n",
    "             edgecolor = 'red',\n",
    "             fill=True, alpha=0.4,\n",
    "             lw=2))\n",
    "axs[0].add_patch(Rectangle((1.0, 0.00), 1, 1.98,\n",
    "             facecolor = 'green',\n",
    "             edgecolor = 'green',\n",
    "             fill=True, alpha=0.4,\n",
    "             lw=2))\n",
    "axs[1].tick_params(labelbottom = False)\n",
    "# ax.annotate('',  xy=(0.55, 0.65), \n",
    "#                         xytext=(0.3, 0.45), fontsize=4, \n",
    "#                          arrowprops=dict(arrowstyle=\"-|>,head_length=2,head_width=0.5\",\n",
    "#                                          connectionstyle=\"arc3\", facecolor='black'))\n",
    "# ax.annotate('',  xy=(0.55, 0.15), \n",
    "#                         xytext=(0.3, 0.35), fontsize=4, \n",
    "#                          arrowprops=dict(arrowstyle=\"-|>,head_length=2,head_width=0.5\",\n",
    "#                                          connectionstyle=\"arc3\", facecolor='black'))\n",
    "# bbox_props = dict( fc=\"w\", ec=\"w\", alpha=0)\n",
    "# ax.plot((0,2),(0.988,0.988), c='blue', linewidth=2, alpha=1,label='$-10.3$ if $x_2\\geq1$\\n$+4.7$   if $x_1\\geq1$') # horizontal blue\n",
    "# # ax.plot((100),(100), c='black', label=' ', alpha=0)\n",
    "# ax.plot((0,2),(1.012,1.012), c='r', linewidth=2, alpha=0.8, label='$- 8$ if $x_2\\geq 1$\\n$+5$ if $x_1\\geq1$ & $x_2\\leq1$') # horizontal red\n",
    "\n",
    "ax.text(0.42,.62, 'obj$_{gb}$\\n$- 8$ if $x_2\\geq 1$\\n$+5$ if $x_1\\geq1$ & $x_2\\leq1$', bbox=bbox_props, fontsize=12)\n",
    "ax.text(0.42, -0.05, 'obj$_{ogb}$\\n$-10.3$ if $x_2\\geq1$\\n$+4.7$ if $x_1\\geq1$', bbox=bbox_props, fontsize=12)\n",
    "plt.savefig('Figure2.1.pdf', dpi=fig.dpi, bbox_inches='tight',pad_inches=0.01)"
   ]
  },
  {
   "cell_type": "code",
   "execution_count": null,
   "id": "18e37f7f",
   "metadata": {},
   "outputs": [],
   "source": []
  }
 ],
 "metadata": {
  "kernelspec": {
   "display_name": "Python 3 (ipykernel)",
   "language": "python",
   "name": "python3"
  },
  "language_info": {
   "codemirror_mode": {
    "name": "ipython",
    "version": 3
   },
   "file_extension": ".py",
   "mimetype": "text/x-python",
   "name": "python",
   "nbconvert_exporter": "python",
   "pygments_lexer": "ipython3",
   "version": "3.8.10"
  }
 },
 "nbformat": 4,
 "nbformat_minor": 5
}
